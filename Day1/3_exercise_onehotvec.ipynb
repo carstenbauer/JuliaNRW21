{
 "cells": [
  {
   "cell_type": "markdown",
   "metadata": {},
   "source": [
    "# Exercise: One-hot vector\n",
    "\n",
    "[One-hot encoding](https://en.wikipedia.org/wiki/One-hot) is useful in machine learning.\n",
    "\n",
    "It simply means that among a group of bits (all either 0 or 1) only one is hot (1) while all others are cold (0),\n",
    "\n",
    "`v = [0, 0, 0, 0, 0, 1, 0, 0, 0]`\n",
    "\n",
    "### Task\n",
    "\n",
    "1. Think about what information an implementation of a one-hot vector actually has to store.\n",
    "2. Define a `OneHot` type which represents a vector with only a single hot (i.e. `== 1`) bit.\n",
    "3. Extend all the necessary `Base` functions such that the following computation works for a matrix `A` and a vector of `OneHot` vectors `vs` (i.e. `vs isa Vector{OneHot}`).\n",
    "\n",
    "    ```julia\n",
    "    function innersum(A, vs)\n",
    "        t = zero(eltype(A)) # generic!\n",
    "        for v in vs\n",
    "            y = A*v\n",
    "            for i in 1:length(vs[1])\n",
    "                t += v[i] * y[i]\n",
    "            end\n",
    "        end\n",
    "        return t\n",
    "    end\n",
    "\n",
    "    A = rand(3,3)\n",
    "    vs = [rand(3) for _ = 1:10] # This should be replaced by a `Vector{OneHot}`\n",
    "\n",
    "    innersum(A, vs)\n",
    "\n",
    "    ```\n",
    "\n",
    "4. Benchmark the speed of `innersum` when called with a `OneHot` vector or with a `Vector{Float64}`, respectively.\n",
    " * Do you observe a speed up?\n",
    "\n",
    "\n",
    "5. Now, define a `OneHotVector` type which is identical to `OneHot` but is declared to be a subtype of `AbstractVector{Bool}` and extend only the functions `Base.getindex(v::OneHotVector, i::Int)` and `Base.size(v::OneHotVector)`.\n",
    " * Here, the function `size` should return a `Tuple{Int64}` indicating the length of the vector, i.e. `(3,)` for a one-hot vector of length 3 (see the [AbstractArray interface](https://docs.julialang.org/en/v1/manual/interfaces/#man-interface-array-1) for more information)\n",
    " \n",
    "\n",
    "6. Try to create a single `OneHotVector` and try to run the `innersum` function using the new `OneHotVector` type.\n",
    " * What changes do you observe?\n",
    " * Do you have to implement any further methods?"
   ]
  }
 ],
 "metadata": {
  "kernelspec": {
   "display_name": "Julia 1.5.3",
   "language": "julia",
   "name": "julia-1.5"
  },
  "language_info": {
   "file_extension": ".jl",
   "mimetype": "application/julia",
   "name": "julia",
   "version": "1.5.3"
  }
 },
 "nbformat": 4,
 "nbformat_minor": 4
}
