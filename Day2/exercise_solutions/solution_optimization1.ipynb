{
 "cells": [
  {
   "cell_type": "markdown",
   "metadata": {},
   "source": [
    "# Performance optimization exercise 1"
   ]
  },
  {
   "cell_type": "markdown",
   "metadata": {},
   "source": [
    "Optimize the following code.\n",
    "\n",
    "(The type and size of the input is fixed/may not be changed.)"
   ]
  },
  {
   "cell_type": "code",
   "execution_count": 74,
   "metadata": {},
   "outputs": [],
   "source": [
    "function work!(A, N)\n",
    "    D = zeros(N,N)\n",
    "    for i in 1:N\n",
    "        D = b[i]*c*A\n",
    "        b[i] = sum(D)\n",
    "    end\n",
    "end\n",
    "\n",
    "N = 100\n",
    "A = rand(N,N)\n",
    "b = rand(N)\n",
    "c = 1.23\n",
    "\n",
    "work!(A,N)"
   ]
  },
  {
   "cell_type": "code",
   "execution_count": 75,
   "metadata": {},
   "outputs": [
    {
     "name": "stdout",
     "output_type": "stream",
     "text": [
      "  2.796 ms (502 allocations: 7.72 MiB)\n"
     ]
    }
   ],
   "source": [
    "using BenchmarkTools\n",
    "@btime work!($A, $N);"
   ]
  },
  {
   "cell_type": "markdown",
   "metadata": {},
   "source": [
    "## Optimizations"
   ]
  },
  {
   "cell_type": "markdown",
   "metadata": {},
   "source": [
    "### Avoiding globals"
   ]
  },
  {
   "cell_type": "code",
   "execution_count": 76,
   "metadata": {},
   "outputs": [
    {
     "name": "stdout",
     "output_type": "stream",
     "text": [
      "Variables\n",
      "  #self#\u001b[36m::Core.Compiler.Const(work!, false)\u001b[39m\n",
      "  A\u001b[36m::Array{Float64,2}\u001b[39m\n",
      "  N\u001b[36m::Int64\u001b[39m\n",
      "  D\u001b[91m\u001b[1m::Any\u001b[22m\u001b[39m\n",
      "  @_5\u001b[33m\u001b[1m::Union{Nothing, Tuple{Int64,Int64}}\u001b[22m\u001b[39m\n",
      "  i\u001b[36m::Int64\u001b[39m\n",
      "\n",
      "Body\u001b[36m::Nothing\u001b[39m\n",
      "\u001b[90m1 ─\u001b[39m       (D = Main.zeros(N, N))\n",
      "\u001b[90m│  \u001b[39m %2  = (1:N)\u001b[36m::Core.Compiler.PartialStruct(UnitRange{Int64}, Any[Core.Compiler.Const(1, false), Int64])\u001b[39m\n",
      "\u001b[90m│  \u001b[39m       (@_5 = Base.iterate(%2))\n",
      "\u001b[90m│  \u001b[39m %4  = (@_5 === nothing)\u001b[36m::Bool\u001b[39m\n",
      "\u001b[90m│  \u001b[39m %5  = Base.not_int(%4)\u001b[36m::Bool\u001b[39m\n",
      "\u001b[90m└──\u001b[39m       goto #4 if not %5\n",
      "\u001b[90m2 ┄\u001b[39m %7  = @_5::Tuple{Int64,Int64}\u001b[36m::Tuple{Int64,Int64}\u001b[39m\n",
      "\u001b[90m│  \u001b[39m       (i = Core.getfield(%7, 1))\n",
      "\u001b[90m│  \u001b[39m %9  = Core.getfield(%7, 2)\u001b[36m::Int64\u001b[39m\n",
      "\u001b[90m│  \u001b[39m %10 = Base.getindex(Main.b, i)\u001b[91m\u001b[1m::Any\u001b[22m\u001b[39m\n",
      "\u001b[90m│  \u001b[39m       (D = %10 * Main.c * A)\n",
      "\u001b[90m│  \u001b[39m %12 = Main.sum(D)\u001b[91m\u001b[1m::Any\u001b[22m\u001b[39m\n",
      "\u001b[90m│  \u001b[39m       Base.setindex!(Main.b, %12, i)\n",
      "\u001b[90m│  \u001b[39m       (@_5 = Base.iterate(%2, %9))\n",
      "\u001b[90m│  \u001b[39m %15 = (@_5 === nothing)\u001b[36m::Bool\u001b[39m\n",
      "\u001b[90m│  \u001b[39m %16 = Base.not_int(%15)\u001b[36m::Bool\u001b[39m\n",
      "\u001b[90m└──\u001b[39m       goto #4 if not %16\n",
      "\u001b[90m3 ─\u001b[39m       goto #2\n",
      "\u001b[90m4 ┄\u001b[39m       return\n"
     ]
    }
   ],
   "source": [
    "@code_warntype work!(A,N)"
   ]
  },
  {
   "cell_type": "code",
   "execution_count": 77,
   "metadata": {},
   "outputs": [
    {
     "data": {
      "text/plain": [
       "work1! (generic function with 2 methods)"
      ]
     },
     "execution_count": 77,
     "metadata": {},
     "output_type": "execute_result"
    }
   ],
   "source": [
    "function work1!(A, N, b, c)\n",
    "    D = zeros(N,N)\n",
    "    for i in 1:N\n",
    "        D = b[i]*A\n",
    "        b[i] = sum(D)\n",
    "    end\n",
    "end"
   ]
  },
  {
   "cell_type": "code",
   "execution_count": 78,
   "metadata": {},
   "outputs": [
    {
     "name": "stdout",
     "output_type": "stream",
     "text": [
      "Variables\n",
      "  #self#\u001b[36m::Core.Compiler.Const(work1!, false)\u001b[39m\n",
      "  A\u001b[36m::Array{Float64,2}\u001b[39m\n",
      "  N\u001b[36m::Int64\u001b[39m\n",
      "  b\u001b[36m::Array{Float64,1}\u001b[39m\n",
      "  c\u001b[36m::Float64\u001b[39m\n",
      "  D\u001b[36m::Array{Float64,2}\u001b[39m\n",
      "  @_7\u001b[33m\u001b[1m::Union{Nothing, Tuple{Int64,Int64}}\u001b[22m\u001b[39m\n",
      "  i\u001b[36m::Int64\u001b[39m\n",
      "\n",
      "Body\u001b[36m::Nothing\u001b[39m\n",
      "\u001b[90m1 ─\u001b[39m       (D = Main.zeros(N, N))\n",
      "\u001b[90m│  \u001b[39m %2  = (1:N)\u001b[36m::Core.Compiler.PartialStruct(UnitRange{Int64}, Any[Core.Compiler.Const(1, false), Int64])\u001b[39m\n",
      "\u001b[90m│  \u001b[39m       (@_7 = Base.iterate(%2))\n",
      "\u001b[90m│  \u001b[39m %4  = (@_7 === nothing)\u001b[36m::Bool\u001b[39m\n",
      "\u001b[90m│  \u001b[39m %5  = Base.not_int(%4)\u001b[36m::Bool\u001b[39m\n",
      "\u001b[90m└──\u001b[39m       goto #4 if not %5\n",
      "\u001b[90m2 ┄\u001b[39m %7  = @_7::Tuple{Int64,Int64}\u001b[36m::Tuple{Int64,Int64}\u001b[39m\n",
      "\u001b[90m│  \u001b[39m       (i = Core.getfield(%7, 1))\n",
      "\u001b[90m│  \u001b[39m %9  = Core.getfield(%7, 2)\u001b[36m::Int64\u001b[39m\n",
      "\u001b[90m│  \u001b[39m %10 = Base.getindex(b, i)\u001b[36m::Float64\u001b[39m\n",
      "\u001b[90m│  \u001b[39m       (D = %10 * A)\n",
      "\u001b[90m│  \u001b[39m %12 = Main.sum(D)\u001b[36m::Float64\u001b[39m\n",
      "\u001b[90m│  \u001b[39m       Base.setindex!(b, %12, i)\n",
      "\u001b[90m│  \u001b[39m       (@_7 = Base.iterate(%2, %9))\n",
      "\u001b[90m│  \u001b[39m %15 = (@_7 === nothing)\u001b[36m::Bool\u001b[39m\n",
      "\u001b[90m│  \u001b[39m %16 = Base.not_int(%15)\u001b[36m::Bool\u001b[39m\n",
      "\u001b[90m└──\u001b[39m       goto #4 if not %16\n",
      "\u001b[90m3 ─\u001b[39m       goto #2\n",
      "\u001b[90m4 ┄\u001b[39m       return\n"
     ]
    }
   ],
   "source": [
    "@code_warntype work1!(A,N,b,c)"
   ]
  },
  {
   "cell_type": "code",
   "execution_count": 79,
   "metadata": {},
   "outputs": [
    {
     "name": "stdout",
     "output_type": "stream",
     "text": [
      "  2.774 ms (202 allocations: 7.71 MiB)\n"
     ]
    }
   ],
   "source": [
    "@btime work1!($A, $N, $b, $c);"
   ]
  },
  {
   "cell_type": "markdown",
   "metadata": {},
   "source": [
    "### Avoiding globals + temporary allocations"
   ]
  },
  {
   "cell_type": "code",
   "execution_count": 46,
   "metadata": {},
   "outputs": [
    {
     "name": "stdout",
     "output_type": "stream",
     "text": [
      "  258.407 μs (2 allocations: 78.20 KiB)\n"
     ]
    }
   ],
   "source": [
    "function work2!(A, N, b)\n",
    "    D = zeros(N,N)\n",
    "    for i in 1:N\n",
    "        @. D = b[i]*A\n",
    "        b[i] = sum(D)\n",
    "    end\n",
    "end\n",
    "\n",
    "@btime work2!($A, $N, $b);"
   ]
  },
  {
   "cell_type": "code",
   "execution_count": 47,
   "metadata": {},
   "outputs": [
    {
     "name": "stdout",
     "output_type": "stream",
     "text": [
      "  236.812 μs (2 allocations: 78.20 KiB)\n"
     ]
    }
   ],
   "source": [
    "function work3!(A, N, b, c)\n",
    "    D = zeros(N,N)\n",
    "    for i in 1:N\n",
    "        @inbounds for j in eachindex(D)\n",
    "            D[j] = b[i]*c*A[j]\n",
    "        end\n",
    "        b[i] = sum(D)\n",
    "    end\n",
    "end\n",
    "\n",
    "@btime work3!($A, $N, $b, $c);"
   ]
  },
  {
   "cell_type": "markdown",
   "metadata": {},
   "source": [
    "### Avoiding globals + temporary allocations and merging `sum` with loop"
   ]
  },
  {
   "cell_type": "code",
   "execution_count": 50,
   "metadata": {},
   "outputs": [
    {
     "name": "stdout",
     "output_type": "stream",
     "text": [
      "  148.491 μs (2 allocations: 78.20 KiB)\n"
     ]
    }
   ],
   "source": [
    "function work4!(A, N, b, c)\n",
    "    D = zeros(N,N)\n",
    "    for i in 1:N\n",
    "        s = 0.0\n",
    "        @inbounds @simd for j in eachindex(D)\n",
    "            D[j] = b[i]*c*A[j]\n",
    "            s += D[j]\n",
    "        end\n",
    "        b[i] = s\n",
    "    end\n",
    "end\n",
    "\n",
    "@btime work4!($A, $N, $b, $c);"
   ]
  }
 ],
 "metadata": {
  "@webio": {
   "lastCommId": null,
   "lastKernelId": null
  },
  "kernelspec": {
   "display_name": "Julia 1.5.3",
   "language": "julia",
   "name": "julia-1.5"
  },
  "language_info": {
   "file_extension": ".jl",
   "mimetype": "application/julia",
   "name": "julia",
   "version": "1.5.3"
  }
 },
 "nbformat": 4,
 "nbformat_minor": 4
}
