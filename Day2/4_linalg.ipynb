{
 "cells": [
  {
   "cell_type": "markdown",
   "metadata": {},
   "source": [
    "# Linear Algebra"
   ]
  },
  {
   "cell_type": "markdown",
   "metadata": {},
   "source": [
    "After `using LinearAlgebra`, **Julia speaks linear algebra fluently**.\n",
    "\n",
    "Performing linear algebra operations on a computer is, of course, an old problem. Lots of amazing libraries have been written - mostly in Fortran - which have been optimized over decades.\n",
    "\n",
    "Basically all high-level programming languages use these libraries, including R, Python, and Julia.\n",
    "\n",
    "Linear algebra in Julia is largely implemented by calling [BLAS](http://www.netlib.org/blas/)/[LAPACK](http://www.netlib.org/lapack/) functions. Sparse operations utilize functionality in [SuiteSparse](http://faculty.cse.tamu.edu/davis/suitesparse.html).\n",
    "\n",
    "As per default, Julia uses the [OpenBLAS](https://github.com/xianyi/OpenBLAS) implementation (BLAS, LAPACK, LIBM), which can be replaced by [Intel's MKL](https://software.intel.com/en-us/mkl) (BLAS, LAPACK) and [Intel's Math Library](https://software.intel.com/en-us/node/522653) (LIBM).\n",
    "\n",
    "**What is all this stuff?!?**\n",
    "\n",
    "* **BLAS**: a collection of low-level matrix and vector arithmetic operations (\"multiply two matrices\", \"multiply a matrix by vector\").\n",
    "* **LAPACK**:  a collection of higher-level linear algebra operations. Things like matrix factorizations (LU, LLt, QR, SVD, Schur, etc) that are used to do things like “find the eigenvalues of a matrix”, or “find the singular values of a matrix”, or “solve a linear system”.\n",
    "* **LIBM**: basic math functions like `sin`, `cos`, `sinh`, etcetera\n",
    "\n",
    "Sparse matrices are more difficult and there exist different collections of routines, one of which is **SuiteSparse**.\n",
    "\n",
    "**Why do I have to care?**\n",
    "\n",
    "* Switching from OpenBLAS to MKL can give you large speedups!\n",
    "* Since you might be leaving the world of Julia code, you loose easy inspectability and type genericity. The latter can be an issue for machine learning, as we'll discuss later in more detail."
   ]
  },
  {
   "cell_type": "markdown",
   "metadata": {},
   "source": [
    "# Taking linear algebra seriously"
   ]
  },
  {
   "cell_type": "markdown",
   "metadata": {},
   "source": [
    "Julia is [taking linear algebra seriously](https://www.youtube.com/watch?v=C2RO34b_oPM)! (see [here](https://github.com/JuliaLang/julia/issues/4774), and [here](https://github.com/JuliaLang/julia/issues/20978))."
   ]
  },
  {
   "cell_type": "code",
   "execution_count": 1,
   "metadata": {},
   "outputs": [],
   "source": [
    "using LinearAlgebra"
   ]
  },
  {
   "cell_type": "code",
   "execution_count": 2,
   "metadata": {},
   "outputs": [
    {
     "data": {
      "text/plain": [
       "4×4 Array{Float64,2}:\n",
       " 0.312523  0.841416  0.589068   0.941542\n",
       " 0.113238  0.284005  0.589186   0.670919\n",
       " 0.21455   0.68334   0.0330208  0.868224\n",
       " 0.669114  0.932694  0.887386   0.722942"
      ]
     },
     "execution_count": 2,
     "metadata": {},
     "output_type": "execute_result"
    }
   ],
   "source": [
    "A = rand(4,4)"
   ]
  },
  {
   "cell_type": "code",
   "execution_count": 3,
   "metadata": {},
   "outputs": [
    {
     "data": {
      "text/plain": [
       "Array{Float64,2}"
      ]
     },
     "execution_count": 3,
     "metadata": {},
     "output_type": "execute_result"
    }
   ],
   "source": [
    "typeof(A)"
   ]
  },
  {
   "cell_type": "code",
   "execution_count": 4,
   "metadata": {},
   "outputs": [
    {
     "data": {
      "text/plain": [
       "true"
      ]
     },
     "execution_count": 4,
     "metadata": {},
     "output_type": "execute_result"
    }
   ],
   "source": [
    "Array{Float64, 2} === Matrix{Float64} # equivalent not just equal"
   ]
  },
  {
   "cell_type": "code",
   "execution_count": 5,
   "metadata": {},
   "outputs": [
    {
     "data": {
      "text/plain": [
       "-0.04758149937133032"
      ]
     },
     "execution_count": 5,
     "metadata": {},
     "output_type": "execute_result"
    }
   ],
   "source": [
    "det(A)"
   ]
  },
  {
   "cell_type": "code",
   "execution_count": 6,
   "metadata": {},
   "outputs": [
    {
     "data": {
      "text/plain": [
       "4×4 Array{Float64,2}:\n",
       " -7.56996   2.09682    3.67784   3.49607\n",
       "  5.86921  -3.69846   -2.38118  -1.3519\n",
       "  1.83531   0.368315  -2.05896  -0.259349\n",
       " -2.81855   2.37873    2.19536   0.209956"
      ]
     },
     "execution_count": 6,
     "metadata": {},
     "output_type": "execute_result"
    }
   ],
   "source": [
    "inv(A)"
   ]
  },
  {
   "cell_type": "code",
   "execution_count": 7,
   "metadata": {},
   "outputs": [
    {
     "data": {
      "text/plain": [
       "4"
      ]
     },
     "execution_count": 7,
     "metadata": {},
     "output_type": "execute_result"
    }
   ],
   "source": [
    "rank(A)"
   ]
  },
  {
   "cell_type": "markdown",
   "metadata": {},
   "source": [
    "Let's get a vector as well"
   ]
  },
  {
   "cell_type": "code",
   "execution_count": 8,
   "metadata": {},
   "outputs": [
    {
     "data": {
      "text/plain": [
       "4-element Array{Float64,1}:\n",
       " 0.1630923622842968\n",
       " 0.9931388457640886\n",
       " 0.13961529011608964\n",
       " 0.7643990719440354"
      ]
     },
     "execution_count": 8,
     "metadata": {},
     "output_type": "execute_result"
    }
   ],
   "source": [
    "v = rand(4)"
   ]
  },
  {
   "cell_type": "code",
   "execution_count": 9,
   "metadata": {},
   "outputs": [
    {
     "data": {
      "text/plain": [
       "Array{Float64,1}"
      ]
     },
     "execution_count": 9,
     "metadata": {},
     "output_type": "execute_result"
    }
   ],
   "source": [
    "typeof(v)"
   ]
  },
  {
   "cell_type": "code",
   "execution_count": 10,
   "metadata": {},
   "outputs": [
    {
     "data": {
      "text/plain": [
       "true"
      ]
     },
     "execution_count": 10,
     "metadata": {},
     "output_type": "execute_result"
    }
   ],
   "source": [
    "Array{Float64,1} === Vector{Float64}"
   ]
  },
  {
   "cell_type": "code",
   "execution_count": 11,
   "metadata": {},
   "outputs": [
    {
     "data": {
      "text/plain": [
       "1.271503934726197"
      ]
     },
     "execution_count": 11,
     "metadata": {},
     "output_type": "execute_result"
    }
   ],
   "source": [
    "norm(v)"
   ]
  },
  {
   "cell_type": "code",
   "execution_count": 12,
   "metadata": {},
   "outputs": [
    {
     "ename": "LoadError",
     "evalue": "MethodError: no method matching ^(::Array{Float64,1}, ::Int64)\nClosest candidates are:\n  ^(!Matched::Float32, ::Integer) at math.jl:907\n  ^(!Matched::Float16, ::Integer) at math.jl:915\n  ^(!Matched::Regex, ::Integer) at regex.jl:729\n  ...",
     "output_type": "error",
     "traceback": [
      "MethodError: no method matching ^(::Array{Float64,1}, ::Int64)\nClosest candidates are:\n  ^(!Matched::Float32, ::Integer) at math.jl:907\n  ^(!Matched::Float16, ::Integer) at math.jl:915\n  ^(!Matched::Regex, ::Integer) at regex.jl:729\n  ...",
      "",
      "Stacktrace:",
      " [1] macro expansion at ./none:0 [inlined]",
      " [2] literal_pow(::typeof(^), ::Array{Float64,1}, ::Val{2}) at ./none:0",
      " [3] top-level scope at In[12]:1",
      " [4] include_string(::Function, ::Module, ::String, ::String) at ./loading.jl:1091"
     ]
    }
   ],
   "source": [
    "v^2 # can't square a vector"
   ]
  },
  {
   "cell_type": "code",
   "execution_count": 13,
   "metadata": {},
   "outputs": [
    {
     "data": {
      "text/plain": [
       "4-element Array{Float64,1}:\n",
       " 0.02659911863547232\n",
       " 0.9863247669656262\n",
       " 0.019492429234199877\n",
       " 0.5843059411889027"
      ]
     },
     "execution_count": 13,
     "metadata": {},
     "output_type": "execute_result"
    }
   ],
   "source": [
    "v.^2"
   ]
  },
  {
   "cell_type": "markdown",
   "metadata": {},
   "source": [
    "Some things might be suprising"
   ]
  },
  {
   "cell_type": "code",
   "execution_count": 14,
   "metadata": {},
   "outputs": [
    {
     "data": {
      "text/plain": [
       "1×4 Transpose{Float64,Array{Float64,1}}:\n",
       " 0.100878  0.614292  0.086357  0.472808"
      ]
     },
     "execution_count": 14,
     "metadata": {},
     "output_type": "execute_result"
    }
   ],
   "source": [
    "1/v"
   ]
  },
  {
   "cell_type": "markdown",
   "metadata": {},
   "source": [
    "But if it works, there is typically meaning to it. In this case it is calculating the [Moore-Penrose-Pseudoinverse](https://en.wikipedia.org/wiki/Moore%E2%80%93Penrose_inverse#Vectors) (`transpose(v)/sum(abs2,v)`)."
   ]
  },
  {
   "cell_type": "markdown",
   "metadata": {},
   "source": [
    "### Identity matrix: `UniformScaling` operator"
   ]
  },
  {
   "cell_type": "code",
   "execution_count": 15,
   "metadata": {},
   "outputs": [
    {
     "ename": "LoadError",
     "evalue": "MethodError: no method matching +(::Array{Float64,2}, ::Int64)\nFor element-wise addition, use broadcasting with dot syntax: array .+ scalar\nClosest candidates are:\n  +(::Any, ::Any, !Matched::Any, !Matched::Any...) at operators.jl:538\n  +(!Matched::Complex{Bool}, ::Real) at complex.jl:301\n  +(!Matched::Missing, ::Number) at missing.jl:115\n  ...",
     "output_type": "error",
     "traceback": [
      "MethodError: no method matching +(::Array{Float64,2}, ::Int64)\nFor element-wise addition, use broadcasting with dot syntax: array .+ scalar\nClosest candidates are:\n  +(::Any, ::Any, !Matched::Any, !Matched::Any...) at operators.jl:538\n  +(!Matched::Complex{Bool}, ::Real) at complex.jl:301\n  +(!Matched::Missing, ::Number) at missing.jl:115\n  ...",
      "",
      "Stacktrace:",
      " [1] top-level scope at In[15]:1",
      " [2] include_string(::Function, ::Module, ::String, ::String) at ./loading.jl:1091"
     ]
    }
   ],
   "source": [
    "A + 3"
   ]
  },
  {
   "cell_type": "code",
   "execution_count": 16,
   "metadata": {},
   "outputs": [
    {
     "data": {
      "text/plain": [
       "4×4 Array{Float64,2}:\n",
       " 3.31252  3.84142  3.58907  3.94154\n",
       " 3.11324  3.284    3.58919  3.67092\n",
       " 3.21455  3.68334  3.03302  3.86822\n",
       " 3.66911  3.93269  3.88739  3.72294"
      ]
     },
     "execution_count": 16,
     "metadata": {},
     "output_type": "execute_result"
    }
   ],
   "source": [
    "A .+ 3"
   ]
  },
  {
   "cell_type": "markdown",
   "metadata": {},
   "source": [
    "The `UniformScaling` operator **represents an identity matrix of any size** and is another great example of **duck typing**. It automatically gets loaded into scope when you do `using LinearAlgebra` and has the name `I`."
   ]
  },
  {
   "cell_type": "code",
   "execution_count": 17,
   "metadata": {},
   "outputs": [
    {
     "data": {
      "text/plain": [
       "UniformScaling{Bool}\n",
       "true*I"
      ]
     },
     "execution_count": 17,
     "metadata": {},
     "output_type": "execute_result"
    }
   ],
   "source": [
    "I"
   ]
  },
  {
   "cell_type": "markdown",
   "metadata": {},
   "source": [
    "Although it never actually materializes a full identity matrix it behaves like one."
   ]
  },
  {
   "cell_type": "code",
   "execution_count": 18,
   "metadata": {},
   "outputs": [
    {
     "data": {
      "text/plain": [
       "4×4 Array{Float64,2}:\n",
       " 3.31252   0.841416  0.589068  0.941542\n",
       " 0.113238  3.284     0.589186  0.670919\n",
       " 0.21455   0.68334   3.03302   0.868224\n",
       " 0.669114  0.932694  0.887386  3.72294"
      ]
     },
     "execution_count": 18,
     "metadata": {},
     "output_type": "execute_result"
    }
   ],
   "source": [
    "A + 3I"
   ]
  },
  {
   "cell_type": "code",
   "execution_count": 19,
   "metadata": {},
   "outputs": [
    {
     "data": {
      "text/plain": [
       "true"
      ]
     },
     "execution_count": 19,
     "metadata": {},
     "output_type": "execute_result"
    }
   ],
   "source": [
    "I * A == A"
   ]
  },
  {
   "cell_type": "markdown",
   "metadata": {},
   "source": [
    "Hence, we can calculate things like, say, `A-b*I` without ever allocating a dense identity matrix, which would take up $\\mathcal{O}(n^2)$ memory.\n",
    "\n",
    "Let's benchmark the performance difference!"
   ]
  },
  {
   "cell_type": "code",
   "execution_count": 20,
   "metadata": {},
   "outputs": [
    {
     "data": {
      "text/plain": [
       "4×4 Array{Float64,2}:\n",
       " 1.0  0.0  0.0  0.0\n",
       " 0.0  1.0  0.0  0.0\n",
       " 0.0  0.0  1.0  0.0\n",
       " 0.0  0.0  0.0  1.0"
      ]
     },
     "execution_count": 20,
     "metadata": {},
     "output_type": "execute_result"
    }
   ],
   "source": [
    "fullI = Matrix{Float64}(I, 4,4) # alternatively but slower, diagm(ones(4))"
   ]
  },
  {
   "cell_type": "code",
   "execution_count": 21,
   "metadata": {},
   "outputs": [
    {
     "data": {
      "text/plain": [
       "fast (generic function with 1 method)"
      ]
     },
     "execution_count": 21,
     "metadata": {},
     "output_type": "execute_result"
    }
   ],
   "source": [
    "fast(A) = A + 3*I"
   ]
  },
  {
   "cell_type": "code",
   "execution_count": 22,
   "metadata": {},
   "outputs": [
    {
     "data": {
      "text/plain": [
       "slow (generic function with 1 method)"
      ]
     },
     "execution_count": 22,
     "metadata": {},
     "output_type": "execute_result"
    }
   ],
   "source": [
    "slow(A, fullI) = A + 3*fullI"
   ]
  },
  {
   "cell_type": "code",
   "execution_count": 24,
   "metadata": {},
   "outputs": [
    {
     "data": {
      "text/plain": [
       "slower (generic function with 1 method)"
      ]
     },
     "execution_count": 24,
     "metadata": {},
     "output_type": "execute_result"
    }
   ],
   "source": [
    "function slower(A)\n",
    "    fullI = Matrix(1.0I, size(A)...)\n",
    "    A + 3*fullI\n",
    "end"
   ]
  },
  {
   "cell_type": "code",
   "execution_count": 25,
   "metadata": {},
   "outputs": [
    {
     "name": "stdout",
     "output_type": "stream",
     "text": [
      "  36.282 ns (1 allocation: 208 bytes)\n",
      "  124.563 ns (2 allocations: 416 bytes)\n",
      "  170.874 ns (3 allocations: 624 bytes)\n"
     ]
    }
   ],
   "source": [
    "using BenchmarkTools\n",
    "@btime fast($A);\n",
    "@btime slow($A, $fullI);\n",
    "@btime slower($A);"
   ]
  },
  {
   "cell_type": "markdown",
   "metadata": {},
   "source": [
    "# Fast linear algebra with multiple dispatch"
   ]
  },
  {
   "cell_type": "markdown",
   "metadata": {},
   "source": [
    "Utilizing the structure of matrices by typing them appropriately!"
   ]
  },
  {
   "cell_type": "code",
   "execution_count": 26,
   "metadata": {},
   "outputs": [
    {
     "data": {
      "text/plain": [
       "5×5 Diagonal{Int64,UnitRange{Int64}}:\n",
       " 1  ⋅  ⋅  ⋅  ⋅\n",
       " ⋅  2  ⋅  ⋅  ⋅\n",
       " ⋅  ⋅  3  ⋅  ⋅\n",
       " ⋅  ⋅  ⋅  4  ⋅\n",
       " ⋅  ⋅  ⋅  ⋅  5"
      ]
     },
     "execution_count": 26,
     "metadata": {},
     "output_type": "execute_result"
    }
   ],
   "source": [
    "D = Diagonal(1:5)"
   ]
  },
  {
   "cell_type": "code",
   "execution_count": 27,
   "metadata": {},
   "outputs": [
    {
     "data": {
      "text/plain": [
       "5×5 Array{Int64,2}:\n",
       " 1  0  0  0  0\n",
       " 0  2  0  0  0\n",
       " 0  0  3  0  0\n",
       " 0  0  0  4  0\n",
       " 0  0  0  0  5"
      ]
     },
     "execution_count": 27,
     "metadata": {},
     "output_type": "execute_result"
    }
   ],
   "source": [
    "Ddense = Matrix(D) # same matrix but type doesn't indicate diagonal structure"
   ]
  },
  {
   "cell_type": "code",
   "execution_count": 28,
   "metadata": {},
   "outputs": [
    {
     "data": {
      "text/plain": [
       "5-element Array{Float64,1}:\n",
       " 0.9193711068495507\n",
       " 0.6137210582245434\n",
       " 0.7900045596233616\n",
       " 0.5025947637095955\n",
       " 0.09751130085681292"
      ]
     },
     "execution_count": 28,
     "metadata": {},
     "output_type": "execute_result"
    }
   ],
   "source": [
    "b = rand(5)"
   ]
  },
  {
   "cell_type": "code",
   "execution_count": 29,
   "metadata": {},
   "outputs": [
    {
     "name": "stdout",
     "output_type": "stream",
     "text": [
      "  40.006 ns (1 allocation: 128 bytes)\n",
      "  61.197 ns (1 allocation: 128 bytes)\n"
     ]
    },
    {
     "data": {
      "text/plain": [
       "5-element Array{Float64,1}:\n",
       " 0.9193711068495507\n",
       " 1.2274421164490867\n",
       " 2.3700136788700847\n",
       " 2.010379054838382\n",
       " 0.4875565042840646"
      ]
     },
     "execution_count": 29,
     "metadata": {},
     "output_type": "execute_result"
    }
   ],
   "source": [
    "@btime $D*$b\n",
    "@btime $Ddense*$b"
   ]
  },
  {
   "cell_type": "markdown",
   "metadata": {},
   "source": [
    "What method does it dispatch to?"
   ]
  },
  {
   "cell_type": "code",
   "execution_count": 31,
   "metadata": {},
   "outputs": [],
   "source": [
    "@edit D*b"
   ]
  },
  {
   "cell_type": "code",
   "execution_count": null,
   "metadata": {},
   "outputs": [],
   "source": [
    "@which Ddense*b"
   ]
  },
  {
   "cell_type": "markdown",
   "metadata": {},
   "source": [
    "**Dense Diagonal** (`Ddense*b`)\n",
    "\n",
    "```julia\n",
    "function (*)(A::AbstractMatrix{T}, x::AbstractVector{S}) where {T,S}\n",
    "    TS = promote_op(matprod, T, S)\n",
    "    mul!(similar(x,TS,axes(A,1)),A,x)\n",
    "end\n",
    "```\n",
    "\n",
    "**Diagonal** (`D*b`)\n",
    "```julia\n",
    "(*)(D::Diagonal, V::AbstractVector) = D.diag .* V\n",
    "```"
   ]
  },
  {
   "cell_type": "markdown",
   "metadata": {},
   "source": [
    "There are a number of [special matrix](https://docs.julialang.org/en/v1/stdlib/LinearAlgebra/#Special-matrices) types are available out-of-the-box."
   ]
  },
  {
   "cell_type": "markdown",
   "metadata": {},
   "source": [
    "# Fermions hopping on a chain"
   ]
  },
  {
   "cell_type": "markdown",
   "metadata": {},
   "source": [
    "$$\\mathcal{H} = -t\\sum_{\\langle i,j \\rangle} c_i^\\dagger c_j + \\mu \\sum_i n_i$$\n",
    "\n",
    "Here, $t$ is the hopping amplitude, $\\mu$ is the chemical potential, and $c, c^\\dagger$ are creation and annihilation operators.\n",
    "\n",
    "For simplicity, we'll consider **open boundary conditions** (not periodic), in which case the Hamiltonian is tridiagonal.\n",
    "\n",
    "Since the fermions are *not* interacting, we can work in the *single particle basis* and do not have to worry about how to construct a basis for the many-body Fock space.\n",
    "\n",
    "We use the canonical cartesian basis in which one uses $0$s to indicate empty sites and a $1$ for the particle's site, i.e. $|00100\\rangle$ represents the basis state which has the particle exclusively on the 3rd site.\n",
    "\n",
    "If you aren't familiar with second quantization just think of $\\mathcal{H}$ as any quantum mechanical operator that can be represented as a matrix."
   ]
  },
  {
   "cell_type": "code",
   "execution_count": 32,
   "metadata": {},
   "outputs": [
    {
     "data": {
      "text/plain": [
       "100×100 Array{Float64,2}:\n",
       " -0.5  -1.0   0.0   0.0   0.0   0.0  …   0.0   0.0   0.0   0.0   0.0   0.0\n",
       " -1.0  -0.5  -1.0   0.0   0.0   0.0      0.0   0.0   0.0   0.0   0.0   0.0\n",
       "  0.0  -1.0  -0.5  -1.0   0.0   0.0      0.0   0.0   0.0   0.0   0.0   0.0\n",
       "  0.0   0.0  -1.0  -0.5  -1.0   0.0      0.0   0.0   0.0   0.0   0.0   0.0\n",
       "  0.0   0.0   0.0  -1.0  -0.5  -1.0      0.0   0.0   0.0   0.0   0.0   0.0\n",
       "  0.0   0.0   0.0   0.0  -1.0  -0.5  …   0.0   0.0   0.0   0.0   0.0   0.0\n",
       "  0.0   0.0   0.0   0.0   0.0  -1.0      0.0   0.0   0.0   0.0   0.0   0.0\n",
       "  0.0   0.0   0.0   0.0   0.0   0.0      0.0   0.0   0.0   0.0   0.0   0.0\n",
       "  0.0   0.0   0.0   0.0   0.0   0.0      0.0   0.0   0.0   0.0   0.0   0.0\n",
       "  0.0   0.0   0.0   0.0   0.0   0.0      0.0   0.0   0.0   0.0   0.0   0.0\n",
       "  0.0   0.0   0.0   0.0   0.0   0.0  …   0.0   0.0   0.0   0.0   0.0   0.0\n",
       "  0.0   0.0   0.0   0.0   0.0   0.0      0.0   0.0   0.0   0.0   0.0   0.0\n",
       "  0.0   0.0   0.0   0.0   0.0   0.0      0.0   0.0   0.0   0.0   0.0   0.0\n",
       "  ⋮                             ⋮    ⋱         ⋮                      \n",
       "  0.0   0.0   0.0   0.0   0.0   0.0      0.0   0.0   0.0   0.0   0.0   0.0\n",
       "  0.0   0.0   0.0   0.0   0.0   0.0      0.0   0.0   0.0   0.0   0.0   0.0\n",
       "  0.0   0.0   0.0   0.0   0.0   0.0  …   0.0   0.0   0.0   0.0   0.0   0.0\n",
       "  0.0   0.0   0.0   0.0   0.0   0.0      0.0   0.0   0.0   0.0   0.0   0.0\n",
       "  0.0   0.0   0.0   0.0   0.0   0.0      0.0   0.0   0.0   0.0   0.0   0.0\n",
       "  0.0   0.0   0.0   0.0   0.0   0.0     -1.0   0.0   0.0   0.0   0.0   0.0\n",
       "  0.0   0.0   0.0   0.0   0.0   0.0     -0.5  -1.0   0.0   0.0   0.0   0.0\n",
       "  0.0   0.0   0.0   0.0   0.0   0.0  …  -1.0  -0.5  -1.0   0.0   0.0   0.0\n",
       "  0.0   0.0   0.0   0.0   0.0   0.0      0.0  -1.0  -0.5  -1.0   0.0   0.0\n",
       "  0.0   0.0   0.0   0.0   0.0   0.0      0.0   0.0  -1.0  -0.5  -1.0   0.0\n",
       "  0.0   0.0   0.0   0.0   0.0   0.0      0.0   0.0   0.0  -1.0  -0.5  -1.0\n",
       "  0.0   0.0   0.0   0.0   0.0   0.0      0.0   0.0   0.0   0.0  -1.0  -0.5"
      ]
     },
     "execution_count": 32,
     "metadata": {},
     "output_type": "execute_result"
    }
   ],
   "source": [
    "N = 100 # number of sites\n",
    "t = 1\n",
    "μ = -0.5\n",
    "\n",
    "H = diagm(0 => fill(μ, N), 1 => fill(-t, N-1), -1 => fill(-t, N-1))"
   ]
  },
  {
   "cell_type": "code",
   "execution_count": 33,
   "metadata": {},
   "outputs": [
    {
     "data": {
      "text/plain": [
       "100-element Array{Float64,1}:\n",
       " 0.042589316601678695\n",
       " 0.03330774192938872\n",
       " 0.009779874983957828\n",
       " 0.16492997411645743\n",
       " 0.004686019499977374\n",
       " 0.15795631842352365\n",
       " 0.10019652926588493\n",
       " 0.14077288967992102\n",
       " 0.01771454280483669\n",
       " 0.025973942899940403\n",
       " 0.11682447201709203\n",
       " 0.15228444517118364\n",
       " 0.04642266191682645\n",
       " ⋮\n",
       " 0.062458164561997154\n",
       " 0.12173039757223071\n",
       " 0.13347043834013714\n",
       " 0.14151938911825898\n",
       " 0.15085703295216799\n",
       " 0.06136230782952981\n",
       " 0.042467472234412516\n",
       " 0.10415986317742634\n",
       " 0.04010746307291547\n",
       " 0.11024283214996149\n",
       " 0.026951256550257388\n",
       " 0.0836609815642866"
      ]
     },
     "execution_count": 33,
     "metadata": {},
     "output_type": "execute_result"
    }
   ],
   "source": [
    "ψ = normalize(rand(N)) # some state"
   ]
  },
  {
   "cell_type": "markdown",
   "metadata": {},
   "source": [
    "Quantum mechanical expectation value"
   ]
  },
  {
   "cell_type": "code",
   "execution_count": 34,
   "metadata": {},
   "outputs": [
    {
     "data": {
      "text/plain": [
       "ev (generic function with 1 method)"
      ]
     },
     "execution_count": 34,
     "metadata": {},
     "output_type": "execute_result"
    }
   ],
   "source": [
    "ev(H, ψ) = ψ'*H*ψ # <φ|H|φ>"
   ]
  },
  {
   "cell_type": "code",
   "execution_count": 35,
   "metadata": {},
   "outputs": [
    {
     "data": {
      "text/plain": [
       "-2.0208015208536705"
      ]
     },
     "execution_count": 35,
     "metadata": {},
     "output_type": "execute_result"
    }
   ],
   "source": [
    "ev(H, ψ)"
   ]
  },
  {
   "cell_type": "code",
   "execution_count": 36,
   "metadata": {},
   "outputs": [
    {
     "name": "stdout",
     "output_type": "stream",
     "text": [
      "  1.702 μs (1 allocation: 896 bytes)\n"
     ]
    }
   ],
   "source": [
    "@btime ev($H, $ψ);"
   ]
  },
  {
   "cell_type": "code",
   "execution_count": 37,
   "metadata": {},
   "outputs": [
    {
     "data": {
      "text/plain": [
       "Array{Float64,2}"
      ]
     },
     "execution_count": 37,
     "metadata": {},
     "output_type": "execute_result"
    }
   ],
   "source": [
    "typeof(H)"
   ]
  },
  {
   "cell_type": "markdown",
   "metadata": {},
   "source": [
    "As long as the code is generic (respects the informal `AbstractArray` interface), we can use the same piece of code for completely different array types.\n",
    "\n",
    "Let's utilize the sparsity of `H` by indicating it through a type."
   ]
  },
  {
   "cell_type": "code",
   "execution_count": 38,
   "metadata": {},
   "outputs": [
    {
     "data": {
      "text/plain": [
       "100×100 SparseMatrixCSC{Float64,Int64} with 298 stored entries:\n",
       "  [1  ,   1]  =  -0.5\n",
       "  [2  ,   1]  =  -1.0\n",
       "  [1  ,   2]  =  -1.0\n",
       "  [2  ,   2]  =  -0.5\n",
       "  [3  ,   2]  =  -1.0\n",
       "  [2  ,   3]  =  -1.0\n",
       "  [3  ,   3]  =  -0.5\n",
       "  [4  ,   3]  =  -1.0\n",
       "  [3  ,   4]  =  -1.0\n",
       "  [4  ,   4]  =  -0.5\n",
       "  [5  ,   4]  =  -1.0\n",
       "  [4  ,   5]  =  -1.0\n",
       "  ⋮\n",
       "  [96 ,  96]  =  -0.5\n",
       "  [97 ,  96]  =  -1.0\n",
       "  [96 ,  97]  =  -1.0\n",
       "  [97 ,  97]  =  -0.5\n",
       "  [98 ,  97]  =  -1.0\n",
       "  [97 ,  98]  =  -1.0\n",
       "  [98 ,  98]  =  -0.5\n",
       "  [99 ,  98]  =  -1.0\n",
       "  [98 ,  99]  =  -1.0\n",
       "  [99 ,  99]  =  -0.5\n",
       "  [100,  99]  =  -1.0\n",
       "  [99 , 100]  =  -1.0\n",
       "  [100, 100]  =  -0.5"
      ]
     },
     "execution_count": 38,
     "metadata": {},
     "output_type": "execute_result"
    }
   ],
   "source": [
    "using SparseArrays\n",
    "Hsparse = sparse(H)"
   ]
  },
  {
   "cell_type": "code",
   "execution_count": 39,
   "metadata": {},
   "outputs": [
    {
     "name": "stdout",
     "output_type": "stream",
     "text": [
      "  698.227 ns (1 allocation: 896 bytes)\n"
     ]
    }
   ],
   "source": [
    "@btime ev($Hsparse, $ψ);"
   ]
  },
  {
   "cell_type": "markdown",
   "metadata": {},
   "source": [
    "That's a solid **30x speedup**!"
   ]
  },
  {
   "cell_type": "markdown",
   "metadata": {},
   "source": [
    "Our `H` isn't just sparse, but actually tridiagonal. Let's try to exploit that."
   ]
  },
  {
   "cell_type": "code",
   "execution_count": 40,
   "metadata": {},
   "outputs": [
    {
     "data": {
      "text/plain": [
       "100×100 Tridiagonal{Float64,Array{Float64,1}}:\n",
       " -0.5  -1.0    ⋅     ⋅     ⋅     ⋅   …    ⋅     ⋅     ⋅     ⋅     ⋅     ⋅ \n",
       " -1.0  -0.5  -1.0    ⋅     ⋅     ⋅        ⋅     ⋅     ⋅     ⋅     ⋅     ⋅ \n",
       "   ⋅   -1.0  -0.5  -1.0    ⋅     ⋅        ⋅     ⋅     ⋅     ⋅     ⋅     ⋅ \n",
       "   ⋅     ⋅   -1.0  -0.5  -1.0    ⋅        ⋅     ⋅     ⋅     ⋅     ⋅     ⋅ \n",
       "   ⋅     ⋅     ⋅   -1.0  -0.5  -1.0       ⋅     ⋅     ⋅     ⋅     ⋅     ⋅ \n",
       "   ⋅     ⋅     ⋅     ⋅   -1.0  -0.5  …    ⋅     ⋅     ⋅     ⋅     ⋅     ⋅ \n",
       "   ⋅     ⋅     ⋅     ⋅     ⋅   -1.0       ⋅     ⋅     ⋅     ⋅     ⋅     ⋅ \n",
       "   ⋅     ⋅     ⋅     ⋅     ⋅     ⋅        ⋅     ⋅     ⋅     ⋅     ⋅     ⋅ \n",
       "   ⋅     ⋅     ⋅     ⋅     ⋅     ⋅        ⋅     ⋅     ⋅     ⋅     ⋅     ⋅ \n",
       "   ⋅     ⋅     ⋅     ⋅     ⋅     ⋅        ⋅     ⋅     ⋅     ⋅     ⋅     ⋅ \n",
       "   ⋅     ⋅     ⋅     ⋅     ⋅     ⋅   …    ⋅     ⋅     ⋅     ⋅     ⋅     ⋅ \n",
       "   ⋅     ⋅     ⋅     ⋅     ⋅     ⋅        ⋅     ⋅     ⋅     ⋅     ⋅     ⋅ \n",
       "   ⋅     ⋅     ⋅     ⋅     ⋅     ⋅        ⋅     ⋅     ⋅     ⋅     ⋅     ⋅ \n",
       "  ⋮                             ⋮    ⋱         ⋮                      \n",
       "   ⋅     ⋅     ⋅     ⋅     ⋅     ⋅        ⋅     ⋅     ⋅     ⋅     ⋅     ⋅ \n",
       "   ⋅     ⋅     ⋅     ⋅     ⋅     ⋅        ⋅     ⋅     ⋅     ⋅     ⋅     ⋅ \n",
       "   ⋅     ⋅     ⋅     ⋅     ⋅     ⋅   …    ⋅     ⋅     ⋅     ⋅     ⋅     ⋅ \n",
       "   ⋅     ⋅     ⋅     ⋅     ⋅     ⋅        ⋅     ⋅     ⋅     ⋅     ⋅     ⋅ \n",
       "   ⋅     ⋅     ⋅     ⋅     ⋅     ⋅        ⋅     ⋅     ⋅     ⋅     ⋅     ⋅ \n",
       "   ⋅     ⋅     ⋅     ⋅     ⋅     ⋅      -1.0    ⋅     ⋅     ⋅     ⋅     ⋅ \n",
       "   ⋅     ⋅     ⋅     ⋅     ⋅     ⋅      -0.5  -1.0    ⋅     ⋅     ⋅     ⋅ \n",
       "   ⋅     ⋅     ⋅     ⋅     ⋅     ⋅   …  -1.0  -0.5  -1.0    ⋅     ⋅     ⋅ \n",
       "   ⋅     ⋅     ⋅     ⋅     ⋅     ⋅        ⋅   -1.0  -0.5  -1.0    ⋅     ⋅ \n",
       "   ⋅     ⋅     ⋅     ⋅     ⋅     ⋅        ⋅     ⋅   -1.0  -0.5  -1.0    ⋅ \n",
       "   ⋅     ⋅     ⋅     ⋅     ⋅     ⋅        ⋅     ⋅     ⋅   -1.0  -0.5  -1.0\n",
       "   ⋅     ⋅     ⋅     ⋅     ⋅     ⋅        ⋅     ⋅     ⋅     ⋅   -1.0  -0.5"
      ]
     },
     "execution_count": 40,
     "metadata": {},
     "output_type": "execute_result"
    }
   ],
   "source": [
    "Htri = Tridiagonal(H)"
   ]
  },
  {
   "cell_type": "code",
   "execution_count": 41,
   "metadata": {},
   "outputs": [
    {
     "name": "stdout",
     "output_type": "stream",
     "text": [
      "  172.283 ns (2 allocations: 944 bytes)\n"
     ]
    }
   ],
   "source": [
    "@btime ev($Htri, $ψ);"
   ]
  },
  {
   "cell_type": "code",
   "execution_count": 45,
   "metadata": {},
   "outputs": [
    {
     "data": {
      "text/html": [
       "*(D::<b>Diagonal</b>, V::<b>AbstractArray{T,1} where T</b>) in LinearAlgebra at <a href=\"file:///Users/julia/buildbot/worker/package_macos64/build/usr/share/julia/stdlib/v1.5/LinearAlgebra/src/diagonal.jl\" target=\"_blank\">/Applications/Julia-1.5.app/Contents/Resources/julia/share/julia/stdlib/v1.5/LinearAlgebra/src/diagonal.jl:178</a>"
      ],
      "text/plain": [
       "*(D::Diagonal, V::AbstractArray{T,1} where T) in LinearAlgebra at /Applications/Julia-1.5.app/Contents/Resources/julia/share/julia/stdlib/v1.5/LinearAlgebra/src/diagonal.jl:178"
      ]
     },
     "execution_count": 45,
     "metadata": {},
     "output_type": "execute_result"
    }
   ],
   "source": [
    "@which D*b"
   ]
  },
  {
   "cell_type": "markdown",
   "metadata": {},
   "source": [
    "Choosing the best type (and therewith an algorithm) can be tricky and one has to play around a bit. The good thing is that it's very easy to try out different types!\n",
    "\n",
    "Note that there are also great matrix types available in the ecosystem, see [JuliaMatrices](https://github.com/JuliaMatrices), for example."
   ]
  },
  {
   "cell_type": "markdown",
   "metadata": {},
   "source": [
    "# Exact diagonalisation a.k.a Eigendecomposition"
   ]
  },
  {
   "cell_type": "markdown",
   "metadata": {},
   "source": [
    "To diagonalize our dense \"Hamiltonian\", we simply call the built-in function `eigen`."
   ]
  },
  {
   "cell_type": "code",
   "execution_count": 46,
   "metadata": {},
   "outputs": [
    {
     "data": {
      "text/plain": [
       "Eigen{Float64,Float64,Array{Float64,2},Array{Float64,1}}\n",
       "values:\n",
       "100-element Array{Float64,1}:\n",
       " -2.4990325645839753\n",
       " -2.4961311942671887\n",
       " -2.4912986959380365\n",
       " -2.484539744726553\n",
       " -2.475860879481513\n",
       " -2.4652704964445267\n",
       " -2.4527788411272136\n",
       " -2.438397998399332\n",
       " -2.422141880797449\n",
       " -2.4040262150654583\n",
       " -2.384068526939977\n",
       " -2.3622881241953175\n",
       " -2.3387060779644715\n",
       "  ⋮\n",
       "  1.362288124195319\n",
       "  1.3840685269399784\n",
       "  1.4040262150654599\n",
       "  1.422141880797449\n",
       "  1.4383979983993322\n",
       "  1.452778841127214\n",
       "  1.4652704964445273\n",
       "  1.4758608794815133\n",
       "  1.484539744726553\n",
       "  1.4912986959380372\n",
       "  1.4961311942671887\n",
       "  1.4990325645839762\n",
       "vectors:\n",
       "100×100 Array{Float64,2}:\n",
       " 0.00437636  -0.00874848  0.0131121  -0.0174631  …   0.00874848  -0.00437636\n",
       " 0.00874848  -0.0174631   0.0261102  -0.0346562     -0.0174631    0.00874848\n",
       " 0.0131121   -0.0261102   0.038881   -0.0513136      0.0261102   -0.0131121\n",
       " 0.0174631   -0.0346562   0.0513136  -0.0671776     -0.0346562    0.0174631\n",
       " 0.0217972   -0.0430682   0.0632996  -0.082003       0.0430682   -0.0217972\n",
       " 0.0261102   -0.0513136   0.0747349  -0.0955607  …  -0.0513136    0.0261102\n",
       " 0.0303979   -0.0593604   0.0855198  -0.107641       0.0593604   -0.0303979\n",
       " 0.0346562   -0.0671776   0.0955607  -0.118057      -0.0671776    0.0346562\n",
       " 0.038881    -0.0747349   0.10477    -0.126648       0.0747349   -0.038881\n",
       " 0.0430682   -0.082003    0.113068   -0.133281      -0.082003     0.0430682\n",
       " 0.0472137   -0.0889539   0.120382   -0.137853   …   0.0889539   -0.0472137\n",
       " 0.0513136   -0.0955607   0.126648   -0.140294      -0.0955607    0.0513136\n",
       " 0.0553638   -0.101798    0.131812   -0.140566       0.101798    -0.0553638\n",
       " ⋮                                               ⋱               \n",
       " 0.0513136    0.0955607   0.126648    0.140294      -0.0955607   -0.0513136\n",
       " 0.0472137    0.0889539   0.120382    0.137853       0.0889539    0.0472137\n",
       " 0.0430682    0.082003    0.113068    0.133281   …  -0.082003    -0.0430682\n",
       " 0.038881     0.0747349   0.10477     0.126648       0.0747349    0.038881\n",
       " 0.0346562    0.0671776   0.0955607   0.118057      -0.0671776   -0.0346562\n",
       " 0.0303979    0.0593604   0.0855198   0.107641       0.0593604    0.0303979\n",
       " 0.0261102    0.0513136   0.0747349   0.0955607     -0.0513136   -0.0261102\n",
       " 0.0217972    0.0430682   0.0632996   0.082003   …   0.0430682    0.0217972\n",
       " 0.0174631    0.0346562   0.0513136   0.0671776     -0.0346562   -0.0174631\n",
       " 0.0131121    0.0261102   0.038881    0.0513136      0.0261102    0.0131121\n",
       " 0.00874848   0.0174631   0.0261102   0.0346562     -0.0174631   -0.00874848\n",
       " 0.00437636   0.00874848  0.0131121   0.0174631      0.00874848   0.00437636"
      ]
     },
     "execution_count": 46,
     "metadata": {},
     "output_type": "execute_result"
    }
   ],
   "source": [
    "vals, vecs = eigen(H)"
   ]
  },
  {
   "cell_type": "markdown",
   "metadata": {},
   "source": [
    "Since Julia is using eigenproblem solvers from LAPACK (written in a low-level language) the code is, of course, **not generic**."
   ]
  },
  {
   "cell_type": "markdown",
   "metadata": {},
   "source": [
    "The best Julia can do, without implementing new functionality, is manually dispatch to the best LAPACK routine available.\n",
    "\n",
    "Hence, it won't work with most of our special matrices."
   ]
  },
  {
   "cell_type": "code",
   "execution_count": 47,
   "metadata": {},
   "outputs": [
    {
     "ename": "LoadError",
     "evalue": "MethodError: no method matching eigen!(::Tridiagonal{Float64,Array{Float64,1}}; permute=true, scale=true, sortby=LinearAlgebra.eigsortby)\nClosest candidates are:\n  eigen!(!Matched::SymTridiagonal{var\"#s828\",V} where V<:AbstractArray{var\"#s828\",1} where var\"#s828\"<:Union{Float32, Float64}) at /Users/julia/buildbot/worker/package_macos64/build/usr/share/julia/stdlib/v1.5/LinearAlgebra/src/tridiag.jl:279 got unsupported keyword arguments \"permute\", \"scale\", \"sortby\"\n  eigen!(!Matched::SymTridiagonal{var\"#s828\",V} where V<:AbstractArray{var\"#s828\",1} where var\"#s828\"<:Union{Float32, Float64}, !Matched::UnitRange) at /Users/julia/buildbot/worker/package_macos64/build/usr/share/julia/stdlib/v1.5/LinearAlgebra/src/tridiag.jl:282 got unsupported keyword arguments \"permute\", \"scale\", \"sortby\"\n  eigen!(!Matched::SymTridiagonal{var\"#s828\",V} where V<:AbstractArray{var\"#s828\",1} where var\"#s828\"<:Union{Float32, Float64}, !Matched::Real, !Matched::Real) at /Users/julia/buildbot/worker/package_macos64/build/usr/share/julia/stdlib/v1.5/LinearAlgebra/src/tridiag.jl:287 got unsupported keyword arguments \"permute\", \"scale\", \"sortby\"\n  ...",
     "output_type": "error",
     "traceback": [
      "MethodError: no method matching eigen!(::Tridiagonal{Float64,Array{Float64,1}}; permute=true, scale=true, sortby=LinearAlgebra.eigsortby)\nClosest candidates are:\n  eigen!(!Matched::SymTridiagonal{var\"#s828\",V} where V<:AbstractArray{var\"#s828\",1} where var\"#s828\"<:Union{Float32, Float64}) at /Users/julia/buildbot/worker/package_macos64/build/usr/share/julia/stdlib/v1.5/LinearAlgebra/src/tridiag.jl:279 got unsupported keyword arguments \"permute\", \"scale\", \"sortby\"\n  eigen!(!Matched::SymTridiagonal{var\"#s828\",V} where V<:AbstractArray{var\"#s828\",1} where var\"#s828\"<:Union{Float32, Float64}, !Matched::UnitRange) at /Users/julia/buildbot/worker/package_macos64/build/usr/share/julia/stdlib/v1.5/LinearAlgebra/src/tridiag.jl:282 got unsupported keyword arguments \"permute\", \"scale\", \"sortby\"\n  eigen!(!Matched::SymTridiagonal{var\"#s828\",V} where V<:AbstractArray{var\"#s828\",1} where var\"#s828\"<:Union{Float32, Float64}, !Matched::Real, !Matched::Real) at /Users/julia/buildbot/worker/package_macos64/build/usr/share/julia/stdlib/v1.5/LinearAlgebra/src/tridiag.jl:287 got unsupported keyword arguments \"permute\", \"scale\", \"sortby\"\n  ...",
      "",
      "Stacktrace:",
      " [1] eigen(::Tridiagonal{Float64,Array{Float64,1}}; permute::Bool, scale::Bool, sortby::typeof(LinearAlgebra.eigsortby)) at /Users/julia/buildbot/worker/package_macos64/build/usr/share/julia/stdlib/v1.5/LinearAlgebra/src/eigen.jl:237",
      " [2] eigen(::Tridiagonal{Float64,Array{Float64,1}}) at /Users/julia/buildbot/worker/package_macos64/build/usr/share/julia/stdlib/v1.5/LinearAlgebra/src/eigen.jl:235",
      " [3] top-level scope at In[47]:1",
      " [4] include_string(::Function, ::Module, ::String, ::String) at ./loading.jl:1091"
     ]
    }
   ],
   "source": [
    "eigen(Htri);"
   ]
  },
  {
   "cell_type": "markdown",
   "metadata": {},
   "source": [
    "If we're lucky, someone has implemented a generic solver in Julia that works for a wider range of types. Example:"
   ]
  },
  {
   "cell_type": "code",
   "execution_count": 48,
   "metadata": {},
   "outputs": [
    {
     "ename": "LoadError",
     "evalue": "MethodError: no method matching eigen!(::Hermitian{BigFloat,Array{BigFloat,2}}; sortby=nothing)\nClosest candidates are:\n  eigen!(!Matched::SymTridiagonal{var\"#s828\",V} where V<:AbstractArray{var\"#s828\",1} where var\"#s828\"<:Union{Float32, Float64}) at /Users/julia/buildbot/worker/package_macos64/build/usr/share/julia/stdlib/v1.5/LinearAlgebra/src/tridiag.jl:279 got unsupported keyword argument \"sortby\"\n  eigen!(!Matched::SymTridiagonal{var\"#s828\",V} where V<:AbstractArray{var\"#s828\",1} where var\"#s828\"<:Union{Float32, Float64}, !Matched::UnitRange) at /Users/julia/buildbot/worker/package_macos64/build/usr/share/julia/stdlib/v1.5/LinearAlgebra/src/tridiag.jl:282 got unsupported keyword argument \"sortby\"\n  eigen!(!Matched::SymTridiagonal{var\"#s828\",V} where V<:AbstractArray{var\"#s828\",1} where var\"#s828\"<:Union{Float32, Float64}, !Matched::Real, !Matched::Real) at /Users/julia/buildbot/worker/package_macos64/build/usr/share/julia/stdlib/v1.5/LinearAlgebra/src/tridiag.jl:287 got unsupported keyword argument \"sortby\"\n  ...",
     "output_type": "error",
     "traceback": [
      "MethodError: no method matching eigen!(::Hermitian{BigFloat,Array{BigFloat,2}}; sortby=nothing)\nClosest candidates are:\n  eigen!(!Matched::SymTridiagonal{var\"#s828\",V} where V<:AbstractArray{var\"#s828\",1} where var\"#s828\"<:Union{Float32, Float64}) at /Users/julia/buildbot/worker/package_macos64/build/usr/share/julia/stdlib/v1.5/LinearAlgebra/src/tridiag.jl:279 got unsupported keyword argument \"sortby\"\n  eigen!(!Matched::SymTridiagonal{var\"#s828\",V} where V<:AbstractArray{var\"#s828\",1} where var\"#s828\"<:Union{Float32, Float64}, !Matched::UnitRange) at /Users/julia/buildbot/worker/package_macos64/build/usr/share/julia/stdlib/v1.5/LinearAlgebra/src/tridiag.jl:282 got unsupported keyword argument \"sortby\"\n  eigen!(!Matched::SymTridiagonal{var\"#s828\",V} where V<:AbstractArray{var\"#s828\",1} where var\"#s828\"<:Union{Float32, Float64}, !Matched::Real, !Matched::Real) at /Users/julia/buildbot/worker/package_macos64/build/usr/share/julia/stdlib/v1.5/LinearAlgebra/src/tridiag.jl:287 got unsupported keyword argument \"sortby\"\n  ...",
      "",
      "Stacktrace:",
      " [1] eigen(::Hermitian{BigFloat,Array{BigFloat,2}}; sortby::Nothing) at /Users/julia/buildbot/worker/package_macos64/build/usr/share/julia/stdlib/v1.5/LinearAlgebra/src/symmetric.jl:677",
      " [2] eigen(::Hermitian{BigFloat,Array{BigFloat,2}}) at /Users/julia/buildbot/worker/package_macos64/build/usr/share/julia/stdlib/v1.5/LinearAlgebra/src/symmetric.jl:675",
      " [3] top-level scope at In[48]:2",
      " [4] include_string(::Function, ::Module, ::String, ::String) at ./loading.jl:1091"
     ]
    }
   ],
   "source": [
    "Hbig = big.(H)\n",
    "eigen(Hermitian(Hbig));"
   ]
  },
  {
   "cell_type": "code",
   "execution_count": 49,
   "metadata": {},
   "outputs": [],
   "source": [
    "using GenericLinearAlgebra"
   ]
  },
  {
   "cell_type": "code",
   "execution_count": 50,
   "metadata": {},
   "outputs": [
    {
     "data": {
      "text/plain": [
       "Eigen{BigFloat,BigFloat,Array{BigFloat,2},Array{BigFloat,1}}\n",
       "values:\n",
       "100-element Array{BigFloat,1}:\n",
       " -2.499032564583976129841491078128552885270844564275068999255406464586997523509518\n",
       " -2.49613119426718869664469376721353683820035347873096011215866399535318914672511\n",
       " -2.491298695938037160967995737868198811244191747682578616800626006817236297244357\n",
       " -2.484539744726553020184742526239320873977567777619982918612582442507556211531338\n",
       " -2.475860879481513441495886953659483104715504453725995724740209546532748607545501\n",
       " -2.465270496444527374874063414521910296283215789940930200782648270857681647241034\n",
       " -2.452778841127214059072142159451675184893454442233729896962151556967994660818164\n",
       " -2.438397998399332225887590822597361140711942686757388384968109952867283314193059\n",
       " -2.42214188079744909752949054940206867831399022597374035085438522526236180426978\n",
       " -2.404026215065459784760611736625730055990725724610455570939344743892098437920844\n",
       " -2.384068526939978264030073015883494075933520751374280431745181852496796124683433\n",
       " -2.362288124195319085206261675398282607185828255490867950557052711341830182650257\n",
       " -2.338706077964472695085287250656563836401042117887813422370727756830932722582539\n",
       "  ⋮\n",
       "  1.362288124195319085206261675398282607185828255490867950557052711341830182650274\n",
       "  1.384068526939978264030073015883494075933520751374280431745181852496796124683261\n",
       "  1.404026215065459784760611736625730055990725724610455570939344743892098437920723\n",
       "  1.422141880797449097529490549402068678313990225973740350854385225262361804269814\n",
       "  1.438397998399332225887590822597361140711942686757388384968109952867283314193094\n",
       "  1.452778841127214059072142159451675184893454442233729896962151556967994660817801\n",
       "  1.465270496444527374874063414521910296283215789940930200782648270857681647240931\n",
       "  1.475860879481513441495886953659483104715504453725995724740209546532748607545605\n",
       "  1.484539744726553020184742526239320873977567777619982918612582442507556211531355\n",
       "  1.491298695938037160967995737868198811244191747682578616800626006817236297244202\n",
       "  1.496131194267188696644693767213536838200353478730960112158663995353189146725093\n",
       "  1.499032564583976129841491078128552885270844564275068999255406464586997523509466\n",
       "vectors:\n",
       "100×100 Array{BigFloat,2}:\n",
       " -0.00437636   0.00874848  -0.0131121  …   0.00874848   0.00437636\n",
       " -0.00874848   0.0174631   -0.0261102     -0.0174631   -0.00874848\n",
       " -0.0131121    0.0261102   -0.038881       0.0261102    0.0131121\n",
       " -0.0174631    0.0346562   -0.0513136     -0.0346562   -0.0174631\n",
       " -0.0217972    0.0430682   -0.0632996      0.0430682    0.0217972\n",
       " -0.0261102    0.0513136   -0.0747349  …  -0.0513136   -0.0261102\n",
       " -0.0303979    0.0593604   -0.0855198      0.0593604    0.0303979\n",
       " -0.0346562    0.0671776   -0.0955607     -0.0671776   -0.0346562\n",
       " -0.038881     0.0747349   -0.10477        0.0747349    0.038881\n",
       " -0.0430682    0.082003    -0.113068      -0.082003    -0.0430682\n",
       " -0.0472137    0.0889539   -0.120382   …   0.0889539    0.0472137\n",
       " -0.0513136    0.0955607   -0.126648      -0.0955607   -0.0513136\n",
       " -0.0553638    0.101798    -0.131812       0.101798     0.0553638\n",
       "  ⋮                                    ⋱               \n",
       " -0.0513136   -0.0955607   -0.126648      -0.0955607    0.0513136\n",
       " -0.0472137   -0.0889539   -0.120382       0.0889539   -0.0472137\n",
       " -0.0430682   -0.082003    -0.113068   …  -0.082003     0.0430682\n",
       " -0.038881    -0.0747349   -0.10477        0.0747349   -0.038881\n",
       " -0.0346562   -0.0671776   -0.0955607     -0.0671776    0.0346562\n",
       " -0.0303979   -0.0593604   -0.0855198      0.0593604   -0.0303979\n",
       " -0.0261102   -0.0513136   -0.0747349     -0.0513136    0.0261102\n",
       " -0.0217972   -0.0430682   -0.0632996  …   0.0430682   -0.0217972\n",
       " -0.0174631   -0.0346562   -0.0513136     -0.0346562    0.0174631\n",
       " -0.0131121   -0.0261102   -0.038881       0.0261102   -0.0131121\n",
       " -0.00874848  -0.0174631   -0.0261102     -0.0174631    0.00874848\n",
       " -0.00437636  -0.00874848  -0.0131121      0.00874848  -0.00437636"
      ]
     },
     "execution_count": 50,
     "metadata": {},
     "output_type": "execute_result"
    }
   ],
   "source": [
    "eigen(Hermitian(Hbig))"
   ]
  },
  {
   "cell_type": "markdown",
   "metadata": {},
   "source": [
    "Arguably the most important matrix type in science applications is a sparse matrix, i.e. `SparseMatrixCSC`."
   ]
  },
  {
   "cell_type": "code",
   "execution_count": 51,
   "metadata": {},
   "outputs": [
    {
     "ename": "LoadError",
     "evalue": "eigen(A) not supported for sparse matrices. Use for example eigs(A) from the Arpack package instead.",
     "output_type": "error",
     "traceback": [
      "eigen(A) not supported for sparse matrices. Use for example eigs(A) from the Arpack package instead.",
      "",
      "Stacktrace:",
      " [1] error(::String) at ./error.jl:33",
      " [2] eigen(::SparseMatrixCSC{Float64,Int64}) at /Users/julia/buildbot/worker/package_macos64/build/usr/share/julia/stdlib/v1.5/SparseArrays/src/linalg.jl:1548",
      " [3] top-level scope at In[51]:1",
      " [4] include_string(::Function, ::Module, ::String, ::String) at ./loading.jl:1091"
     ]
    }
   ],
   "source": [
    "eigen(Hsparse)"
   ]
  },
  {
   "cell_type": "markdown",
   "metadata": {},
   "source": [
    "Let's follow Julia's advice and take a look at [ARPACK.jl](https://github.com/JuliaLinearAlgebra/Arpack.jl) and similar packages."
   ]
  },
  {
   "cell_type": "markdown",
   "metadata": {},
   "source": [
    "### Diagonalizing sparse matrices"
   ]
  },
  {
   "cell_type": "markdown",
   "metadata": {},
   "source": [
    "[ARPACK.jl]() -  Wrapper to Fortran library [ARPACK](https://www.caam.rice.edu/software/ARPACK/) which implements **iterative** eigenvalue and singular value solvers. By far the most established sparse eigensolver.\n",
    "\n",
    "Julia implementations:\n",
    "\n",
    "* [ArnoldiMethod.jl](https://github.com/haampie/ArnoldiMethod.jl)\n",
    "* [KrylovKit.jl](https://github.com/Jutho/KrylovKit.jl)\n",
    "* [IterativeSolvers.jl](https://github.com/JuliaMath/IterativeSolvers.jl)\n",
    "* and more\n",
    "\n",
    "\n",
    "A key thing to remember is that while `eigen` is - up to numerical errors - exact, the methods in the packages above are iterative and approximative."
   ]
  },
  {
   "cell_type": "markdown",
   "metadata": {},
   "source": [
    "Arpack uses a different name for the eigenvalue decomposition. They called it `eigs`."
   ]
  },
  {
   "cell_type": "code",
   "execution_count": 52,
   "metadata": {},
   "outputs": [
    {
     "data": {
      "text/plain": [
       "6-element Array{Float64,1}:\n",
       " -2.499032564583997\n",
       " -2.4961311942671984\n",
       " -2.491298695938046\n",
       " -2.484539744726571\n",
       " -2.4758608794815182\n",
       " -2.4652704964445267"
      ]
     },
     "execution_count": 52,
     "metadata": {},
     "output_type": "execute_result"
    }
   ],
   "source": [
    "using Arpack\n",
    "λ, evs = eigs(Hsparse);\n",
    "λ"
   ]
  },
  {
   "cell_type": "markdown",
   "metadata": {},
   "source": [
    "In KrylovKit, they call the function `eigsolve`."
   ]
  },
  {
   "cell_type": "code",
   "execution_count": null,
   "metadata": {},
   "outputs": [],
   "source": [
    "using KrylovKit\n",
    "λ, evs = eigsolve(Hsparse);\n",
    "λ"
   ]
  },
  {
   "cell_type": "markdown",
   "metadata": {},
   "source": [
    "# Core messages of this Notebook"
   ]
  },
  {
   "cell_type": "markdown",
   "metadata": {},
   "source": [
    "* The standard libraries `LinearAlgebra` and `SparseArrays` make Julia speak linear algebra.\n",
    "* **Indicate properties and structure of a matrix**, like hermiticity or sparsity, through types. Fallback to generic types only if you run into method errors.\n",
    "* For **sparse matrix exact diagonalization**, ARPACK.jl is sort of a standard but there are great alternatives like KrylovKit.jl."
   ]
  }
 ],
 "metadata": {
  "@webio": {
   "lastCommId": null,
   "lastKernelId": null
  },
  "kernelspec": {
   "display_name": "Julia 1.5.3",
   "language": "julia",
   "name": "julia-1.5"
  },
  "language_info": {
   "file_extension": ".jl",
   "mimetype": "application/julia",
   "name": "julia",
   "version": "1.5.3"
  }
 },
 "nbformat": 4,
 "nbformat_minor": 4
}
