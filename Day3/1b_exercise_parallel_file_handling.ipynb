{
 "cells": [
  {
   "cell_type": "markdown",
   "metadata": {},
   "source": [
    "# Distributed file loading and processing"
   ]
  },
  {
   "cell_type": "markdown",
   "metadata": {},
   "source": [
    "In this short exercise we will use `DistributedArrays` to load and process four data files in parallel. This can be useful in a scenario where the total data doesn't fit into the memory of a single computer. The idea is to let different workers hold different batches of the data (one file per worker) and load and process the data in parallel on the workers.\n",
    "\n",
    "(In the following, we will of course only mimic such a situation. Our workers will live on the same machine.)"
   ]
  },
  {
   "cell_type": "markdown",
   "metadata": {},
   "source": [
    "## Preparation"
   ]
  },
  {
   "cell_type": "markdown",
   "metadata": {},
   "source": [
    "### Create fake data"
   ]
  },
  {
   "cell_type": "markdown",
   "metadata": {},
   "source": [
    "Before we turn to the actual tasks, we need some fake data. We will create four binary files holding 1 million random floating point numbers each."
   ]
  },
  {
   "cell_type": "code",
   "execution_count": 24,
   "metadata": {},
   "outputs": [],
   "source": [
    "using Serialization\n",
    "for i in 1:4\n",
    "    serialize(\"$i.bin\", rand(1000000)) # 8 MB files\n",
    "end"
   ]
  },
  {
   "cell_type": "markdown",
   "metadata": {},
   "source": [
    "Let's check if the files have been created (`readdir()` lists all the files and folders of the current directory)"
   ]
  },
  {
   "cell_type": "code",
   "execution_count": 27,
   "metadata": {},
   "outputs": [
    {
     "data": {
      "text/plain": [
       "4-element Array{String,1}:\n",
       " \"1.bin\"\n",
       " \"2.bin\"\n",
       " \"3.bin\"\n",
       " \"4.bin\""
      ]
     },
     "execution_count": 27,
     "metadata": {},
     "output_type": "execute_result"
    }
   ],
   "source": [
    "fp = filter(endswith(\"bin\"), readdir())"
   ]
  },
  {
   "cell_type": "markdown",
   "metadata": {},
   "source": [
    "### Start worker processes"
   ]
  },
  {
   "cell_type": "markdown",
   "metadata": {},
   "source": [
    "Let's get some worker processes which use the same Julia environment as our main session (the environment of the workshop)."
   ]
  },
  {
   "cell_type": "code",
   "execution_count": null,
   "metadata": {},
   "outputs": [],
   "source": [
    "using Distributed, Pkg"
   ]
  },
  {
   "cell_type": "code",
   "execution_count": 16,
   "metadata": {},
   "outputs": [
    {
     "data": {
      "text/plain": [
       "4-element Array{Int64,1}:\n",
       " 10\n",
       " 11\n",
       " 12\n",
       " 13"
      ]
     },
     "execution_count": 16,
     "metadata": {},
     "output_type": "execute_result"
    }
   ],
   "source": [
    "withenv(\"JULIA_PROJECT\"=>joinpath(pwd(),\"..\")) do\n",
    "    addprocs(4)\n",
    "end"
   ]
  },
  {
   "cell_type": "code",
   "execution_count": 28,
   "metadata": {},
   "outputs": [],
   "source": [
    "@everywhere using DistributedArrays, Serialization"
   ]
  },
  {
   "cell_type": "markdown",
   "metadata": {},
   "source": [
    "## Tasks"
   ]
  },
  {
   "cell_type": "markdown",
   "metadata": {},
   "source": [
    "1. Distribute the array of file names (see the array `fp` above) across the workers. Afterwards, apply the `deserialize` function to load the (fake) data from the four data files in parallel.\n",
    "\n",
    "2. Convince yourself, that the resulting array, i.e. the loaded data, is distributed equally between the workers (each worker holds the numbers of a single data file).\n",
    "\n",
    "3. Our goal is to compute the sum of the cosines of all the numbers. First compute the partial sums of the cosines on the workers in parallel (each worker processes the batch of numbers it holds). Afterwards compute the sum of the partial sums on the master."
   ]
  },
  {
   "cell_type": "code",
   "execution_count": null,
   "metadata": {},
   "outputs": [],
   "source": []
  }
 ],
 "metadata": {
  "kernelspec": {
   "display_name": "Julia 1.5",
   "language": "julia",
   "name": "julia-1.5"
  },
  "language_info": {
   "file_extension": ".jl",
   "mimetype": "application/julia",
   "name": "julia",
   "version": "1.5.3"
  }
 },
 "nbformat": 4,
 "nbformat_minor": 4
}
