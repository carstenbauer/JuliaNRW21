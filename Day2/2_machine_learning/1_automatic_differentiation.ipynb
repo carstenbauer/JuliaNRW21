{
 "cells": [
  {
   "cell_type": "markdown",
   "metadata": {},
   "source": [
    "# Automatic Differentiation (AD)"
   ]
  },
  {
   "cell_type": "markdown",
   "metadata": {},
   "source": [
    "We all know how to take derivatives.\n",
    "```julia\n",
    "f(x) = 5*x^2 + 3\n",
    "\n",
    "df(x) = 10*x\n",
    "\n",
    "ddf(x) = 10\n",
    "```\n",
    "\n",
    "The promise of AD is\n",
    "\n",
    "```julia\n",
    "df(x) = derivative(f, x)\n",
    "\n",
    "ddf(x) = derivative(df, x)\n",
    "```"
   ]
  },
  {
   "cell_type": "markdown",
   "metadata": {},
   "source": [
    "### What AD is not"
   ]
  },
  {
   "cell_type": "markdown",
   "metadata": {},
   "source": [
    "**Symbolic differentiation:**\n",
    "$$ \\frac{d}{dx}x^n = n x^{n-1}. $$\n",
    "\n",
    "**Numerical differentiation:**\n",
    "$$ \\frac{df}{dx} \\approx \\frac{f(x+h) - f(x)}{\\Delta h} $$"
   ]
  },
  {
   "cell_type": "markdown",
   "metadata": {},
   "source": [
    "## Forward mode AD"
   ]
  },
  {
   "cell_type": "markdown",
   "metadata": {},
   "source": [
    "Key to AD is the application of the chain rule\n",
    "$$\\dfrac{d}{dx} f(g(x)) = \\dfrac{df}{dg} \\dfrac{dg}{dx}$$\n",
    "\n",
    "Consider the function $f(a,b) = \\ln(ab + \\sin(a))$."
   ]
  },
  {
   "cell_type": "code",
   "execution_count": 1,
   "metadata": {},
   "outputs": [
    {
     "data": {
      "text/plain": [
       "f (generic function with 1 method)"
      ]
     },
     "execution_count": 1,
     "metadata": {},
     "output_type": "execute_result"
    }
   ],
   "source": [
    "f(a,b) = log(a*b + sin(a))"
   ]
  },
  {
   "cell_type": "code",
   "execution_count": 2,
   "metadata": {},
   "outputs": [
    {
     "data": {
      "text/plain": [
       "f_derivative (generic function with 1 method)"
      ]
     },
     "execution_count": 2,
     "metadata": {},
     "output_type": "execute_result"
    }
   ],
   "source": [
    "f_derivative(a,b) = 1/(a*b + sin(a)) * (b + cos(a))"
   ]
  },
  {
   "cell_type": "code",
   "execution_count": 3,
   "metadata": {},
   "outputs": [
    {
     "data": {
      "text/plain": [
       "0.18724182935843758"
      ]
     },
     "execution_count": 3,
     "metadata": {},
     "output_type": "execute_result"
    }
   ],
   "source": [
    "a = 3.1\n",
    "b = 2.4\n",
    "f_derivative(a,b)"
   ]
  },
  {
   "cell_type": "markdown",
   "metadata": {},
   "source": [
    "Dividing the function into the elementary steps, it corresponds to the following \"*computational graph*\":"
   ]
  },
  {
   "cell_type": "markdown",
   "metadata": {},
   "source": [
    "<img src=\"comp_graph.svg\" width=300px>"
   ]
  },
  {
   "cell_type": "code",
   "execution_count": 4,
   "metadata": {},
   "outputs": [
    {
     "data": {
      "text/plain": [
       "f_graph (generic function with 1 method)"
      ]
     },
     "execution_count": 4,
     "metadata": {},
     "output_type": "execute_result"
    }
   ],
   "source": [
    "function f_graph(a,b)\n",
    "    c1 = a*b\n",
    "    c2 = sin(a)\n",
    "    c3 = c1 + c2\n",
    "    c4 = log(c3)\n",
    "end"
   ]
  },
  {
   "cell_type": "code",
   "execution_count": 5,
   "metadata": {},
   "outputs": [
    {
     "data": {
      "text/plain": [
       "true"
      ]
     },
     "execution_count": 5,
     "metadata": {},
     "output_type": "execute_result"
    }
   ],
   "source": [
    "f(a,b) == f_graph(a,b)"
   ]
  },
  {
   "cell_type": "markdown",
   "metadata": {},
   "source": [
    "To calculate $\\frac{\\partial f}{\\partial a}$ we have to apply the chain rule multiple times."
   ]
  },
  {
   "cell_type": "markdown",
   "metadata": {},
   "source": [
    "$\\dfrac{\\partial f}{\\partial a} = \\dfrac{\\partial f}{\\partial c_4} \\dfrac{\\partial c_4}{\\partial a} = \\dfrac{\\partial f}{\\partial c_4} \\left( \\dfrac{\\partial c_4}{\\partial c_3} \\dfrac{\\partial c_3}{\\partial a}  \\right) = \\dfrac{\\partial f}{\\partial c_4} \\left( \\dfrac{\\partial c_4}{\\partial c_3} \\left( \\dfrac{\\partial c_3}{\\partial c_2} \\dfrac{\\partial c_2}{\\partial a} + \\dfrac{\\partial c_3}{\\partial c_1} \\dfrac{\\partial c_1}{\\partial a}\\right)  \\right)$"
   ]
  },
  {
   "cell_type": "code",
   "execution_count": 8,
   "metadata": {},
   "outputs": [
    {
     "data": {
      "text/plain": [
       "f_graph_derivative (generic function with 1 method)"
      ]
     },
     "execution_count": 8,
     "metadata": {},
     "output_type": "execute_result"
    }
   ],
   "source": [
    "function f_graph_derivative(a,b)\n",
    "    c1 = a*b\n",
    "    c1_ϵ = b\n",
    "    \n",
    "    c2 = sin(a)\n",
    "    c2_ϵ = cos(a)\n",
    "    \n",
    "    c3 = c1 + c2\n",
    "    c3_ϵ = c1_ϵ + c2_ϵ\n",
    "    \n",
    "    c4 = log(c3)\n",
    "    c4_ϵ = 1/c3 * c3_ϵ\n",
    "    \n",
    "    c4, c4_ϵ\n",
    "end"
   ]
  },
  {
   "cell_type": "code",
   "execution_count": 9,
   "metadata": {},
   "outputs": [
    {
     "data": {
      "text/plain": [
       "true"
      ]
     },
     "execution_count": 9,
     "metadata": {},
     "output_type": "execute_result"
    }
   ],
   "source": [
    "f_graph_derivative(a,b)[2] == f_derivative(a,b)"
   ]
  },
  {
   "cell_type": "markdown",
   "metadata": {},
   "source": [
    "**How can we automate this?**"
   ]
  },
  {
   "cell_type": "code",
   "execution_count": 6,
   "metadata": {},
   "outputs": [],
   "source": [
    "# D for \"dual number\", invented by Clifford in 1873.\n",
    "struct D <: Number\n",
    "    x::Float64 # value\n",
    "    ϵ::Float64 # derivative\n",
    "end"
   ]
  },
  {
   "cell_type": "code",
   "execution_count": 7,
   "metadata": {},
   "outputs": [],
   "source": [
    "import Base: +, *, /, -, sin, log, convert, promote_rule\n",
    "\n",
    "a::D + b::D = D(a.x + b.x, a.ϵ + b.ϵ) # sum rule\n",
    "a::D - b::D = D(a.x - b.x, a.ϵ - b.ϵ)\n",
    "a::D * b::D = D(a.x * b.x, a.x * b.ϵ + a.ϵ * b.x) # product rule\n",
    "a::D / b::D = D(a.x / b.x, (b.x * a.ϵ - a.x * b.ϵ)/b.x^2) # quotient rule\n",
    "sin(a::D) = D(sin(a.x), cos(a.x) * a.ϵ)\n",
    "log(a::D) = D(log(a.x), 1/a.x * a.ϵ)\n",
    "\n",
    "Base.convert(::Type{D}, x::Real) = D(x, zero(x))\n",
    "Base.promote_rule(::Type{D}, ::Type{<:Number}) = D"
   ]
  },
  {
   "cell_type": "code",
   "execution_count": 12,
   "metadata": {},
   "outputs": [
    {
     "data": {
      "text/plain": [
       "D(2.0124440881688996, 0.18724182935843758)"
      ]
     },
     "execution_count": 12,
     "metadata": {},
     "output_type": "execute_result"
    }
   ],
   "source": [
    "f(D(a,1), b)"
   ]
  },
  {
   "cell_type": "markdown",
   "metadata": {},
   "source": [
    "Boom! That was easy!"
   ]
  },
  {
   "cell_type": "code",
   "execution_count": 13,
   "metadata": {},
   "outputs": [
    {
     "data": {
      "text/plain": [
       "true"
      ]
     },
     "execution_count": 13,
     "metadata": {},
     "output_type": "execute_result"
    }
   ],
   "source": [
    "f(D(a,1), b).ϵ ≈ f_derivative(a,b)"
   ]
  },
  {
   "cell_type": "markdown",
   "metadata": {},
   "source": [
    "**How does this work?!**"
   ]
  },
  {
   "cell_type": "markdown",
   "metadata": {},
   "source": [
    "The trick of forward mode AD is to make the computer do the rewrite `f -> f_graph_derivative` for you (and then optimize the resulting code structure)."
   ]
  },
  {
   "cell_type": "code",
   "execution_count": 16,
   "metadata": {},
   "outputs": [
    {
     "data": {
      "text/plain": [
       "CodeInfo(\n",
       "\u001b[90m1 ─\u001b[39m %1  = Base.getfield(a, :x)\u001b[36m::Float64\u001b[39m\n",
       "\u001b[90m│  \u001b[39m %2  = Base.mul_float(%1, b)\u001b[36m::Float64\u001b[39m\n",
       "\u001b[90m│  \u001b[39m %3  = Base.getfield(a, :x)\u001b[36m::Float64\u001b[39m\n",
       "\u001b[90m│  \u001b[39m %4  = Base.mul_float(%3, 0.0)\u001b[36m::Float64\u001b[39m\n",
       "\u001b[90m│  \u001b[39m %5  = Base.getfield(a, :ϵ)\u001b[36m::Float64\u001b[39m\n",
       "\u001b[90m│  \u001b[39m %6  = Base.mul_float(%5, b)\u001b[36m::Float64\u001b[39m\n",
       "\u001b[90m│  \u001b[39m %7  = Base.add_float(%4, %6)\u001b[36m::Float64\u001b[39m\n",
       "\u001b[90m│  \u001b[39m %8  = Base.getfield(a, :x)\u001b[36m::Float64\u001b[39m\n",
       "\u001b[90m│  \u001b[39m %9  = invoke Main.sin(%8::Float64)\u001b[36m::Float64\u001b[39m\n",
       "\u001b[90m│  \u001b[39m %10 = Base.getfield(a, :x)\u001b[36m::Float64\u001b[39m\n",
       "\u001b[90m│  \u001b[39m %11 = invoke Main.cos(%10::Float64)\u001b[36m::Float64\u001b[39m\n",
       "\u001b[90m│  \u001b[39m %12 = Base.getfield(a, :ϵ)\u001b[36m::Float64\u001b[39m\n",
       "\u001b[90m│  \u001b[39m %13 = Base.mul_float(%11, %12)\u001b[36m::Float64\u001b[39m\n",
       "\u001b[90m│  \u001b[39m %14 = Base.add_float(%2, %9)\u001b[36m::Float64\u001b[39m\n",
       "\u001b[90m│  \u001b[39m %15 = Base.add_float(%7, %13)\u001b[36m::Float64\u001b[39m\n",
       "\u001b[90m│  \u001b[39m %16 = invoke Main.log(%14::Float64)\u001b[36m::Float64\u001b[39m\n",
       "\u001b[90m│  \u001b[39m %17 = Base.div_float(1.0, %14)\u001b[36m::Float64\u001b[39m\n",
       "\u001b[90m│  \u001b[39m %18 = Base.mul_float(%17, %15)\u001b[36m::Float64\u001b[39m\n",
       "\u001b[90m│  \u001b[39m %19 = %new(Main.D, %16, %18)\u001b[36m::D\u001b[39m\n",
       "\u001b[90m└──\u001b[39m       return %19\n",
       ") => D"
      ]
     },
     "execution_count": 16,
     "metadata": {},
     "output_type": "execute_result"
    }
   ],
   "source": [
    "@code_typed f(D(a,1), b)"
   ]
  },
  {
   "cell_type": "markdown",
   "metadata": {},
   "source": [
    "While this is somewhat hard to parse, plugging these operations manually into each other we find that this code equals\n",
    "\n",
    "```julia\n",
    "D.x = log(a.x*b + sin(a.x))\n",
    "D.ϵ = 1/(a.x*b + sin(a.x)) * (a.x*0 + (a.ϵ*b) + cos(a.x)*a.ϵ)\n",
    "```\n",
    "\n",
    "which, if we drop `a.x*0`, set `a.ϵ = 1`, and rename `a.x` $\\rightarrow$ `a`, reads\n",
    "\n",
    "```julia\n",
    "D.x = log(a*b + sin(a))\n",
    "D.ϵ = 1/(a*b + sin(a)) * (b + cos(a)\n",
    "```"
   ]
  },
  {
   "cell_type": "markdown",
   "metadata": {},
   "source": [
    "This precisely matches our definitions from above:\n",
    "\n",
    "```julia\n",
    "f(a,b) = log(a*b + sin(a))\n",
    "\n",
    "f_derivative(a,b) = 1/(a*b + sin(a)) * (b + cos(a))\n",
    "```"
   ]
  },
  {
   "cell_type": "markdown",
   "metadata": {},
   "source": [
    "Importantly, the compiler sees the entire \"rewritten\" code and can therefore apply optimizations. In this simple example, we find that the code produced by our simple Forward mode AD is essentially identical to the explicit implementation."
   ]
  },
  {
   "cell_type": "code",
   "execution_count": 24,
   "metadata": {},
   "outputs": [
    {
     "name": "stdout",
     "output_type": "stream",
     "text": [
      "\n",
      "define void @julia_f_graph_derivative_17587([2 x double]* noalias nocapture sret, double, double) {\n",
      "top:\n",
      "  %3 = fmul double %1, %2\n",
      "  %4 = call double @julia_sin_17494(double %1)\n",
      "  %5 = call double @julia_cos_17497(double %1)\n",
      "  %6 = fadd double %3, %4\n",
      "  %7 = fadd double %5, %2\n",
      "  %8 = call double @julia_log_11868(double %6)\n",
      "  %9 = fdiv double 1.000000e+00, %6\n",
      "  %10 = fmul double %9, %7\n",
      "  %.sroa.0.0..sroa_idx = getelementptr inbounds [2 x double], [2 x double]* %0, i64 0, i64 0\n",
      "  store double %8, double* %.sroa.0.0..sroa_idx, align 8\n",
      "  %.sroa.2.0..sroa_idx1 = getelementptr inbounds [2 x double], [2 x double]* %0, i64 0, i64 1\n",
      "  store double %10, double* %.sroa.2.0..sroa_idx1, align 8\n",
      "  ret void\n",
      "}\n"
     ]
    }
   ],
   "source": [
    "@code_llvm debuginfo=:none f_graph_derivative(a,b)"
   ]
  },
  {
   "cell_type": "code",
   "execution_count": 25,
   "metadata": {},
   "outputs": [
    {
     "name": "stdout",
     "output_type": "stream",
     "text": [
      "\n",
      "define void @julia_f_17598({ double, double }* noalias nocapture sret, { double, double } addrspace(11)* nocapture nonnull readonly dereferenceable(16), double) {\n",
      "top:\n",
      "  %3 = getelementptr inbounds { double, double }, { double, double } addrspace(11)* %1, i64 0, i32 0\n",
      "  %4 = load double, double addrspace(11)* %3, align 8\n",
      "  %5 = fmul double %4, %2\n",
      "  %6 = fmul double %4, 0.000000e+00\n",
      "  %7 = getelementptr inbounds { double, double }, { double, double } addrspace(11)* %1, i64 0, i32 1\n",
      "  %8 = load double, double addrspace(11)* %7, align 8\n",
      "  %9 = fmul double %8, %2\n",
      "  %10 = fadd double %6, %9\n",
      "  %11 = call double @julia_sin_17494(double %4)\n",
      "  %12 = call double @julia_cos_17497(double %4)\n",
      "  %13 = fmul double %12, %8\n",
      "  %14 = fadd double %5, %11\n",
      "  %15 = fadd double %10, %13\n",
      "  %16 = call double @julia_log_11868(double %14)\n",
      "  %17 = fdiv double 1.000000e+00, %14\n",
      "  %18 = fmul double %17, %15\n",
      "  %.sroa.0.0..sroa_idx = getelementptr inbounds { double, double }, { double, double }* %0, i64 0, i32 0\n",
      "  store double %16, double* %.sroa.0.0..sroa_idx, align 8\n",
      "  %.sroa.2.0..sroa_idx1 = getelementptr inbounds { double, double }, { double, double }* %0, i64 0, i32 1\n",
      "  store double %18, double* %.sroa.2.0..sroa_idx1, align 8\n",
      "  ret void\n",
      "}\n"
     ]
    }
   ],
   "source": [
    "@code_llvm debuginfo=:none f(D(a,1), b)"
   ]
  },
  {
   "cell_type": "markdown",
   "metadata": {},
   "source": [
    "It's general:"
   ]
  },
  {
   "cell_type": "code",
   "execution_count": null,
   "metadata": {},
   "outputs": [],
   "source": [
    "# utility function for our small forward AD\n",
    "derivative(f::Function, x::Number) = f(D(x, one(x))).ϵ"
   ]
  },
  {
   "cell_type": "code",
   "execution_count": null,
   "metadata": {},
   "outputs": [],
   "source": [
    "derivative(x->f(x,b), a)"
   ]
  },
  {
   "cell_type": "code",
   "execution_count": null,
   "metadata": {},
   "outputs": [],
   "source": [
    "derivative(x->3*x^2+4x+5, 2)"
   ]
  },
  {
   "cell_type": "code",
   "execution_count": null,
   "metadata": {},
   "outputs": [],
   "source": [
    "derivative(x->sin(x)*log(x), 3)"
   ]
  },
  {
   "cell_type": "markdown",
   "metadata": {},
   "source": [
    "Or as a function:"
   ]
  },
  {
   "cell_type": "code",
   "execution_count": null,
   "metadata": {},
   "outputs": [],
   "source": [
    "df(x) = derivative(a->f(a,b),x) # partial derivative wrt a"
   ]
  },
  {
   "cell_type": "code",
   "execution_count": null,
   "metadata": {},
   "outputs": [],
   "source": [
    "df(1.23)"
   ]
  },
  {
   "cell_type": "markdown",
   "metadata": {},
   "source": [
    "## Taking derivatives of code: Babylonian sqrt"
   ]
  },
  {
   "cell_type": "markdown",
   "metadata": {},
   "source": [
    "> Repeat $t \\leftarrow (t + x/2)/2$ until $t$ converges to $\\sqrt{x}$."
   ]
  },
  {
   "cell_type": "code",
   "execution_count": 3,
   "metadata": {},
   "outputs": [
    {
     "data": {
      "text/plain": [
       "Babylonian (generic function with 1 method)"
      ]
     },
     "execution_count": 3,
     "metadata": {},
     "output_type": "execute_result"
    }
   ],
   "source": [
    "@inline function Babylonian(x; N = 10)\n",
    "    t = (1+x)/2\n",
    "    for i = 2:N\n",
    "        t = (t + x/t)/2\n",
    "    end\n",
    "    t\n",
    "end"
   ]
  },
  {
   "cell_type": "code",
   "execution_count": 4,
   "metadata": {},
   "outputs": [
    {
     "data": {
      "text/plain": [
       "(1.414213562373095, 1.4142135623730951)"
      ]
     },
     "execution_count": 4,
     "metadata": {},
     "output_type": "execute_result"
    }
   ],
   "source": [
    "Babylonian(2), √2"
   ]
  },
  {
   "cell_type": "code",
   "execution_count": null,
   "metadata": {},
   "outputs": [],
   "source": [
    "using Plots\n",
    "\n",
    "xs = 0:0.01:49\n",
    "\n",
    "p = plot(title = \"Those Babylonians really knew what they were doing\")\n",
    "for i in 1:5\n",
    "    plot!(p, xs, [Babylonian(x; N=i) for x in xs], label=\"Iteration $i\")\n",
    "end\n",
    "\n",
    "plot!(p, xs, sqrt.(xs), label=\"sqrt\", color=:black)"
   ]
  },
  {
   "cell_type": "markdown",
   "metadata": {},
   "source": [
    "## ... and now the derivative, automagically"
   ]
  },
  {
   "cell_type": "markdown",
   "metadata": {},
   "source": [
    "The same babylonian algorithm with no rewrite at all computes properly the derivative as the check shows."
   ]
  },
  {
   "cell_type": "code",
   "execution_count": 5,
   "metadata": {},
   "outputs": [
    {
     "ename": "LoadError",
     "evalue": "UndefVarError: D not defined",
     "output_type": "error",
     "traceback": [
      "UndefVarError: D not defined",
      "",
      "Stacktrace:",
      " [1] top-level scope at In[5]:1",
      " [2] include_string(::Function, ::Module, ::String, ::String) at ./loading.jl:1091"
     ]
    }
   ],
   "source": [
    "Babylonian(D(5, 1))"
   ]
  },
  {
   "cell_type": "code",
   "execution_count": null,
   "metadata": {},
   "outputs": [],
   "source": [
    "√5, 0.5 / √5"
   ]
  },
  {
   "cell_type": "markdown",
   "metadata": {},
   "source": [
    "It just works and is efficient."
   ]
  },
  {
   "cell_type": "code",
   "execution_count": null,
   "metadata": {},
   "outputs": [],
   "source": [
    "@code_native debuginfo=:none Babylonian(D(5, 1))"
   ]
  },
  {
   "cell_type": "markdown",
   "metadata": {},
   "source": [
    "Recursion? Works as well..."
   ]
  },
  {
   "cell_type": "code",
   "execution_count": null,
   "metadata": {},
   "outputs": [],
   "source": [
    "pow(x, n) = n <= 0 ? 1 : x*pow(x, n-1)"
   ]
  },
  {
   "cell_type": "code",
   "execution_count": null,
   "metadata": {},
   "outputs": [],
   "source": [
    "derivative(x -> pow(x,3), 2)"
   ]
  },
  {
   "cell_type": "markdown",
   "metadata": {},
   "source": [
    "Deriving our Vandermonde matrix from yesterday? Sure:"
   ]
  },
  {
   "cell_type": "code",
   "execution_count": 38,
   "metadata": {},
   "outputs": [
    {
     "data": {
      "text/plain": [
       "vander_generic (generic function with 1 method)"
      ]
     },
     "execution_count": 38,
     "metadata": {},
     "output_type": "execute_result"
    }
   ],
   "source": [
    "function vander_generic(x::AbstractVector{T}) where T\n",
    "    m = length(x)\n",
    "    V = Matrix{T}(undef, m, m)\n",
    "    for j = 1:m\n",
    "        V[j,1] = one(x[j])\n",
    "    end\n",
    "    for i= 2:m\n",
    "        for j = 1:m\n",
    "            V[j,i] = x[j] * V[j,i-1]\n",
    "            end\n",
    "        end\n",
    "    return V\n",
    "end"
   ]
  },
  {
   "cell_type": "code",
   "execution_count": 44,
   "metadata": {},
   "outputs": [
    {
     "data": {
      "text/plain": [
       "4×4 Array{D,2}:\n",
       " D(1.0, 0.0)  D(2.0, 1.0)    D(4.0, 4.0)    D(8.0, 12.0)\n",
       " D(1.0, 0.0)  D(3.0, 1.0)    D(9.0, 6.0)   D(27.0, 27.0)\n",
       " D(1.0, 0.0)  D(4.0, 1.0)   D(16.0, 8.0)   D(64.0, 48.0)\n",
       " D(1.0, 0.0)  D(5.0, 1.0)  D(25.0, 10.0)  D(125.0, 75.0)"
      ]
     },
     "execution_count": 44,
     "metadata": {},
     "output_type": "execute_result"
    }
   ],
   "source": [
    "a, b, c, d = 2, 3, 4, 5\n",
    "V = vander_generic([D(a,1), D(b,1), D(c,1), D(d,1)])"
   ]
  },
  {
   "cell_type": "code",
   "execution_count": 47,
   "metadata": {},
   "outputs": [
    {
     "data": {
      "text/plain": [
       "4×4 Array{Float64,2}:\n",
       " 0.0  1.0   4.0  12.0\n",
       " 0.0  1.0   6.0  27.0\n",
       " 0.0  1.0   8.0  48.0\n",
       " 0.0  1.0  10.0  75.0"
      ]
     },
     "execution_count": 47,
     "metadata": {},
     "output_type": "execute_result"
    }
   ],
   "source": [
    "(x->getfield(x, :ϵ)).(V)"
   ]
  },
  {
   "cell_type": "markdown",
   "metadata": {},
   "source": [
    "## Symbolically (because we can)"
   ]
  },
  {
   "cell_type": "markdown",
   "metadata": {},
   "source": [
    "The below is mathematically equivalent, **though not what the computation is doing**."
   ]
  },
  {
   "cell_type": "code",
   "execution_count": 2,
   "metadata": {},
   "outputs": [],
   "source": [
    "using SymPy"
   ]
  },
  {
   "cell_type": "code",
   "execution_count": 8,
   "metadata": {},
   "outputs": [
    {
     "data": {
      "text/plain": [
       "\"Iterations as a function of x\""
      ]
     },
     "metadata": {},
     "output_type": "display_data"
    },
    {
     "data": {
      "text/latex": [
       "\\begin{equation*}\\frac{x}{2} + \\frac{1}{2}\\end{equation*}"
      ],
      "text/plain": [
       "x   1\n",
       "─ + ─\n",
       "2   2"
      ]
     },
     "metadata": {},
     "output_type": "display_data"
    },
    {
     "data": {
      "text/latex": [
       "\\begin{equation*}\\frac{x + \\frac{\\left(x + 1\\right)^{2}}{4}}{x + 1}\\end{equation*}"
      ],
      "text/plain": [
       "           2\n",
       "    (x + 1) \n",
       "x + ────────\n",
       "       4    \n",
       "────────────\n",
       "   x + 1    "
      ]
     },
     "metadata": {},
     "output_type": "display_data"
    },
    {
     "data": {
      "text/latex": [
       "\\begin{equation*}\\frac{x^{4} + 28 x^{3} + 70 x^{2} + 28 x + 1}{8 \\left(x^{3} + 7 x^{2} + 7 x + 1\\right)}\\end{equation*}"
      ],
      "text/plain": [
       " 4       3       2           \n",
       "x  + 28⋅x  + 70⋅x  + 28⋅x + 1\n",
       "─────────────────────────────\n",
       "     ⎛ 3      2          ⎞   \n",
       "   8⋅⎝x  + 7⋅x  + 7⋅x + 1⎠   "
      ]
     },
     "metadata": {},
     "output_type": "display_data"
    },
    {
     "data": {
      "text/latex": [
       "\\begin{equation*}\\frac{x^{8} + 120 x^{7} + 1820 x^{6} + 8008 x^{5} + 12870 x^{4} + 8008 x^{3} + 1820 x^{2} + 120 x + 1}{16 \\left(x^{7} + 35 x^{6} + 273 x^{5} + 715 x^{4} + 715 x^{3} + 273 x^{2} + 35 x + 1\\right)}\\end{equation*}"
      ],
      "text/plain": [
       " 8        7         6         5          4         3         2            \n",
       "x  + 120⋅x  + 1820⋅x  + 8008⋅x  + 12870⋅x  + 8008⋅x  + 1820⋅x  + 120⋅x + 1\n",
       "──────────────────────────────────────────────────────────────────────────\n",
       "         ⎛ 7       6        5        4        3        2           ⎞      \n",
       "      16⋅⎝x  + 35⋅x  + 273⋅x  + 715⋅x  + 715⋅x  + 273⋅x  + 35⋅x + 1⎠      "
      ]
     },
     "metadata": {},
     "output_type": "display_data"
    },
    {
     "data": {
      "text/latex": [
       "\\begin{equation*}\\frac{x^{16} + 496 x^{15} + 35960 x^{14} + 906192 x^{13} + 10518300 x^{12} + 64512240 x^{11} + 225792840 x^{10} + 471435600 x^{9} + 601080390 x^{8} + 471435600 x^{7} + 225792840 x^{6} + 64512240 x^{5} + 10518300 x^{4} + 906192 x^{3} + 35960 x^{2} + 496 x + 1}{32 \\left(x^{15} + 155 x^{14} + 6293 x^{13} + 105183 x^{12} + 876525 x^{11} + 4032015 x^{10} + 10855425 x^{9} + 17678835 x^{8} + 17678835 x^{7} + 10855425 x^{6} + 4032015 x^{5} + 876525 x^{4} + 105183 x^{3} + 6293 x^{2} + 155 x + 1\\right)}\\end{equation*}"
      ],
      "text/plain": [
       " 16        15          14           13             12             11          \n",
       "x   + 496⋅x   + 35960⋅x   + 906192⋅x   + 10518300⋅x   + 64512240⋅x   + 2257928\n",
       "──────────────────────────────────────────────────────────────────────────────\n",
       "               ⎛ 15        14         13           12           11            \n",
       "            32⋅⎝x   + 155⋅x   + 6293⋅x   + 105183⋅x   + 876525⋅x   + 4032015⋅x\n",
       "\n",
       "    10              9              8              7              6            \n",
       "40⋅x   + 471435600⋅x  + 601080390⋅x  + 471435600⋅x  + 225792840⋅x  + 64512240⋅\n",
       "──────────────────────────────────────────────────────────────────────────────\n",
       "10             9             8             7             6            5       \n",
       "   + 10855425⋅x  + 17678835⋅x  + 17678835⋅x  + 10855425⋅x  + 4032015⋅x  + 8765\n",
       "\n",
       " 5             4           3          2            \n",
       "x  + 10518300⋅x  + 906192⋅x  + 35960⋅x  + 496⋅x + 1\n",
       "───────────────────────────────────────────────────\n",
       "    4           3         2            ⎞           \n",
       "25⋅x  + 105183⋅x  + 6293⋅x  + 155⋅x + 1⎠           "
      ]
     },
     "metadata": {},
     "output_type": "display_data"
    },
    {
     "data": {
      "text/plain": [
       "\"Derivatives as a function of x\""
      ]
     },
     "metadata": {},
     "output_type": "display_data"
    },
    {
     "data": {
      "text/latex": [
       "\\begin{equation*}\\frac{1}{2}\\end{equation*}"
      ],
      "text/plain": [
       "1/2"
      ]
     },
     "metadata": {},
     "output_type": "display_data"
    },
    {
     "data": {
      "text/latex": [
       "\\begin{equation*}\\frac{x^{2} + 2 x + 5}{4 \\left(x^{2} + 2 x + 1\\right)}\\end{equation*}"
      ],
      "text/plain": [
       "   2            \n",
       "  x  + 2⋅x + 5  \n",
       "────────────────\n",
       "  ⎛ 2          ⎞\n",
       "4⋅⎝x  + 2⋅x + 1⎠"
      ]
     },
     "metadata": {},
     "output_type": "display_data"
    },
    {
     "data": {
      "text/latex": [
       "\\begin{equation*}\\frac{x^{6} + 14 x^{5} + 147 x^{4} + 340 x^{3} + 375 x^{2} + 126 x + 21}{8 \\left(x^{6} + 14 x^{5} + 63 x^{4} + 100 x^{3} + 63 x^{2} + 14 x + 1\\right)}\\end{equation*}"
      ],
      "text/plain": [
       " 6       5        4        3        2             \n",
       "x  + 14⋅x  + 147⋅x  + 340⋅x  + 375⋅x  + 126⋅x + 21\n",
       "──────────────────────────────────────────────────\n",
       "  ⎛ 6       5       4        3       2           ⎞\n",
       "8⋅⎝x  + 14⋅x  + 63⋅x  + 100⋅x  + 63⋅x  + 14⋅x + 1⎠"
      ]
     },
     "metadata": {},
     "output_type": "display_data"
    },
    {
     "data": {
      "text/latex": [
       "\\begin{equation*}\\frac{x^{14} + 70 x^{13} + 3199 x^{12} + 52364 x^{11} + 438945 x^{10} + 2014506 x^{9} + 5430215 x^{8} + 8836200 x^{7} + 8842635 x^{6} + 5425210 x^{5} + 2017509 x^{4} + 437580 x^{3} + 52819 x^{2} + 3094 x + 85}{16 \\left(x^{14} + 70 x^{13} + 1771 x^{12} + 20540 x^{11} + 126009 x^{10} + 440986 x^{9} + 920795 x^{8} + 1173960 x^{7} + 920795 x^{6} + 440986 x^{5} + 126009 x^{4} + 20540 x^{3} + 1771 x^{2} + 70 x + 1\\right)}\\end{equation*}"
      ],
      "text/plain": [
       " 14       13         12          11           10            9            8    \n",
       "x   + 70⋅x   + 3199⋅x   + 52364⋅x   + 438945⋅x   + 2014506⋅x  + 5430215⋅x  + 8\n",
       "──────────────────────────────────────────────────────────────────────────────\n",
       "      ⎛ 14       13         12          11           10           9           \n",
       "   16⋅⎝x   + 70⋅x   + 1771⋅x   + 20540⋅x   + 126009⋅x   + 440986⋅x  + 920795⋅x\n",
       "\n",
       "        7            6            5            4           3          2       \n",
       "836200⋅x  + 8842635⋅x  + 5425210⋅x  + 2017509⋅x  + 437580⋅x  + 52819⋅x  + 3094\n",
       "──────────────────────────────────────────────────────────────────────────────\n",
       "8            7           6           5           4          3         2       \n",
       "  + 1173960⋅x  + 920795⋅x  + 440986⋅x  + 126009⋅x  + 20540⋅x  + 1771⋅x  + 70⋅x\n",
       "\n",
       "       \n",
       "⋅x + 85\n",
       "───────\n",
       "    ⎞  \n",
       " + 1⎠  "
      ]
     },
     "metadata": {},
     "output_type": "display_data"
    },
    {
     "data": {
      "text/latex": [
       "\\begin{equation*}\\frac{x^{30} + 310 x^{29} + 59799 x^{28} + 4851004 x^{27} + 215176549 x^{26} + 5809257090 x^{25} + 102632077611 x^{24} + 1246240871640 x^{23} + 10776333438765 x^{22} + 68124037776390 x^{21} + 321156247784955 x^{20} + 1146261110726340 x^{19} + 3133113888931089 x^{18} + 6614351291211874 x^{17} + 10850143060249839 x^{16} + 13883516068991952 x^{15} + 13883516369532147 x^{14} + 10850142795067314 x^{13} + 6614351497464949 x^{12} + 3133113747810564 x^{11} + 1146261195398655 x^{10} + 321156203432790 x^{9} + 68124057936465 x^{8} + 10776325550040 x^{7} + 1246243501215 x^{6} + 102631341330 x^{5} + 5809427001 x^{4} + 215145084 x^{3} + 4855499 x^{2} + 59334 x + 341}{32 \\left(x^{30} + 310 x^{29} + 36611 x^{28} + 2161196 x^{27} + 73961629 x^{26} + 1603620018 x^{25} + 23367042639 x^{24} + 238538538360 x^{23} + 1758637118685 x^{22} + 9579944198310 x^{21} + 39232152623175 x^{20} + 122387258419860 x^{19} + 293729420641881 x^{18} + 546274556891506 x^{17} + 791156255418003 x^{16} + 894836006026128 x^{15} + 791156255418003 x^{14} + 546274556891506 x^{13} + 293729420641881 x^{12} + 122387258419860 x^{11} + 39232152623175 x^{10} + 9579944198310 x^{9} + 1758637118685 x^{8} + 238538538360 x^{7} + 23367042639 x^{6} + 1603620018 x^{5} + 73961629 x^{4} + 2161196 x^{3} + 36611 x^{2} + 310 x + 1\\right)}\\end{equation*}"
      ],
      "text/plain": [
       " 30        29          28            27              26               25      \n",
       "x   + 310⋅x   + 59799⋅x   + 4851004⋅x   + 215176549⋅x   + 5809257090⋅x   + 102\n",
       "──────────────────────────────────────────────────────────────────────────────\n",
       "                     ⎛ 30        29          28            27             26  \n",
       "                  32⋅⎝x   + 310⋅x   + 36611⋅x   + 2161196⋅x   + 73961629⋅x   +\n",
       "\n",
       "           24                  23                   22                   21   \n",
       "632077611⋅x   + 1246240871640⋅x   + 10776333438765⋅x   + 68124037776390⋅x   + \n",
       "──────────────────────────────────────────────────────────────────────────────\n",
       "             25                24                 23                  22      \n",
       " 1603620018⋅x   + 23367042639⋅x   + 238538538360⋅x   + 1758637118685⋅x   + 957\n",
       "\n",
       "                 20                     19                     18             \n",
       "321156247784955⋅x   + 1146261110726340⋅x   + 3133113888931089⋅x   + 6614351291\n",
       "──────────────────────────────────────────────────────────────────────────────\n",
       "            21                   20                    19                    1\n",
       "9944198310⋅x   + 39232152623175⋅x   + 122387258419860⋅x   + 293729420641881⋅x \n",
       "\n",
       "        17                      16                      15                    \n",
       "211874⋅x   + 10850143060249839⋅x   + 13883516068991952⋅x   + 13883516369532147\n",
       "──────────────────────────────────────────────────────────────────────────────\n",
       "8                    17                    16                    15           \n",
       "  + 546274556891506⋅x   + 791156255418003⋅x   + 894836006026128⋅x   + 79115625\n",
       "\n",
       "  14                      13                     12                     11    \n",
       "⋅x   + 10850142795067314⋅x   + 6614351497464949⋅x   + 3133113747810564⋅x   + 1\n",
       "──────────────────────────────────────────────────────────────────────────────\n",
       "         14                    13                    12                    11 \n",
       "5418003⋅x   + 546274556891506⋅x   + 293729420641881⋅x   + 122387258419860⋅x   \n",
       "\n",
       "                 10                    9                   8                  \n",
       "146261195398655⋅x   + 321156203432790⋅x  + 68124057936465⋅x  + 10776325550040⋅\n",
       "──────────────────────────────────────────────────────────────────────────────\n",
       "                  10                  9                  8                 7  \n",
       "+ 39232152623175⋅x   + 9579944198310⋅x  + 1758637118685⋅x  + 238538538360⋅x  +\n",
       "\n",
       " 7                  6                 5               4              3        \n",
       "x  + 1246243501215⋅x  + 102631341330⋅x  + 5809427001⋅x  + 215145084⋅x  + 48554\n",
       "──────────────────────────────────────────────────────────────────────────────\n",
       "              6               5             4            3          2         \n",
       " 23367042639⋅x  + 1603620018⋅x  + 73961629⋅x  + 2161196⋅x  + 36611⋅x  + 310⋅x \n",
       "\n",
       "    2                \n",
       "99⋅x  + 59334⋅x + 341\n",
       "─────────────────────\n",
       "   ⎞                 \n",
       "+ 1⎠                 "
      ]
     },
     "metadata": {},
     "output_type": "display_data"
    }
   ],
   "source": [
    "x = symbols(\"x\")\n",
    "\n",
    "display(\"Iterations as a function of x\")\n",
    "for k = 1:5\n",
    "    display(simplify(Babylonian(x; N=k)))\n",
    "end\n",
    "\n",
    "display(\"Derivatives as a function of x\")\n",
    "for k = 1:5\n",
    "    display(simplify(diff(simplify(Babylonian(x; N=k)), x)))\n",
    "end"
   ]
  },
  {
   "cell_type": "code",
   "execution_count": 25,
   "metadata": {},
   "outputs": [
    {
     "name": "stdout",
     "output_type": "stream",
     "text": [
      "\t.section\t__TEXT,__text,regular,pure_instructions\n",
      "\tvmovupd\t(%rdx), %xmm1\n",
      "\tmovabsq\t$5205905600, %rax       ## imm = 0x1364BD0C0\n",
      "\tvaddsd\t(%rax), %xmm1, %xmm0\n",
      "\tvpermilpd\t$1, %xmm1, %xmm2 ## xmm2 = xmm1[1,0]\n",
      "\tvxorpd\t%xmm3, %xmm3, %xmm3\n",
      "\tvaddsd\t%xmm3, %xmm2, %xmm2\n",
      "\tvaddsd\t%xmm2, %xmm2, %xmm2\n",
      "\tvmulsd\t%xmm3, %xmm0, %xmm3\n",
      "\tvsubsd\t%xmm3, %xmm2, %xmm2\n",
      "\tvunpcklpd\t%xmm0, %xmm2, %xmm0 ## xmm0 = xmm2[0],xmm0[0]\n",
      "\tmovabsq\t$5205905616, %rdx       ## imm = 0x1364BD0D0\n",
      "\tvmulpd\t(%rdx), %xmm0, %xmm0\n",
      "\tmovq\t%rdi, %rax\n",
      "\tmovq\t(%rsi), %rsi\n",
      "\ttestq\t%rsi, %rsi\n",
      "\tmovl\t$1, %ecx\n",
      "\tcmovgq\t%rsi, %rcx\n",
      "\tcmpq\t$2, %rsi\n",
      "\tjl\tL191\n",
      "\tdecq\t%rcx\n",
      "\tmovabsq\t$5205905608, %rsi       ## imm = 0x1364BD0C8\n",
      "\tvmovsd\t(%rsi), %xmm2           ## xmm2 = mem[0],zero\n",
      "\tvmovapd\t(%rdx), %xmm3\n",
      "\tnopl\t(%rax,%rax)\n",
      "L112:\n",
      "\tvmulpd\t%xmm1, %xmm0, %xmm4\n",
      "\tvpermilpd\t$1, %xmm4, %xmm5 ## xmm5 = xmm4[1,0]\n",
      "\tvsubsd\t%xmm4, %xmm5, %xmm4\n",
      "\tvpermilpd\t$1, %xmm0, %xmm5 ## xmm5 = xmm0[1,0]\n",
      "\tvmulsd\t%xmm5, %xmm5, %xmm5\n",
      "\tvunpcklpd\t%xmm1, %xmm4, %xmm4 ## xmm4 = xmm4[0],xmm1[0]\n",
      "\tvblendpd\t$1, %xmm5, %xmm0, %xmm5 ## xmm5 = xmm5[0],xmm0[1]\n",
      "\tvdivpd\t%xmm5, %xmm4, %xmm4\n",
      "\tvaddpd\t%xmm4, %xmm0, %xmm0\n",
      "\tvmulpd\t%xmm2, %xmm0, %xmm4\n",
      "\tvpermilpd\t$1, %xmm4, %xmm5 ## xmm5 = xmm4[1,0]\n",
      "\tvsubsd\t%xmm5, %xmm4, %xmm4\n",
      "\tvblendpd\t$1, %xmm4, %xmm0, %xmm0 ## xmm0 = xmm4[0],xmm0[1]\n",
      "\tvmulpd\t%xmm3, %xmm0, %xmm0\n",
      "\tdecq\t%rcx\n",
      "\tjne\tL112\n",
      "\tvpermilpd\t$1, %xmm0, %xmm1 ## xmm1 = xmm0[1,0]\n",
      "\tjmp\tL197\n",
      "L191:\n",
      "\tvpermilpd\t$1, %xmm0, %xmm1 ## xmm1 = xmm0[1,0]\n",
      "L197:\n",
      "\tvmovsd\t%xmm1, (%rax)\n",
      "\tvmovsd\t%xmm0, 8(%rax)\n",
      "\tretq\n",
      "\tnop\n"
     ]
    }
   ],
   "source": [
    "@code_native debuginfo=:none Babylonian(D(5, 1); N=5)"
   ]
  },
  {
   "cell_type": "markdown",
   "metadata": {},
   "source": [
    "## ForwardDiff.jl"
   ]
  },
  {
   "cell_type": "markdown",
   "metadata": {},
   "source": [
    "Now that we have understood how forward AD works, we can use the more feature complete package [ForwardDiff.jl](https://github.com/JuliaDiff/ForwardDiff.jl)."
   ]
  },
  {
   "cell_type": "code",
   "execution_count": null,
   "metadata": {},
   "outputs": [],
   "source": [
    "using ForwardDiff"
   ]
  },
  {
   "cell_type": "code",
   "execution_count": null,
   "metadata": {},
   "outputs": [],
   "source": [
    "ForwardDiff.derivative(Babylonian, 2)"
   ]
  },
  {
   "cell_type": "code",
   "execution_count": null,
   "metadata": {},
   "outputs": [],
   "source": [
    "@edit ForwardDiff.derivative(Babylonian, 2)"
   ]
  },
  {
   "cell_type": "markdown",
   "metadata": {},
   "source": [
    "(Note: [DiffRules.jl](https://github.com/JuliaDiff/DiffRules.jl))"
   ]
  },
  {
   "cell_type": "markdown",
   "metadata": {},
   "source": [
    "## Reverse mode AD"
   ]
  },
  {
   "cell_type": "markdown",
   "metadata": {},
   "source": [
    "Forward mode:\n",
    "$\\dfrac{\\partial f}{\\partial x} = \\dfrac{\\partial f}{\\partial c_4} \\dfrac{\\partial c_4}{\\partial x} = \\dfrac{\\partial f}{\\partial c_4} \\left( \\dfrac{\\partial c_4}{\\partial c_3} \\dfrac{\\partial c_3}{\\partial x}  \\right) = \\dfrac{\\partial f}{\\partial c_4} \\left( \\dfrac{\\partial c_4}{\\partial c_3} \\left( \\dfrac{\\partial c_3}{\\partial c_2} \\dfrac{\\partial c_2}{\\partial x} + \\dfrac{\\partial c_3}{\\partial c_1} \\dfrac{\\partial c_1}{\\partial x}\\right)  \\right)$\n",
    "\n",
    "Reverse mode:\n",
    "$\\dfrac{\\partial f}{\\partial x} = \\dfrac{\\partial f}{\\partial c_4} \\dfrac{\\partial c_4}{\\partial x} = \\left( \\dfrac{\\partial f}{\\partial c_3}\\dfrac{\\partial c_3}{\\partial c_4}   \\right) \\dfrac{\\partial c_4}{\\partial x} = \\left( \\left( \\dfrac{\\partial f}{\\partial c_2} \\dfrac{\\partial c_2}{\\partial c_3} + \\dfrac{\\partial f}{\\partial c_1} \\dfrac{\\partial c_1}{\\partial c_3} \\right) \\dfrac{\\partial c_3}{\\partial c_4} \\right) \\dfrac{\\partial c_4}{\\partial x}$"
   ]
  },
  {
   "cell_type": "markdown",
   "metadata": {},
   "source": [
    "Forward mode AD requires $n$ passes in order to compute an $n$-dimensional\n",
    "gradient.\n",
    "\n",
    "Reverse mode AD requires only a single run in order to compute a complete gradient but requires two passes through the graph: a forward pass during which necessary intermediate values are computed and a backward pass which computes the gradient."
   ]
  },
  {
   "cell_type": "markdown",
   "metadata": {},
   "source": [
    "*Rule of thumb:*\n",
    "\n",
    "Forward mode is good for $\\mathbb{R} \\rightarrow \\mathbb{R}^n$ while reverse mode is good for $\\mathbb{R}^n \\rightarrow \\mathbb{R}$."
   ]
  },
  {
   "cell_type": "markdown",
   "metadata": {},
   "source": [
    "An efficient source-to-source reverse mode AD is implemented in [Zygote.jl](https://github.com/FluxML/Zygote.jl), the AD underlying [Flux.jl](https://fluxml.ai/) (since version 0.10)."
   ]
  },
  {
   "cell_type": "code",
   "execution_count": null,
   "metadata": {},
   "outputs": [],
   "source": [
    "using Zygote"
   ]
  },
  {
   "cell_type": "code",
   "execution_count": null,
   "metadata": {},
   "outputs": [],
   "source": [
    "f(x) = 5*x + 3"
   ]
  },
  {
   "cell_type": "code",
   "execution_count": null,
   "metadata": {},
   "outputs": [],
   "source": [
    "gradient(f, 5)"
   ]
  },
  {
   "cell_type": "code",
   "execution_count": null,
   "metadata": {},
   "outputs": [],
   "source": [
    "@code_llvm debuginfo=:none gradient(f,5)"
   ]
  },
  {
   "cell_type": "markdown",
   "metadata": {},
   "source": [
    "## Some nice reads"
   ]
  },
  {
   "cell_type": "markdown",
   "metadata": {},
   "source": [
    "Blog posts:\n",
    "\n",
    "* ML in Julia: https://julialang.org/blog/2018/12/ml-language-compiler\n",
    "\n",
    "* Nice example: https://fluxml.ai/2019/03/05/dp-vs-rl.html\n",
    "\n",
    "* Nice interactive examples: https://fluxml.ai/experiments/\n",
    "\n",
    "* Why Julia for ML? https://julialang.org/blog/2017/12/ml&pl\n",
    "\n",
    "* Neural networks with differential equation layers: https://julialang.org/blog/2019/01/fluxdiffeq\n",
    "\n",
    "* Implement Your Own Automatic Differentiation with Julia in ONE day : http://blog.rogerluo.me/2018/10/23/write-an-ad-in-one-day/\n",
    "\n",
    "* Implement Your Own Source To Source AD in ONE day!: http://blog.rogerluo.me/2019/07/27/yassad/\n",
    "\n",
    "Repositories:\n",
    "\n",
    "* AD flavors, like forward and reverse mode AD: https://github.com/MikeInnes/diff-zoo (Mike is one of the smartest Julia ML heads)\n",
    "\n",
    "Talks:\n",
    "\n",
    "* AD is a compiler problem: https://juliacomputing.com/assets/pdf/CGO_C4ML_talk.pdf"
   ]
  }
 ],
 "metadata": {
  "@webio": {
   "lastCommId": null,
   "lastKernelId": null
  },
  "kernelspec": {
   "display_name": "Julia 1.5.3",
   "language": "julia",
   "name": "julia-1.5"
  },
  "language_info": {
   "file_extension": ".jl",
   "mimetype": "application/julia",
   "name": "julia",
   "version": "1.5.3"
  }
 },
 "nbformat": 4,
 "nbformat_minor": 4
}
