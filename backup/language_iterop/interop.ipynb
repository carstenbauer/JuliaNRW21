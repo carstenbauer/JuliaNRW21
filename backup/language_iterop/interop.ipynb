{
 "cells": [
  {
   "cell_type": "markdown",
   "id": "drawn-receiver",
   "metadata": {},
   "source": [
    "# C"
   ]
  },
  {
   "cell_type": "code",
   "execution_count": 101,
   "id": "polyphonic-windows",
   "metadata": {},
   "outputs": [],
   "source": [
    "c_code = \"\"\"\n",
    "#include <stddef.h>\n",
    "double c_sum(size_t n, double *X) {\n",
    "    double s = 0.0;\n",
    "    for (size_t i = 0; i < n; ++i) {\n",
    "        s += X[i];\n",
    "    }\n",
    "    return s;\n",
    "}\n",
    "\"\"\";"
   ]
  },
  {
   "cell_type": "code",
   "execution_count": 102,
   "id": "harmful-wound",
   "metadata": {},
   "outputs": [
    {
     "data": {
      "text/plain": [
       "c_sum (generic function with 1 method)"
      ]
     },
     "execution_count": 102,
     "metadata": {},
     "output_type": "execute_result"
    }
   ],
   "source": [
    "# compile to a shared library by piping C_code to gcc:\n",
    "using Libdl\n",
    "const Clib = tempname()\n",
    "\n",
    "open(`gcc -fPIC -O3 -msse3 -xc -shared -o $(Clib * \".\" * Libdl.dlext) -`, \"w\") do f\n",
    "    print(f, c_code)\n",
    "end\n",
    "\n",
    "c_sum(X::Array{Float64}) = ccall((\"c_sum\", Clib), Float64, (Csize_t, Ptr{Float64}), length(X), X)"
   ]
  },
  {
   "cell_type": "code",
   "execution_count": 103,
   "id": "knowing-trial",
   "metadata": {},
   "outputs": [
    {
     "data": {
      "text/plain": [
       "5.415699659076963"
      ]
     },
     "execution_count": 103,
     "metadata": {},
     "output_type": "execute_result"
    }
   ],
   "source": [
    "c_sum(rand(10))"
   ]
  },
  {
   "cell_type": "code",
   "execution_count": 105,
   "id": "northern-treat",
   "metadata": {},
   "outputs": [
    {
     "name": "stdout",
     "output_type": "stream",
     "text": [
      "  3.733 ns (0 allocations: 0 bytes)\n"
     ]
    }
   ],
   "source": [
    "x = rand(10)\n",
    "@btime c_sum($x);"
   ]
  },
  {
   "cell_type": "markdown",
   "id": "killing-garage",
   "metadata": {},
   "source": [
    "# Python"
   ]
  },
  {
   "cell_type": "code",
   "execution_count": 6,
   "id": "injured-understanding",
   "metadata": {},
   "outputs": [],
   "source": [
    "using PyCall"
   ]
  },
  {
   "cell_type": "code",
   "execution_count": 7,
   "id": "korean-rubber",
   "metadata": {},
   "outputs": [
    {
     "data": {
      "text/plain": [
       "PyObject <module 'numpy' from '/Users/crstnbr/opt/anaconda3/lib/python3.7/site-packages/numpy/__init__.py'>"
      ]
     },
     "execution_count": 7,
     "metadata": {},
     "output_type": "execute_result"
    }
   ],
   "source": [
    "np = pyimport(\"numpy\")"
   ]
  },
  {
   "cell_type": "code",
   "execution_count": 60,
   "id": "cross-costume",
   "metadata": {},
   "outputs": [
    {
     "data": {
      "text/plain": [
       "5-element Array{Float64,1}:\n",
       "  3.3640844258821025\n",
       " -0.41966309080077363\n",
       " -0.04857463403251538\n",
       "  0.2167722366676619\n",
       "  0.670248036886041"
      ]
     },
     "execution_count": 60,
     "metadata": {},
     "output_type": "execute_result"
    }
   ],
   "source": [
    "np.linalg.eigvals(np.random.rand(5,5))"
   ]
  },
  {
   "cell_type": "code",
   "execution_count": 64,
   "id": "ordinary-scoop",
   "metadata": {},
   "outputs": [
    {
     "data": {
      "text/plain": [
       "5-element Array{Complex{Float64},1}:\n",
       "    2.555080179412813 + 0.0im\n",
       "  -0.9171259377677111 + 0.0im\n",
       " -0.12774373739007613 + 0.0im\n",
       "   0.5511822315013549 + 0.0859843279752961im\n",
       "   0.5511822315013549 - 0.0859843279752961im"
      ]
     },
     "execution_count": 64,
     "metadata": {},
     "output_type": "execute_result"
    }
   ],
   "source": [
    "M = rand(5,5)\n",
    "np.linalg.eigvals(M)"
   ]
  },
  {
   "cell_type": "code",
   "execution_count": 94,
   "id": "funky-switch",
   "metadata": {},
   "outputs": [],
   "source": [
    "py\"\"\"\n",
    "import numpy as np\n",
    "\n",
    "def sinpi(x):\n",
    "    return np.sin(np.pi * x)\n",
    "\"\"\""
   ]
  },
  {
   "cell_type": "code",
   "execution_count": 98,
   "id": "portable-mistress",
   "metadata": {},
   "outputs": [
    {
     "data": {
      "text/plain": [
       "py_sinpi (generic function with 1 method)"
      ]
     },
     "execution_count": 98,
     "metadata": {},
     "output_type": "execute_result"
    }
   ],
   "source": [
    "py_sinpi(x) = py\"sinpi\"(x)"
   ]
  },
  {
   "cell_type": "code",
   "execution_count": 99,
   "id": "unnecessary-mouth",
   "metadata": {},
   "outputs": [
    {
     "data": {
      "text/plain": [
       "-1.2246467991473533e-15"
      ]
     },
     "execution_count": 99,
     "metadata": {},
     "output_type": "execute_result"
    }
   ],
   "source": [
    "py_sinpi(10)"
   ]
  },
  {
   "cell_type": "code",
   "execution_count": 132,
   "id": "identical-martial",
   "metadata": {},
   "outputs": [
    {
     "name": "stdout",
     "output_type": "stream",
     "text": [
      "  10.086 μs (10 allocations: 256 bytes)\n"
     ]
    }
   ],
   "source": [
    "@btime py_sinpi(10);"
   ]
  },
  {
   "cell_type": "markdown",
   "id": "olympic-russian",
   "metadata": {},
   "source": [
    "# Mixing everything"
   ]
  },
  {
   "cell_type": "markdown",
   "id": "immune-thirty",
   "metadata": {},
   "source": [
    "Julia (`real`), Python/numpy (`py_sinpi`), C (`c_sum`)"
   ]
  },
  {
   "cell_type": "code",
   "execution_count": 127,
   "id": "nutritional-shaft",
   "metadata": {},
   "outputs": [],
   "source": [
    "x = rand(10);"
   ]
  },
  {
   "cell_type": "code",
   "execution_count": 128,
   "id": "agricultural-watson",
   "metadata": {},
   "outputs": [
    {
     "data": {
      "text/plain": [
       "0.7636821843838295"
      ]
     },
     "execution_count": 128,
     "metadata": {},
     "output_type": "execute_result"
    }
   ],
   "source": [
    "py_sinpi(real(c_sum(x)))"
   ]
  },
  {
   "cell_type": "code",
   "execution_count": 129,
   "id": "quantitative-category",
   "metadata": {},
   "outputs": [
    {
     "name": "stdout",
     "output_type": "stream",
     "text": [
      "  9.350 μs (8 allocations: 224 bytes)\n"
     ]
    }
   ],
   "source": [
    "@btime py_sinpi(real(c_sum($x)));"
   ]
  },
  {
   "cell_type": "markdown",
   "id": "pretty-implement",
   "metadata": {},
   "source": [
    "See [JuliaInterop](https://github.com/JuliaInterop) for more, such as [RCall.jl](https://github.com/JuliaInterop/RCall.jl), [JavaCall.jl](https://github.com/JuliaInterop/JavaCall.jl), and [MATLAB.jl](https://github.com/JuliaInterop/MATLAB.jl)."
   ]
  }
 ],
 "metadata": {
  "kernelspec": {
   "display_name": "Julia 1.5.3",
   "language": "julia",
   "name": "julia-1.5"
  },
  "language_info": {
   "file_extension": ".jl",
   "mimetype": "application/julia",
   "name": "julia",
   "version": "1.5.3"
  }
 },
 "nbformat": 4,
 "nbformat_minor": 5
}
