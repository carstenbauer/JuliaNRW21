{
 "cells": [
  {
   "cell_type": "markdown",
   "id": "young-newport",
   "metadata": {},
   "source": [
    "# Programming language interoperability"
   ]
  },
  {
   "cell_type": "markdown",
   "id": "offensive-premium",
   "metadata": {},
   "source": [
    "## Python"
   ]
  },
  {
   "cell_type": "code",
   "execution_count": null,
   "id": "annual-burner",
   "metadata": {},
   "outputs": [],
   "source": [
    "using PyCall"
   ]
  },
  {
   "cell_type": "code",
   "execution_count": null,
   "id": "extensive-providence",
   "metadata": {},
   "outputs": [],
   "source": [
    "np = pyimport(\"numpy\")"
   ]
  },
  {
   "cell_type": "code",
   "execution_count": null,
   "id": "attractive-dispute",
   "metadata": {},
   "outputs": [],
   "source": [
    "np.linalg.eigvals(np.random.rand(5,5))"
   ]
  },
  {
   "cell_type": "code",
   "execution_count": null,
   "id": "ignored-corrections",
   "metadata": {},
   "outputs": [],
   "source": [
    "M = rand(5,5)\n",
    "np.linalg.eigvals(M)"
   ]
  },
  {
   "cell_type": "code",
   "execution_count": null,
   "id": "varied-marine",
   "metadata": {},
   "outputs": [],
   "source": [
    "py\"\"\"\n",
    "import numpy as np\n",
    "\n",
    "def sinpi(x):\n",
    "    return np.sin(np.pi * x)\n",
    "\"\"\""
   ]
  },
  {
   "cell_type": "code",
   "execution_count": null,
   "id": "coordinated-albany",
   "metadata": {},
   "outputs": [],
   "source": [
    "py_sinpi(x) = py\"sinpi\"(x)"
   ]
  },
  {
   "cell_type": "code",
   "execution_count": null,
   "id": "renewable-lafayette",
   "metadata": {},
   "outputs": [],
   "source": [
    "py_sinpi(10)"
   ]
  },
  {
   "cell_type": "code",
   "execution_count": null,
   "id": "reduced-zambia",
   "metadata": {},
   "outputs": [],
   "source": [
    "using BenchmarkTools\n",
    "@btime py_sinpi(10);"
   ]
  },
  {
   "cell_type": "markdown",
   "id": "drawn-receiver",
   "metadata": {},
   "source": [
    "## C"
   ]
  },
  {
   "cell_type": "code",
   "execution_count": null,
   "id": "polyphonic-windows",
   "metadata": {},
   "outputs": [],
   "source": [
    "c_code = \"\"\"\n",
    "#include <stddef.h>\n",
    "double c_sum(size_t n, double *X) {\n",
    "    double s = 0.0;\n",
    "    for (size_t i = 0; i < n; ++i) {\n",
    "        s += X[i];\n",
    "    }\n",
    "    return s;\n",
    "}\n",
    "\"\"\";"
   ]
  },
  {
   "cell_type": "markdown",
   "id": "mental-second",
   "metadata": {},
   "source": [
    "Compile to a shared library by piping `c_code` to gcc:"
   ]
  },
  {
   "cell_type": "code",
   "execution_count": null,
   "id": "different-developer",
   "metadata": {},
   "outputs": [],
   "source": [
    "using Libdl\n",
    "const Clib = tempname()\n",
    "\n",
    "open(`gcc -fPIC -O3 -msse3 -xc -shared -o $(Clib * \".\" * Libdl.dlext) -`, \"w\") do f\n",
    "    print(f, c_code)\n",
    "end"
   ]
  },
  {
   "cell_type": "markdown",
   "id": "combined-partition",
   "metadata": {},
   "source": [
    "Binding the function from the shared library:"
   ]
  },
  {
   "cell_type": "code",
   "execution_count": null,
   "id": "harmful-wound",
   "metadata": {},
   "outputs": [],
   "source": [
    "c_sum(X::Array{Float64}) = @ccall Clib.c_sum(length(X)::Csize_t, X::Ptr{Float64})::Float64"
   ]
  },
  {
   "cell_type": "code",
   "execution_count": null,
   "id": "knowing-trial",
   "metadata": {},
   "outputs": [],
   "source": [
    "c_sum(rand(10))"
   ]
  },
  {
   "cell_type": "code",
   "execution_count": null,
   "id": "northern-treat",
   "metadata": {},
   "outputs": [],
   "source": [
    "x = rand(10)\n",
    "@btime c_sum($x);"
   ]
  },
  {
   "cell_type": "markdown",
   "id": "olympic-russian",
   "metadata": {},
   "source": [
    "## Mixing Julia, Python, and C"
   ]
  },
  {
   "cell_type": "markdown",
   "id": "immune-thirty",
   "metadata": {},
   "source": [
    "Julia (`real`), Python/numpy (`py_sinpi`), C (`c_sum`)"
   ]
  },
  {
   "cell_type": "code",
   "execution_count": null,
   "id": "nutritional-shaft",
   "metadata": {},
   "outputs": [],
   "source": [
    "x = rand(10);"
   ]
  },
  {
   "cell_type": "code",
   "execution_count": null,
   "id": "agricultural-watson",
   "metadata": {},
   "outputs": [],
   "source": [
    "py_sinpi(real(c_sum(x)))"
   ]
  },
  {
   "cell_type": "code",
   "execution_count": null,
   "id": "quantitative-category",
   "metadata": {},
   "outputs": [],
   "source": [
    "@btime py_sinpi(real(c_sum($x)));"
   ]
  },
  {
   "cell_type": "markdown",
   "id": "pretty-implement",
   "metadata": {},
   "source": [
    "See [JuliaInterop](https://github.com/JuliaInterop) for more, such as [RCall.jl](https://github.com/JuliaInterop/RCall.jl), [JavaCall.jl](https://github.com/JuliaInterop/JavaCall.jl), and [MATLAB.jl](https://github.com/JuliaInterop/MATLAB.jl)."
   ]
  }
 ],
 "metadata": {
  "kernelspec": {
   "display_name": "Julia 1.5.3",
   "language": "julia",
   "name": "julia-1.5"
  },
  "language_info": {
   "file_extension": ".jl",
   "mimetype": "application/julia",
   "name": "julia",
   "version": "1.5.3"
  }
 },
 "nbformat": 4,
 "nbformat_minor": 5
}
