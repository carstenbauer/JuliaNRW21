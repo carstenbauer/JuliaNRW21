{
 "cells": [
  {
   "cell_type": "markdown",
   "metadata": {},
   "source": [
    "# Profiling tools"
   ]
  },
  {
   "cell_type": "markdown",
   "metadata": {},
   "source": [
    "With [BenchmarkTools.jl](https://github.com/JuliaCI/BenchmarkTools.jl) we've already seen a way to measure the performance of parts of code. However, sometimes we want to zoom out and identify bottlenecks in a whole block of code.\n",
    "\n",
    "Julia has a built-in [statistical profiler](https://goo.gl/Ycz4Td) in the standard library [`Profile`](https://docs.julialang.org/en/stable/stdlib/Profile/) (see also [here](https://docs.julialang.org/en/stable/manual/profile/)). \n",
    "\n",
    "In the following we want to use this profiler to identify the most time consuming parts of a function. We'll use ProfileView.jl and Juno to visualize the profiling results in a nice way."
   ]
  },
  {
   "cell_type": "markdown",
   "metadata": {},
   "source": [
    "## Profiling"
   ]
  },
  {
   "cell_type": "markdown",
   "metadata": {},
   "source": [
    "Let's say we want to profile the following function in the file `myprogram.jl`:\n",
    "\n",
    "```julia\n",
    "function myfunction(n)\n",
    "    for i = 1:n\n",
    "        A = randn(100,100,20)\n",
    "        m = maximum(A)\n",
    "        Am = mapslices(sum, A; dims=2)\n",
    "        B = A[:,:,5]\n",
    "        Bsort = mapslices(sort, B; dims=1)\n",
    "        b = rand(100)\n",
    "        C = B.*b\n",
    "    end\n",
    "end\n",
    "```"
   ]
  },
  {
   "cell_type": "code",
   "execution_count": 5,
   "metadata": {},
   "outputs": [
    {
     "data": {
      "text/plain": [
       "myfunction (generic function with 1 method)"
      ]
     },
     "execution_count": 5,
     "metadata": {},
     "output_type": "execute_result"
    }
   ],
   "source": [
    "include(\"profiling.jl\")"
   ]
  },
  {
   "cell_type": "code",
   "execution_count": 6,
   "metadata": {},
   "outputs": [],
   "source": [
    "myfunction(1)  # run once to trigger compilation"
   ]
  },
  {
   "cell_type": "markdown",
   "metadata": {},
   "source": [
    "Profiling is as simple as prepending the function call by the `@profile` macro. (Don't forget to `using Profile` first.)"
   ]
  },
  {
   "cell_type": "code",
   "execution_count": null,
   "metadata": {},
   "outputs": [],
   "source": [
    "using Profile\n",
    "Profile.clear()  # in case we have any previous profiling data\n",
    "\n",
    "@profile myfunction(10)"
   ]
  },
  {
   "cell_type": "markdown",
   "metadata": {},
   "source": [
    "In principle there is `Profile.print()` to display the result. However it isn't particularily easy to parse."
   ]
  },
  {
   "cell_type": "code",
   "execution_count": null,
   "metadata": {
    "scrolled": true
   },
   "outputs": [],
   "source": [
    "Profile.print()"
   ]
  },
  {
   "cell_type": "markdown",
   "metadata": {},
   "source": [
    "## ProfileView.jl"
   ]
  },
  {
   "cell_type": "markdown",
   "metadata": {},
   "source": [
    "We can get a much nicer visualization using [ProfileView.jl](https://github.com/timholy/ProfileView.jl).\n",
    "\n",
    "(Note that ProfileView doesn't really work in jupyter lab but only jupyter notebooks and the REPL)\n",
    "\n",
    "Make sure you have ProfileView installed.\n",
    "\n",
    "```julia\n",
    "using Pkg\n",
    "Pkg.add(\"ProfileView\")\n",
    "```"
   ]
  },
  {
   "cell_type": "code",
   "execution_count": null,
   "metadata": {},
   "outputs": [],
   "source": [
    "# using ProfileView\n",
    "# @profview myfunction(10)"
   ]
  },
  {
   "cell_type": "markdown",
   "metadata": {},
   "source": [
    "* The horizontal axis is basically \"amount of time\"\n",
    "* The vertical axis represents nesting depth"
   ]
  },
  {
   "cell_type": "markdown",
   "metadata": {},
   "source": [
    "From this visual representation, we can very quickly learn several things about this function:\n",
    "\n",
    "* The most deeply-nested call corresponds to the `mapslices(sort, B; dims=1)` call.\n",
    "\n",
    "* `mapslices(sum, A; dims=2)` is considerably more expensive than `mapslices(sort, B; dims=1)`. (This is because it has to process more data.)"
   ]
  },
  {
   "cell_type": "markdown",
   "metadata": {},
   "source": [
    "Go to [ProfileView.jl's website](https://github.com/timholy/ProfileView.jl) to learn more about the details of this diagram."
   ]
  },
  {
   "cell_type": "markdown",
   "metadata": {},
   "source": [
    "## Profiling in the Juno IDE"
   ]
  },
  {
   "cell_type": "markdown",
   "metadata": {},
   "source": [
    "Juno website: http://junolab.org/\n",
    "\n",
    "Profiling section in the Juno documentation: http://docs.junolab.org/latest/man/juno_frontend.html#Profiler-1"
   ]
  },
  {
   "cell_type": "markdown",
   "metadata": {},
   "source": [
    "*Let's open the file `myprogram.jl` in Juno...*"
   ]
  },
  {
   "cell_type": "markdown",
   "metadata": {},
   "source": [
    "# [TimerOutputs.jl](https://github.com/KristofferC/TimerOutputs.jl)"
   ]
  },
  {
   "cell_type": "code",
   "execution_count": null,
   "metadata": {},
   "outputs": [],
   "source": [
    "using TimerOutputs"
   ]
  },
  {
   "cell_type": "code",
   "execution_count": null,
   "metadata": {},
   "outputs": [],
   "source": [
    "function myfunction(n, to)\n",
    "    @timeit to \"loop\" for i = 1:n\n",
    "        @timeit to \"initialization\" A = randn(100,100,20)\n",
    "        m = maximum(A)\n",
    "        @timeit to \"mapslices 1\" Am = mapslices(sum, A; dims=2)\n",
    "        B = A[:,:,5]\n",
    "        @timeit to \"mapslices 2\" Bsort = mapslices(sort, B; dims=1)\n",
    "        b = rand(100)\n",
    "        C = B.*b\n",
    "    end\n",
    "end"
   ]
  },
  {
   "cell_type": "code",
   "execution_count": null,
   "metadata": {},
   "outputs": [],
   "source": [
    "to = TimerOutput()\n",
    "\n",
    "myfunction(10, to)\n",
    "\n",
    "to"
   ]
  }
 ],
 "metadata": {
  "@webio": {
   "lastCommId": null,
   "lastKernelId": null
  },
  "kernelspec": {
   "display_name": "Julia 1.3.1",
   "language": "julia",
   "name": "julia-1.3"
  },
  "language_info": {
   "file_extension": ".jl",
   "mimetype": "application/julia",
   "name": "julia",
   "version": "1.3.1"
  }
 },
 "nbformat": 4,
 "nbformat_minor": 2
}
