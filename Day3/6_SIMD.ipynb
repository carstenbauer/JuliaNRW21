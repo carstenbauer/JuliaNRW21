{
 "cells": [
  {
   "cell_type": "markdown",
   "metadata": {},
   "source": [
    "# SIMD"
   ]
  },
  {
   "cell_type": "markdown",
   "metadata": {},
   "source": [
    "SIMD stands for \"Single Instruction Multiple Data\" and falls into the category of instruction level parallelism (vector instructions)."
   ]
  },
  {
   "cell_type": "code",
   "execution_count": 1,
   "metadata": {},
   "outputs": [
    {
     "data": {
      "text/plain": [
       "mysum (generic function with 1 method)"
      ]
     },
     "execution_count": 1,
     "metadata": {},
     "output_type": "execute_result"
    }
   ],
   "source": [
    "function mysum(X)\n",
    "    acc = zero(eltype(X))\n",
    "    for i in 1:length(X)\n",
    "        @inbounds acc += X[i]\n",
    "    end\n",
    "    return acc\n",
    "end"
   ]
  },
  {
   "cell_type": "markdown",
   "metadata": {},
   "source": [
    "Think about if each loop iteration is independent.\n",
    "\n",
    "Integer addition is **associative** and the order of operations has no impact. Floating-point addition is **non-associative** and the order of operations is important.\n",
    "\n",
    "By using `@simd`, we are asserting several properties of the loop:\n",
    "\n",
    "* It is safe to execute iterations in arbitrary or overlapping order, with special consideration for reduction variables.\n",
    "* Floating-point operations on reduction variables can be reordered, possibly causing different results than without `@simd`."
   ]
  },
  {
   "cell_type": "code",
   "execution_count": 2,
   "metadata": {},
   "outputs": [
    {
     "data": {
      "text/plain": [
       "mysum_simd (generic function with 1 method)"
      ]
     },
     "execution_count": 2,
     "metadata": {},
     "output_type": "execute_result"
    }
   ],
   "source": [
    "function mysum_simd(X)\n",
    "    acc = zero(eltype(X))\n",
    "    @simd for i in 1:length(X)\n",
    "        @inbounds acc += X[i]\n",
    "    end\n",
    "    return acc\n",
    "end"
   ]
  },
  {
   "cell_type": "code",
   "execution_count": 5,
   "metadata": {},
   "outputs": [],
   "source": [
    "using BenchmarkTools"
   ]
  },
  {
   "cell_type": "code",
   "execution_count": 6,
   "metadata": {},
   "outputs": [
    {
     "name": "stdout",
     "output_type": "stream",
     "text": [
      "  964.571 ns (0 allocations: 0 bytes)\n",
      "  63.594 ns (0 allocations: 0 bytes)\n"
     ]
    }
   ],
   "source": [
    "X = rand(Float64, 1000)\n",
    "@btime mysum($X);\n",
    "@btime mysum_simd($X);"
   ]
  },
  {
   "cell_type": "code",
   "execution_count": 7,
   "metadata": {},
   "outputs": [
    {
     "name": "stdout",
     "output_type": "stream",
     "text": [
      "  42.304 ns (0 allocations: 0 bytes)\n",
      "  42.062 ns (0 allocations: 0 bytes)\n"
     ]
    }
   ],
   "source": [
    "X = rand(Int64, 1000)\n",
    "@btime mysum($X);\n",
    "@btime mysum_simd($X);"
   ]
  },
  {
   "cell_type": "code",
   "execution_count": 60,
   "metadata": {},
   "outputs": [],
   "source": [
    "X = rand(Float64, 1000)\n",
    "s = mysum(X);\n",
    "s_simd = mysum_simd(X);"
   ]
  },
  {
   "cell_type": "code",
   "execution_count": 61,
   "metadata": {},
   "outputs": [
    {
     "data": {
      "text/plain": [
       "false"
      ]
     },
     "execution_count": 61,
     "metadata": {},
     "output_type": "execute_result"
    }
   ],
   "source": [
    "s == s_simd # will sometimes be false!!!"
   ]
  },
  {
   "cell_type": "code",
   "execution_count": 62,
   "metadata": {},
   "outputs": [
    {
     "data": {
      "text/plain": [
       "3.979039320256561e-13"
      ]
     },
     "execution_count": 62,
     "metadata": {},
     "output_type": "execute_result"
    }
   ],
   "source": [
    "abs(s-s_simd)"
   ]
  },
  {
   "cell_type": "code",
   "execution_count": 85,
   "metadata": {},
   "outputs": [
    {
     "name": "stdout",
     "output_type": "stream",
     "text": [
      "\t.section\t__TEXT,__text,regular,pure_instructions\n",
      "\tmovq\t8(%rdi), %rax\n",
      "\ttestq\t%rax, %rax\n",
      "\tjle\tL46\n",
      "\tmovq\t%rax, %rcx\n",
      "\tsarq\t$63, %rcx\n",
      "\tandnq\t%rax, %rcx, %rax\n",
      "\tmovq\t(%rdi), %rcx\n",
      "\tvxorpd\t%xmm0, %xmm0, %xmm0\n",
      "\txorl\t%edx, %edx\n",
      "\tnop\n",
      "L32:\n",
      "\tvaddsd\t(%rcx,%rdx,8), %xmm0, %xmm0\n",
      "\tincq\t%rdx\n",
      "\tcmpq\t%rdx, %rax\n",
      "\tjne\tL32\n",
      "\tretq\n",
      "L46:\n",
      "\tvxorps\t%xmm0, %xmm0, %xmm0\n",
      "\tretq\n",
      "\tnopw\t%cs:(%rax,%rax)\n",
      "\tnopl\t(%rax)\n"
     ]
    }
   ],
   "source": [
    "@code_native debuginfo=:none mysum(X)"
   ]
  },
  {
   "cell_type": "code",
   "execution_count": 86,
   "metadata": {},
   "outputs": [
    {
     "name": "stdout",
     "output_type": "stream",
     "text": [
      "\t.section\t__TEXT,__text,regular,pure_instructions\n",
      "\tmovq\t8(%rdi), %rax\n",
      "\ttestq\t%rax, %rax\n",
      "\tjle\tL38\n",
      "\tmovq\t%rax, %rcx\n",
      "\tsarq\t$63, %rcx\n",
      "\tandnq\t%rax, %rcx, %rax\n",
      "\tmovq\t(%rdi), %rcx\n",
      "\tcmpq\t$16, %rax\n",
      "\tjae\tL43\n",
      "\tvxorpd\t%xmm0, %xmm0, %xmm0\n",
      "\txorl\t%edx, %edx\n",
      "\tjmp\tL160\n",
      "L38:\n",
      "\tvxorps\t%xmm0, %xmm0, %xmm0\n",
      "\tretq\n",
      "L43:\n",
      "\tmovl\t%eax, %esi\n",
      "\tandl\t$15, %esi\n",
      "\tmovq\t%rax, %rdx\n",
      "\tsubq\t%rsi, %rdx\n",
      "\tvxorpd\t%xmm0, %xmm0, %xmm0\n",
      "\txorl\t%esi, %esi\n",
      "\tvxorpd\t%xmm1, %xmm1, %xmm1\n",
      "\tvxorpd\t%xmm2, %xmm2, %xmm2\n",
      "\tvxorpd\t%xmm3, %xmm3, %xmm3\n",
      "\tnopl\t(%rax,%rax)\n",
      "L80:\n",
      "\tvaddpd\t(%rcx,%rsi,8), %ymm0, %ymm0\n",
      "\tvaddpd\t32(%rcx,%rsi,8), %ymm1, %ymm1\n",
      "\tvaddpd\t64(%rcx,%rsi,8), %ymm2, %ymm2\n",
      "\tvaddpd\t96(%rcx,%rsi,8), %ymm3, %ymm3\n",
      "\taddq\t$16, %rsi\n",
      "\tcmpq\t%rsi, %rdx\n",
      "\tjne\tL80\n",
      "\tvaddpd\t%ymm0, %ymm1, %ymm0\n",
      "\tvaddpd\t%ymm0, %ymm2, %ymm0\n",
      "\tvaddpd\t%ymm0, %ymm3, %ymm0\n",
      "\tvextractf128\t$1, %ymm0, %xmm1\n",
      "\tvaddpd\t%xmm1, %xmm0, %xmm0\n",
      "\tvpermilpd\t$1, %xmm0, %xmm1 ## xmm1 = xmm0[1,0]\n",
      "\tvaddsd\t%xmm1, %xmm0, %xmm0\n",
      "\tcmpq\t%rdx, %rax\n",
      "\tje\tL173\n",
      "\tnopw\t%cs:(%rax,%rax)\n",
      "\tnop\n",
      "L160:\n",
      "\tvaddsd\t(%rcx,%rdx,8), %xmm0, %xmm0\n",
      "\tincq\t%rdx\n",
      "\tcmpq\t%rax, %rdx\n",
      "\tjb\tL160\n",
      "L173:\n",
      "\tvzeroupper\n",
      "\tretq\n",
      "\tnopw\t%cs:(%rax,%rax)\n",
      "\tnopl\t(%rax,%rax)\n"
     ]
    }
   ],
   "source": [
    "@code_native debuginfo=:none mysum_simd(X)"
   ]
  },
  {
   "cell_type": "markdown",
   "metadata": {},
   "source": [
    "## Structure of Array vs Array of Structure"
   ]
  },
  {
   "cell_type": "code",
   "execution_count": 71,
   "metadata": {},
   "outputs": [],
   "source": [
    "struct MyComplex\n",
    "  real::Float64\n",
    "  imag::Float64\n",
    "end"
   ]
  },
  {
   "cell_type": "code",
   "execution_count": 72,
   "metadata": {},
   "outputs": [
    {
     "data": {
      "text/plain": [
       "100-element Array{MyComplex,1}:\n",
       " MyComplex(0.6592548704085348, 0.9304586794954257)\n",
       " MyComplex(0.9913134870338749, 0.3373358399535811)\n",
       " MyComplex(0.7663231112437918, 0.16124195631290505)\n",
       " MyComplex(0.5755773381794937, 0.9431803344795369)\n",
       " MyComplex(0.9956338880282287, 0.4319106210605499)\n",
       " MyComplex(0.49960033171605334, 0.7529216102553398)\n",
       " MyComplex(0.8204880588928809, 0.9863152363918228)\n",
       " MyComplex(0.5705486006928855, 0.1738368480210566)\n",
       " MyComplex(0.4068115374711485, 0.029177320500149984)\n",
       " MyComplex(0.21301055949797165, 0.9679714353523348)\n",
       " MyComplex(0.9974383981581558, 0.29947623977721083)\n",
       " MyComplex(0.9848752636488678, 0.32791550924604396)\n",
       " MyComplex(0.5236772849803057, 0.3775565120013684)\n",
       " ⋮\n",
       " MyComplex(0.7185535695725727, 0.7598989393612539)\n",
       " MyComplex(0.6001965780226173, 0.5802951959128866)\n",
       " MyComplex(0.49588186913586174, 0.10012096401953086)\n",
       " MyComplex(0.16766488639028188, 0.9472293366031512)\n",
       " MyComplex(0.2615159764839159, 0.4192320802218239)\n",
       " MyComplex(0.09092995990517339, 0.9134409308356704)\n",
       " MyComplex(0.9405365470931484, 0.4511321856314383)\n",
       " MyComplex(0.8857008277532405, 0.8397181409376533)\n",
       " MyComplex(0.9324456956682146, 0.14621739289347468)\n",
       " MyComplex(0.22400507388763446, 0.557669380022956)\n",
       " MyComplex(0.9906943226738516, 0.543530006710002)\n",
       " MyComplex(0.5745316576269848, 0.4369924211215028)"
      ]
     },
     "execution_count": 72,
     "metadata": {},
     "output_type": "execute_result"
    }
   ],
   "source": [
    "# Array of structure\n",
    "AoS = [MyComplex(rand(),rand()) for i in 1:100]"
   ]
  },
  {
   "cell_type": "code",
   "execution_count": 73,
   "metadata": {},
   "outputs": [],
   "source": [
    "struct MyComplexes\n",
    "  real::Vector{Float64}\n",
    "  imag::Vector{Float64}\n",
    "end"
   ]
  },
  {
   "cell_type": "code",
   "execution_count": 74,
   "metadata": {},
   "outputs": [
    {
     "data": {
      "text/plain": [
       "MyComplexes([0.7670543146544782, 0.11064727011172515, 0.5310624348465611, 0.6791947059200489, 0.8883372308097439, 0.08006495273449965, 0.11686879735999023, 0.36517639577782957, 0.5646585684295811, 0.5431547534003083  …  0.3201719903361038, 0.9266966687298588, 0.7167174950881661, 0.8281757203583004, 0.18757444662413092, 0.16869451871160956, 0.32797033191750136, 0.6487781588729336, 0.9048863406349708, 0.4908804023503073], [0.3262879318395253, 0.4781541926714652, 0.38157165655704484, 0.34136149073340305, 0.08022845373449461, 0.16884335386306448, 0.3578108892995484, 0.6680231518357203, 0.9845223962560516, 0.6942841065189596  …  0.6107080731144634, 0.7420895417132569, 0.8071728571275285, 0.17683738666930893, 0.7977909381993387, 0.9343701479446693, 0.6575204448982133, 0.9416595975440156, 0.7872602039537329, 0.6915809774733781])"
      ]
     },
     "execution_count": 74,
     "metadata": {},
     "output_type": "execute_result"
    }
   ],
   "source": [
    "# Structure of arrays\n",
    "SoA = MyComplexes(rand(100),rand(100))"
   ]
  },
  {
   "cell_type": "code",
   "execution_count": 75,
   "metadata": {},
   "outputs": [
    {
     "data": {
      "text/plain": [
       "average (generic function with 2 methods)"
      ]
     },
     "execution_count": 75,
     "metadata": {},
     "output_type": "execute_result"
    }
   ],
   "source": [
    "# Array of structure (MyComplex)\n",
    "Base.:+(x::MyComplex,y::MyComplex) = MyComplex(x.real+y.real,x.imag+y.imag)\n",
    "Base.:/(x::MyComplex,y::Int) = MyComplex(x.real/y,x.imag/y)\n",
    "average(x::Vector{MyComplex}) = sum(x)/length(x)\n",
    "\n",
    "# Structure of array (MyComplexes)\n",
    "average(x::MyComplexes) = MyComplex(sum(x.real),sum(x.imag))/length(x.real)"
   ]
  },
  {
   "cell_type": "code",
   "execution_count": 76,
   "metadata": {},
   "outputs": [],
   "source": [
    "using BenchmarkTools"
   ]
  },
  {
   "cell_type": "code",
   "execution_count": 78,
   "metadata": {},
   "outputs": [
    {
     "name": "stdout",
     "output_type": "stream",
     "text": [
      "  37.275 ns (0 allocations: 0 bytes)\n",
      "  28.785 ns (0 allocations: 0 bytes)\n"
     ]
    }
   ],
   "source": [
    "@btime average(AoS);\n",
    "@btime average(SoA);"
   ]
  }
 ],
 "metadata": {
  "kernelspec": {
   "display_name": "Julia 1.5.3",
   "language": "julia",
   "name": "julia-1.5"
  },
  "language_info": {
   "file_extension": ".jl",
   "mimetype": "application/julia",
   "name": "julia",
   "version": "1.5.3"
  }
 },
 "nbformat": 4,
 "nbformat_minor": 4
}
