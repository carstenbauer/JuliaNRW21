{
 "cells": [
  {
   "cell_type": "markdown",
   "metadata": {},
   "source": [
    "# How does Julia's performance compare to C and Python?"
   ]
  },
  {
   "cell_type": "markdown",
   "metadata": {},
   "source": [
    "Let's look at and benchmark the sum function:\n",
    "\n",
    "$$\\mathrm{sum}(x) = \\sum_{i=1}^n x_i$$"
   ]
  },
  {
   "cell_type": "code",
   "execution_count": 1,
   "metadata": {},
   "outputs": [],
   "source": [
    "x = rand(10^7);"
   ]
  },
  {
   "cell_type": "code",
   "execution_count": 2,
   "metadata": {},
   "outputs": [
    {
     "data": {
      "text/plain": [
       "5.000729775489703e6"
      ]
     },
     "execution_count": 2,
     "metadata": {},
     "output_type": "execute_result"
    }
   ],
   "source": [
    "sum(x)"
   ]
  },
  {
   "cell_type": "code",
   "execution_count": 3,
   "metadata": {},
   "outputs": [
    {
     "data": {
      "text/plain": [
       "Dict{Any,Any}()"
      ]
     },
     "execution_count": 3,
     "metadata": {},
     "output_type": "execute_result"
    }
   ],
   "source": [
    "d = Dict() # to store the measurement results"
   ]
  },
  {
   "cell_type": "markdown",
   "metadata": {},
   "source": [
    "# Python"
   ]
  },
  {
   "cell_type": "code",
   "execution_count": 4,
   "metadata": {},
   "outputs": [],
   "source": [
    "using BenchmarkTools\n",
    "using PyCall"
   ]
  },
  {
   "cell_type": "markdown",
   "metadata": {},
   "source": [
    "## numpy"
   ]
  },
  {
   "cell_type": "code",
   "execution_count": 5,
   "metadata": {},
   "outputs": [
    {
     "data": {
      "text/plain": [
       "PyObject <module 'numpy' from '/Users/crstnbr/opt/anaconda3/lib/python3.7/site-packages/numpy/__init__.py'>"
      ]
     },
     "execution_count": 5,
     "metadata": {},
     "output_type": "execute_result"
    }
   ],
   "source": [
    "np = pyimport(\"numpy\")"
   ]
  },
  {
   "cell_type": "code",
   "execution_count": 6,
   "metadata": {},
   "outputs": [
    {
     "data": {
      "text/plain": [
       "PyObject <function sum at 0x7f86e90f6560>"
      ]
     },
     "execution_count": 6,
     "metadata": {},
     "output_type": "execute_result"
    }
   ],
   "source": [
    "numpy_sum = np.sum"
   ]
  },
  {
   "cell_type": "code",
   "execution_count": 7,
   "metadata": {},
   "outputs": [
    {
     "data": {
      "text/plain": [
       "BenchmarkTools.Trial: \n",
       "  memory estimate:  336 bytes\n",
       "  allocs estimate:  6\n",
       "  --------------\n",
       "  minimum time:     4.012 ms (0.00% GC)\n",
       "  median time:      5.919 ms (0.00% GC)\n",
       "  mean time:        6.311 ms (0.00% GC)\n",
       "  maximum time:     12.770 ms (0.00% GC)\n",
       "  --------------\n",
       "  samples:          792\n",
       "  evals/sample:     1"
      ]
     },
     "execution_count": 7,
     "metadata": {},
     "output_type": "execute_result"
    }
   ],
   "source": [
    "b = @benchmark $numpy_sum($x)"
   ]
  },
  {
   "cell_type": "code",
   "execution_count": 8,
   "metadata": {},
   "outputs": [
    {
     "data": {
      "text/plain": [
       "4.0121"
      ]
     },
     "execution_count": 8,
     "metadata": {},
     "output_type": "execute_result"
    }
   ],
   "source": [
    "d[\"Python (numpy)\"] = minimum(b.times) / 1e6"
   ]
  },
  {
   "cell_type": "markdown",
   "metadata": {},
   "source": [
    "## hand-written"
   ]
  },
  {
   "cell_type": "code",
   "execution_count": 9,
   "metadata": {},
   "outputs": [],
   "source": [
    "py\"\"\"\n",
    "def mysum(a):\n",
    "    s = 0.0\n",
    "    for x in a:\n",
    "        s = s + x\n",
    "    return s\n",
    "\"\"\""
   ]
  },
  {
   "cell_type": "code",
   "execution_count": 10,
   "metadata": {},
   "outputs": [
    {
     "data": {
      "text/plain": [
       "PyObject <function mysum at 0x7f86e8de1d40>"
      ]
     },
     "execution_count": 10,
     "metadata": {},
     "output_type": "execute_result"
    }
   ],
   "source": [
    "mysum_py = py\"mysum\""
   ]
  },
  {
   "cell_type": "code",
   "execution_count": 11,
   "metadata": {},
   "outputs": [],
   "source": [
    "# call a low-level PyCall function to get a Python list, because\n",
    "# by default PyCall will convert to a NumPy array instead (we benchmark NumPy below):\n",
    "xpy_list = PyCall.array2py(x);"
   ]
  },
  {
   "cell_type": "code",
   "execution_count": 12,
   "metadata": {},
   "outputs": [
    {
     "data": {
      "text/plain": [
       "BenchmarkTools.Trial: \n",
       "  memory estimate:  32 bytes\n",
       "  allocs estimate:  2\n",
       "  --------------\n",
       "  minimum time:     274.249 ms (0.00% GC)\n",
       "  median time:      283.410 ms (0.00% GC)\n",
       "  mean time:        286.046 ms (0.00% GC)\n",
       "  maximum time:     300.360 ms (0.00% GC)\n",
       "  --------------\n",
       "  samples:          18\n",
       "  evals/sample:     1"
      ]
     },
     "execution_count": 12,
     "metadata": {},
     "output_type": "execute_result"
    }
   ],
   "source": [
    "b = @benchmark $mysum_py($xpy_list)"
   ]
  },
  {
   "cell_type": "code",
   "execution_count": 13,
   "metadata": {},
   "outputs": [
    {
     "data": {
      "text/plain": [
       "274.249437"
      ]
     },
     "execution_count": 13,
     "metadata": {},
     "output_type": "execute_result"
    }
   ],
   "source": [
    "d[\"Python (hand-written)\"] = minimum(b.times) / 1e6"
   ]
  },
  {
   "cell_type": "markdown",
   "metadata": {},
   "source": [
    "## built-in"
   ]
  },
  {
   "cell_type": "code",
   "execution_count": 14,
   "metadata": {},
   "outputs": [
    {
     "data": {
      "text/plain": [
       "PyObject <built-in function sum>"
      ]
     },
     "execution_count": 14,
     "metadata": {},
     "output_type": "execute_result"
    }
   ],
   "source": [
    "# get the Python built-in \"sum\" function:\n",
    "pysum = pybuiltin(\"sum\")"
   ]
  },
  {
   "cell_type": "code",
   "execution_count": 15,
   "metadata": {},
   "outputs": [
    {
     "data": {
      "text/plain": [
       "BenchmarkTools.Trial: \n",
       "  memory estimate:  32 bytes\n",
       "  allocs estimate:  2\n",
       "  --------------\n",
       "  minimum time:     62.559 ms (0.00% GC)\n",
       "  median time:      70.323 ms (0.00% GC)\n",
       "  mean time:        69.844 ms (0.00% GC)\n",
       "  maximum time:     83.418 ms (0.00% GC)\n",
       "  --------------\n",
       "  samples:          72\n",
       "  evals/sample:     1"
      ]
     },
     "execution_count": 15,
     "metadata": {},
     "output_type": "execute_result"
    }
   ],
   "source": [
    "b = @benchmark $pysum($xpy_list)"
   ]
  },
  {
   "cell_type": "code",
   "execution_count": 16,
   "metadata": {},
   "outputs": [
    {
     "data": {
      "text/plain": [
       "62.559485"
      ]
     },
     "execution_count": 16,
     "metadata": {},
     "output_type": "execute_result"
    }
   ],
   "source": [
    "d[\"Python (built-in)\"] = minimum(b.times) / 1e6"
   ]
  },
  {
   "cell_type": "markdown",
   "metadata": {},
   "source": [
    "# C"
   ]
  },
  {
   "cell_type": "markdown",
   "metadata": {},
   "source": [
    "## hand-written"
   ]
  },
  {
   "cell_type": "code",
   "execution_count": 17,
   "metadata": {},
   "outputs": [],
   "source": [
    "c_code = \"\"\"\n",
    "#include <stddef.h>\n",
    "double c_sum(size_t n, double *X) {\n",
    "    double s = 0.0;\n",
    "    for (size_t i = 0; i < n; ++i) {\n",
    "        s += X[i];\n",
    "    }\n",
    "    return s;\n",
    "}\n",
    "\"\"\";"
   ]
  },
  {
   "cell_type": "code",
   "execution_count": 18,
   "metadata": {},
   "outputs": [],
   "source": [
    "# compile to a shared library by piping C_code to gcc:\n",
    "# (only works if you have gcc installed)\n",
    "const Clib = tempname()\n",
    "using Libdl"
   ]
  },
  {
   "cell_type": "code",
   "execution_count": 19,
   "metadata": {},
   "outputs": [],
   "source": [
    "open(`gcc -fPIC -O3 -msse3 -xc -shared -o $(Clib * \".\" * Libdl.dlext) -`, \"w\") do f\n",
    "    print(f, c_code)\n",
    "end"
   ]
  },
  {
   "cell_type": "code",
   "execution_count": 20,
   "metadata": {},
   "outputs": [
    {
     "data": {
      "text/plain": [
       "c_sum (generic function with 1 method)"
      ]
     },
     "execution_count": 20,
     "metadata": {},
     "output_type": "execute_result"
    }
   ],
   "source": [
    "c_sum(X::Array{Float64}) = @ccall Clib.c_sum(length(X)::Csize_t, X::Ptr{Float64})::Float64"
   ]
  },
  {
   "cell_type": "code",
   "execution_count": 21,
   "metadata": {},
   "outputs": [
    {
     "data": {
      "text/plain": [
       "true"
      ]
     },
     "execution_count": 21,
     "metadata": {},
     "output_type": "execute_result"
    }
   ],
   "source": [
    "c_sum(x) ≈ sum(x)"
   ]
  },
  {
   "cell_type": "code",
   "execution_count": 22,
   "metadata": {},
   "outputs": [
    {
     "data": {
      "text/plain": [
       "BenchmarkTools.Trial: \n",
       "  memory estimate:  0 bytes\n",
       "  allocs estimate:  0\n",
       "  --------------\n",
       "  minimum time:     12.834 ms (0.00% GC)\n",
       "  median time:      14.858 ms (0.00% GC)\n",
       "  mean time:        14.946 ms (0.00% GC)\n",
       "  maximum time:     18.442 ms (0.00% GC)\n",
       "  --------------\n",
       "  samples:          335\n",
       "  evals/sample:     1"
      ]
     },
     "execution_count": 22,
     "metadata": {},
     "output_type": "execute_result"
    }
   ],
   "source": [
    "b = @benchmark c_sum($x)"
   ]
  },
  {
   "cell_type": "code",
   "execution_count": 23,
   "metadata": {},
   "outputs": [
    {
     "data": {
      "text/plain": [
       "12.834408"
      ]
     },
     "execution_count": 23,
     "metadata": {},
     "output_type": "execute_result"
    }
   ],
   "source": [
    "d[\"C\"] = minimum(b.times) / 1e6"
   ]
  },
  {
   "cell_type": "markdown",
   "metadata": {},
   "source": [
    "## hand-written (with `-fast-math`)"
   ]
  },
  {
   "cell_type": "code",
   "execution_count": 24,
   "metadata": {},
   "outputs": [
    {
     "data": {
      "text/plain": [
       "c_sum_fastmath (generic function with 1 method)"
      ]
     },
     "execution_count": 24,
     "metadata": {},
     "output_type": "execute_result"
    }
   ],
   "source": [
    "const Clib_fastmath = tempname()   # make a temporary file\n",
    "\n",
    "# The same as above but with a -ffast-math flag added\n",
    "open(`gcc -fPIC -O3 -msse3 -xc -shared -ffast-math -o $(Clib_fastmath * \".\" * Libdl.dlext) -`, \"w\") do f\n",
    "    print(f, c_code) \n",
    "end\n",
    "\n",
    "# define a Julia function that calls the C function:\n",
    "c_sum_fastmath(X::Array{Float64}) = @ccall Clib_fastmath.c_sum(length(X)::Csize_t, X::Ptr{Float64})::Float64"
   ]
  },
  {
   "cell_type": "code",
   "execution_count": 25,
   "metadata": {},
   "outputs": [
    {
     "data": {
      "text/plain": [
       "BenchmarkTools.Trial: \n",
       "  memory estimate:  0 bytes\n",
       "  allocs estimate:  0\n",
       "  --------------\n",
       "  minimum time:     4.486 ms (0.00% GC)\n",
       "  median time:      5.409 ms (0.00% GC)\n",
       "  mean time:        5.748 ms (0.00% GC)\n",
       "  maximum time:     10.846 ms (0.00% GC)\n",
       "  --------------\n",
       "  samples:          870\n",
       "  evals/sample:     1"
      ]
     },
     "execution_count": 25,
     "metadata": {},
     "output_type": "execute_result"
    }
   ],
   "source": [
    "b = @benchmark c_sum_fastmath($x)"
   ]
  },
  {
   "cell_type": "code",
   "execution_count": 26,
   "metadata": {},
   "outputs": [
    {
     "data": {
      "text/plain": [
       "4.485973"
      ]
     },
     "execution_count": 26,
     "metadata": {},
     "output_type": "execute_result"
    }
   ],
   "source": [
    "d[\"C (fastmath)\"] = minimum(b.times) / 1e6"
   ]
  },
  {
   "cell_type": "markdown",
   "metadata": {},
   "source": [
    "# Julia"
   ]
  },
  {
   "cell_type": "markdown",
   "metadata": {},
   "source": [
    "## built-in"
   ]
  },
  {
   "cell_type": "code",
   "execution_count": 27,
   "metadata": {},
   "outputs": [
    {
     "data": {
      "text/plain": [
       "BenchmarkTools.Trial: \n",
       "  memory estimate:  0 bytes\n",
       "  allocs estimate:  0\n",
       "  --------------\n",
       "  minimum time:     4.476 ms (0.00% GC)\n",
       "  median time:      5.605 ms (0.00% GC)\n",
       "  mean time:        5.913 ms (0.00% GC)\n",
       "  maximum time:     13.741 ms (0.00% GC)\n",
       "  --------------\n",
       "  samples:          846\n",
       "  evals/sample:     1"
      ]
     },
     "execution_count": 27,
     "metadata": {},
     "output_type": "execute_result"
    }
   ],
   "source": [
    "b = @benchmark sum($x)"
   ]
  },
  {
   "cell_type": "code",
   "execution_count": 28,
   "metadata": {},
   "outputs": [
    {
     "data": {
      "text/plain": [
       "4.475965"
      ]
     },
     "execution_count": 28,
     "metadata": {},
     "output_type": "execute_result"
    }
   ],
   "source": [
    "d[\"Julia (built-in)\"] = minimum(b.times) / 1e6"
   ]
  },
  {
   "cell_type": "markdown",
   "metadata": {},
   "source": [
    "## built-in (with `Vector{Any}`)"
   ]
  },
  {
   "cell_type": "code",
   "execution_count": 29,
   "metadata": {},
   "outputs": [
    {
     "data": {
      "text/plain": [
       "BenchmarkTools.Trial: \n",
       "  memory estimate:  152.59 MiB\n",
       "  allocs estimate:  9999999\n",
       "  --------------\n",
       "  minimum time:     268.393 ms (0.00% GC)\n",
       "  median time:      293.707 ms (8.73% GC)\n",
       "  mean time:        293.184 ms (7.89% GC)\n",
       "  maximum time:     317.714 ms (8.14% GC)\n",
       "  --------------\n",
       "  samples:          18\n",
       "  evals/sample:     1"
      ]
     },
     "execution_count": 29,
     "metadata": {},
     "output_type": "execute_result"
    }
   ],
   "source": [
    "x_any = Vector{Any}(x)\n",
    "b = @benchmark sum($x_any)"
   ]
  },
  {
   "cell_type": "code",
   "execution_count": 30,
   "metadata": {},
   "outputs": [
    {
     "data": {
      "text/plain": [
       "268.392747"
      ]
     },
     "execution_count": 30,
     "metadata": {},
     "output_type": "execute_result"
    }
   ],
   "source": [
    "d[\"Julia (built-in, Any)\"] = minimum(b.times) / 1e6"
   ]
  },
  {
   "cell_type": "markdown",
   "metadata": {},
   "source": [
    "## hand-written"
   ]
  },
  {
   "cell_type": "code",
   "execution_count": 31,
   "metadata": {},
   "outputs": [
    {
     "data": {
      "text/plain": [
       "mysum (generic function with 1 method)"
      ]
     },
     "execution_count": 31,
     "metadata": {},
     "output_type": "execute_result"
    }
   ],
   "source": [
    "function mysum(A)\n",
    "    s = zero(eltype(A)) # the correct type of zero for A\n",
    "    for a in A\n",
    "        s += a\n",
    "    end\n",
    "    return s\n",
    "end"
   ]
  },
  {
   "cell_type": "code",
   "execution_count": 32,
   "metadata": {},
   "outputs": [
    {
     "data": {
      "text/plain": [
       "BenchmarkTools.Trial: \n",
       "  memory estimate:  0 bytes\n",
       "  allocs estimate:  0\n",
       "  --------------\n",
       "  minimum time:     13.327 ms (0.00% GC)\n",
       "  median time:      14.751 ms (0.00% GC)\n",
       "  mean time:        15.078 ms (0.00% GC)\n",
       "  maximum time:     19.351 ms (0.00% GC)\n",
       "  --------------\n",
       "  samples:          332\n",
       "  evals/sample:     1"
      ]
     },
     "execution_count": 32,
     "metadata": {},
     "output_type": "execute_result"
    }
   ],
   "source": [
    "b = @benchmark mysum($x)"
   ]
  },
  {
   "cell_type": "code",
   "execution_count": 33,
   "metadata": {},
   "outputs": [
    {
     "data": {
      "text/plain": [
       "13.327243"
      ]
     },
     "execution_count": 33,
     "metadata": {},
     "output_type": "execute_result"
    }
   ],
   "source": [
    "d[\"Julia (hand-written)\"] = minimum(b.times) / 1e6"
   ]
  },
  {
   "cell_type": "markdown",
   "metadata": {},
   "source": [
    "## hand-written (with `@simd`)"
   ]
  },
  {
   "cell_type": "code",
   "execution_count": 34,
   "metadata": {},
   "outputs": [
    {
     "data": {
      "text/plain": [
       "mysum_simd (generic function with 1 method)"
      ]
     },
     "execution_count": 34,
     "metadata": {},
     "output_type": "execute_result"
    }
   ],
   "source": [
    "function mysum_simd(A)\n",
    "    s = zero(eltype(A)) # the correct type of zero for A\n",
    "    @simd for a in A\n",
    "        s += a\n",
    "    end\n",
    "    return s\n",
    "end"
   ]
  },
  {
   "cell_type": "code",
   "execution_count": 35,
   "metadata": {},
   "outputs": [
    {
     "data": {
      "text/plain": [
       "BenchmarkTools.Trial: \n",
       "  memory estimate:  0 bytes\n",
       "  allocs estimate:  0\n",
       "  --------------\n",
       "  minimum time:     4.616 ms (0.00% GC)\n",
       "  median time:      5.576 ms (0.00% GC)\n",
       "  mean time:        5.794 ms (0.00% GC)\n",
       "  maximum time:     9.143 ms (0.00% GC)\n",
       "  --------------\n",
       "  samples:          863\n",
       "  evals/sample:     1"
      ]
     },
     "execution_count": 35,
     "metadata": {},
     "output_type": "execute_result"
    }
   ],
   "source": [
    "b = @benchmark mysum_simd($x)"
   ]
  },
  {
   "cell_type": "code",
   "execution_count": 36,
   "metadata": {},
   "outputs": [
    {
     "data": {
      "text/plain": [
       "4.615583"
      ]
     },
     "execution_count": 36,
     "metadata": {},
     "output_type": "execute_result"
    }
   ],
   "source": [
    "d[\"Julia (hand-written, simd)\"] = minimum(b.times) / 1e6"
   ]
  },
  {
   "cell_type": "markdown",
   "metadata": {},
   "source": [
    "## Summary"
   ]
  },
  {
   "cell_type": "code",
   "execution_count": 37,
   "metadata": {},
   "outputs": [
    {
     "name": "stdout",
     "output_type": "stream",
     "text": [
      "Python (numpy)......................4.01\n",
      "Julia (built-in)....................4.48\n",
      "C (fastmath)........................4.49\n",
      "Julia (hand-written, simd)..........4.62\n",
      "C..................................12.83\n",
      "Julia (hand-written)...............13.33\n",
      "Python (built-in)..................62.56\n",
      "Julia (built-in, Any).............268.39\n",
      "Python (hand-written).............274.25\n"
     ]
    }
   ],
   "source": [
    "for (key, value) in sort(collect(d), by=x->x[2])\n",
    "    println(rpad(key, 30, \".\"), lpad(round(value, digits=2), 10, \".\"))\n",
    "end"
   ]
  },
  {
   "cell_type": "markdown",
   "metadata": {},
   "source": [
    "And of course, our hand-written Julia implementation is type-generic!"
   ]
  },
  {
   "cell_type": "markdown",
   "metadata": {},
   "source": [
    " "
   ]
  },
  {
   "cell_type": "markdown",
   "metadata": {},
   "source": [
    "# Supplement: What about other functions?"
   ]
  },
  {
   "cell_type": "markdown",
   "metadata": {},
   "source": [
    "### Log"
   ]
  },
  {
   "cell_type": "code",
   "execution_count": 38,
   "metadata": {},
   "outputs": [
    {
     "data": {
      "text/html": [
       "log(x::<b>Float64</b>) in Base.Math at <a href=\"https://github.com/JuliaLang/julia/tree/788b2c77c10c2160f4794a4d4b6b81a95a90940c/base/special/log.jl#L253\" target=\"_blank\">special/log.jl:253</a>"
      ],
      "text/plain": [
       "log(x::Float64) in Base.Math at special/log.jl:253"
      ]
     },
     "execution_count": 38,
     "metadata": {},
     "output_type": "execute_result"
    }
   ],
   "source": [
    "@which log(1.2)"
   ]
  },
  {
   "cell_type": "code",
   "execution_count": 39,
   "metadata": {},
   "outputs": [
    {
     "name": "stdout",
     "output_type": "stream",
     "text": [
      "  5.348 ns (0 allocations: 0 bytes)\n",
      "  4.559 ns (0 allocations: 0 bytes)\n",
      "  4.382 ns (0 allocations: 0 bytes)\n"
     ]
    }
   ],
   "source": [
    "using BenchmarkTools\n",
    "\n",
    "# uses the system C library\n",
    "clog(x) = ccall(:log, Float64, (Float64,), x)\n",
    "# uses LLVM's log\n",
    "llvmlog(x) =  ccall(Symbol(\"llvm.log.f64\"), llvmcall, Float64, (Float64,), x)\n",
    "\n",
    "@btime log($(Ref(1.2))[])    \n",
    "@btime clog($(Ref(1.2))[])    \n",
    "@btime llvmlog($(Ref(1.2))[]);"
   ]
  },
  {
   "cell_type": "markdown",
   "metadata": {},
   "source": [
    "On my Windows 10 machine:\n",
    "\n",
    "```\n",
    "  6.199 ns (0 allocations: 0 bytes)\n",
    "  9.408 ns (0 allocations: 0 bytes)\n",
    "  8.599 ns (0 allocations: 0 bytes)\n",
    "```"
   ]
  },
  {
   "cell_type": "markdown",
   "metadata": {},
   "source": [
    "### Exp"
   ]
  },
  {
   "cell_type": "code",
   "execution_count": 40,
   "metadata": {},
   "outputs": [
    {
     "data": {
      "text/html": [
       "exp(x::<b>T</b>)<i> where T<:Union{Float32, Float64}</i> in Base.Math at <a href=\"https://github.com/JuliaLang/julia/tree/788b2c77c10c2160f4794a4d4b6b81a95a90940c/base/special/exp.jl#L74\" target=\"_blank\">special/exp.jl:74</a>"
      ],
      "text/plain": [
       "exp(x::T) where T<:Union{Float32, Float64} in Base.Math at special/exp.jl:74"
      ]
     },
     "execution_count": 40,
     "metadata": {},
     "output_type": "execute_result"
    }
   ],
   "source": [
    "@which exp(1.2)"
   ]
  },
  {
   "cell_type": "code",
   "execution_count": 41,
   "metadata": {},
   "outputs": [
    {
     "name": "stdout",
     "output_type": "stream",
     "text": [
      "  7.293 ns (0 allocations: 0 bytes)\n",
      "  4.906 ns (0 allocations: 0 bytes)\n",
      "  4.529 ns (0 allocations: 0 bytes)\n"
     ]
    }
   ],
   "source": [
    "using BenchmarkTools\n",
    "\n",
    "# uses the system C library\n",
    "cexp(x) = ccall(:exp, Float64, (Float64,), x)\n",
    "# uses LLVM's\n",
    "llvmexp(x) =  ccall(Symbol(\"llvm.exp.f64\"), llvmcall, Float64, (Float64,), x)\n",
    "\n",
    "@btime exp($(Ref(1.2))[])    \n",
    "@btime cexp($(Ref(1.2))[])    \n",
    "@btime llvmexp($(Ref(1.2))[]);"
   ]
  },
  {
   "cell_type": "markdown",
   "metadata": {},
   "source": [
    "On my Windows 10 machine:\n",
    "\n",
    "```\n",
    "  7.899 ns (0 allocations: 0 bytes)\n",
    "  22.870 ns (0 allocations: 0 bytes)\n",
    "  22.868 ns (0 allocations: 0 bytes)\n",
    "```"
   ]
  },
  {
   "cell_type": "markdown",
   "metadata": {},
   "source": [
    "### Matrix multiplication"
   ]
  },
  {
   "cell_type": "code",
   "execution_count": 1,
   "metadata": {},
   "outputs": [],
   "source": [
    "N = 10\n",
    "C = zeros(N,N);\n",
    "A = rand(N,N);\n",
    "B = rand(N,N);"
   ]
  },
  {
   "cell_type": "code",
   "execution_count": 2,
   "metadata": {},
   "outputs": [],
   "source": [
    "using LinearAlgebra\n",
    "\n",
    "mul!(C, A, B); # \"built-in\", calls underlying BLAS/LAPACK"
   ]
  },
  {
   "cell_type": "code",
   "execution_count": 3,
   "metadata": {},
   "outputs": [
    {
     "data": {
      "text/plain": [
       "true"
      ]
     },
     "execution_count": 3,
     "metadata": {},
     "output_type": "execute_result"
    }
   ],
   "source": [
    "C ≈ A * B"
   ]
  },
  {
   "cell_type": "code",
   "execution_count": 4,
   "metadata": {},
   "outputs": [
    {
     "data": {
      "text/plain": [
       "mul_naive! (generic function with 1 method)"
      ]
     },
     "execution_count": 4,
     "metadata": {},
     "output_type": "execute_result"
    }
   ],
   "source": [
    "using BenchmarkTools\n",
    "\n",
    "function mul_naive!(𝐂, 𝐀, 𝐁)\n",
    "   @inbounds for m ∈ axes(𝐀,1), n ∈ axes(𝐁,2)\n",
    "       𝐂mn = zero(eltype(𝐂))\n",
    "       for k ∈ axes(𝐀,2)\n",
    "           𝐂mn += 𝐀[m,k] * 𝐁[k,n]\n",
    "       end\n",
    "       𝐂[m,n] = 𝐂mn\n",
    "   end\n",
    "end"
   ]
  },
  {
   "cell_type": "code",
   "execution_count": 5,
   "metadata": {},
   "outputs": [
    {
     "data": {
      "text/plain": [
       "true"
      ]
     },
     "execution_count": 5,
     "metadata": {},
     "output_type": "execute_result"
    }
   ],
   "source": [
    "mul_naive!(C,A,B)\n",
    "C ≈ A * B"
   ]
  },
  {
   "cell_type": "markdown",
   "metadata": {},
   "source": [
    "[LoopVectorization.jl](https://github.com/chriselrod/LoopVectorization.jl)"
   ]
  },
  {
   "cell_type": "code",
   "execution_count": 6,
   "metadata": {},
   "outputs": [
    {
     "data": {
      "text/plain": [
       "mul_avx! (generic function with 1 method)"
      ]
     },
     "execution_count": 6,
     "metadata": {},
     "output_type": "execute_result"
    }
   ],
   "source": [
    "using LoopVectorization\n",
    "\n",
    "function mul_avx!(𝐂, 𝐀, 𝐁)\n",
    "   @avx for m ∈ axes(𝐀,1), n ∈ axes(𝐁,2)\n",
    "       𝐂mn = zero(eltype(𝐂))\n",
    "       for k ∈ axes(𝐀,2)\n",
    "           𝐂mn += 𝐀[m,k] * 𝐁[k,n]\n",
    "       end\n",
    "       𝐂[m,n] = 𝐂mn\n",
    "   end\n",
    "end"
   ]
  },
  {
   "cell_type": "code",
   "execution_count": 7,
   "metadata": {},
   "outputs": [
    {
     "data": {
      "text/plain": [
       "true"
      ]
     },
     "execution_count": 7,
     "metadata": {},
     "output_type": "execute_result"
    }
   ],
   "source": [
    "mul_avx!(C,A,B)\n",
    "C ≈ A * B"
   ]
  },
  {
   "cell_type": "code",
   "execution_count": 8,
   "metadata": {},
   "outputs": [],
   "source": [
    "c_code = \"\"\"\n",
    "#include <stddef.h>\n",
    "#include <math.h>\n",
    "\n",
    "void gemm(double* restrict C, double* restrict A, double* restrict B, long M, long K, long N){\n",
    "  for (long i = 0; i < M*N; i++){\n",
    "    C[i] = 0.0;\n",
    "  }\n",
    "  for (long n = 0; n < N; n++){\n",
    "    for (long k = 0; k < K; k++){\n",
    "      for (long m = 0; m < M; m++){\n",
    "\tC[m + n*M] += A[m + k*M] * B[k + n*K];\n",
    "      }\n",
    "    }\n",
    "  }\n",
    "  return;\n",
    "}\n",
    "\"\"\";"
   ]
  },
  {
   "cell_type": "code",
   "execution_count": 9,
   "metadata": {},
   "outputs": [
    {
     "data": {
      "text/plain": [
       "c_gemm (generic function with 1 method)"
      ]
     },
     "execution_count": 9,
     "metadata": {},
     "output_type": "execute_result"
    }
   ],
   "source": [
    "# compile to a shared library by piping C_code to gcc:\n",
    "# (only works if you have gcc installed)\n",
    "const Clib_gemm = tempname()\n",
    "using Libdl\n",
    "\n",
    "open(`gcc -fPIC -O3 -msse3 -xc -shared -o $(Clib_gemm * \".\" * Libdl.dlext) -`, \"w\") do f\n",
    "    print(f, c_code)\n",
    "end\n",
    "\n",
    "c_gemm(C::Array{Float64},A::Array{Float64},B::Array{Float64}) = @ccall Clib_gemm.gemm(C::Ptr{Float64}, A::Ptr{Float64}, B::Ptr{Float64}, size(A,1)::Clong, size(A,2)::Clong, size(B,2)::Clong)::Cvoid"
   ]
  },
  {
   "cell_type": "code",
   "execution_count": 10,
   "metadata": {},
   "outputs": [
    {
     "data": {
      "text/plain": [
       "true"
      ]
     },
     "execution_count": 10,
     "metadata": {},
     "output_type": "execute_result"
    }
   ],
   "source": [
    "c_gemm(C, A, B)\n",
    "C ≈ A*B"
   ]
  },
  {
   "cell_type": "code",
   "execution_count": 12,
   "metadata": {},
   "outputs": [
    {
     "name": "stdout",
     "output_type": "stream",
     "text": [
      "  264.835 ns (0 allocations: 0 bytes)\n",
      "  647.370 ns (0 allocations: 0 bytes)\n",
      "  80.179 ns (0 allocations: 0 bytes)\n",
      "  420.678 ns (0 allocations: 0 bytes)\n"
     ]
    }
   ],
   "source": [
    "@btime mul!($C, $A, $B);\n",
    "@btime mul_naive!($C,$A,$B);\n",
    "@btime mul_avx!($C,$A,$B);\n",
    "@btime c_gemm($C, $A, $B)"
   ]
  },
  {
   "cell_type": "markdown",
   "metadata": {},
   "source": [
    " "
   ]
  },
  {
   "cell_type": "markdown",
   "metadata": {},
   "source": [
    "**Note for larger `N`:** BLAS is multithreaded for larger `N`. In this case our `mul_avx!` is slower than `mul!`."
   ]
  },
  {
   "cell_type": "code",
   "execution_count": null,
   "metadata": {},
   "outputs": [],
   "source": [
    "N = 100\n",
    "C = zeros(N,N);\n",
    "A = rand(N,N);\n",
    "B = rand(N,N);"
   ]
  },
  {
   "cell_type": "code",
   "execution_count": null,
   "metadata": {},
   "outputs": [],
   "source": [
    "@btime mul_avx!($C, $A, $B);\n",
    "@btime mul!($C, $A, $B);"
   ]
  },
  {
   "cell_type": "markdown",
   "metadata": {},
   "source": [
    "However, [Octavian.jl](https://github.com/JuliaLinearAlgebra/Octavian.jl) is a (experimental) package that adds multithreading on top of LoopVectorization.jl. Again, we can blast OpenBLAS out of the water with pure Julia code. (Restart the kernel before executing the following.)"
   ]
  },
  {
   "cell_type": "code",
   "execution_count": null,
   "metadata": {},
   "outputs": [],
   "source": [
    "Threads.nthreads()"
   ]
  },
  {
   "cell_type": "code",
   "execution_count": null,
   "metadata": {},
   "outputs": [],
   "source": [
    "using Pkg\n",
    "pkg\"activate --temp\"\n",
    "pkg\"add Octavian\"\n",
    "pkg\"add BenchmarkTools\""
   ]
  },
  {
   "cell_type": "code",
   "execution_count": null,
   "metadata": {},
   "outputs": [],
   "source": [
    "using Octavian, LinearAlgebra, BenchmarkTools"
   ]
  },
  {
   "cell_type": "code",
   "execution_count": null,
   "metadata": {},
   "outputs": [],
   "source": [
    "N = 100; C = zeros(N,N); A = rand(N,N); B = rand(N,N);"
   ]
  },
  {
   "cell_type": "code",
   "execution_count": null,
   "metadata": {},
   "outputs": [],
   "source": [
    "@btime Octavian.matmul!($C, $A, $B);"
   ]
  },
  {
   "cell_type": "code",
   "execution_count": null,
   "metadata": {},
   "outputs": [],
   "source": [
    "@btime mul!($C, $A, $B);"
   ]
  },
  {
   "cell_type": "markdown",
   "metadata": {},
   "source": [
    " "
   ]
  },
  {
   "cell_type": "markdown",
   "metadata": {},
   "source": [
    "**Resources/more info:**\n",
    "\n",
    "https://github.com/mitmath/18S096/blob/master/lectures/lecture1/Performance-variation.ipynb\n",
    "\n",
    "https://github.com/mitmath/18S096/blob/master/lectures/lecture1/Boxes-and-registers.ipynb\n",
    "\n",
    "\n",
    "**More comprehensive benchmarks:** https://chriselrod.github.io/LoopVectorization.jl/stable/examples/matrix_multiplication/#Matrix-Multiplication"
   ]
  }
 ],
 "metadata": {
  "@webio": {
   "lastCommId": null,
   "lastKernelId": null
  },
  "kernelspec": {
   "display_name": "Julia 1.5.3",
   "language": "julia",
   "name": "julia-1.5"
  },
  "language_info": {
   "file_extension": ".jl",
   "mimetype": "application/julia",
   "name": "julia",
   "version": "1.5.3"
  }
 },
 "nbformat": 4,
 "nbformat_minor": 4
}
