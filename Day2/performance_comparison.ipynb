{
 "cells": [
  {
   "cell_type": "markdown",
   "metadata": {},
   "source": [
    "# How does Julia's performance compare to C and Python?"
   ]
  },
  {
   "cell_type": "markdown",
   "metadata": {},
   "source": [
    "Let's look at and benchmark the sum function:\n",
    "\n",
    "$$\\mathrm{sum}(x) = \\sum_{i=1}^n x_i$$"
   ]
  },
  {
   "cell_type": "code",
   "execution_count": 3,
   "metadata": {},
   "outputs": [],
   "source": [
    "x = rand(10^7);"
   ]
  },
  {
   "cell_type": "code",
   "execution_count": 4,
   "metadata": {},
   "outputs": [
    {
     "data": {
      "text/plain": [
       "5.000064512763912e6"
      ]
     },
     "execution_count": 4,
     "metadata": {},
     "output_type": "execute_result"
    }
   ],
   "source": [
    "sum(x)"
   ]
  },
  {
   "cell_type": "code",
   "execution_count": 5,
   "metadata": {},
   "outputs": [
    {
     "data": {
      "text/plain": [
       "Dict{Any,Any}()"
      ]
     },
     "execution_count": 5,
     "metadata": {},
     "output_type": "execute_result"
    }
   ],
   "source": [
    "d = Dict() # to store the measurement results"
   ]
  },
  {
   "cell_type": "markdown",
   "metadata": {},
   "source": [
    "# Python"
   ]
  },
  {
   "cell_type": "code",
   "execution_count": 62,
   "metadata": {},
   "outputs": [],
   "source": [
    "using BenchmarkTools\n",
    "using PyCall"
   ]
  },
  {
   "cell_type": "markdown",
   "metadata": {},
   "source": [
    "## numpy"
   ]
  },
  {
   "cell_type": "code",
   "execution_count": 9,
   "metadata": {},
   "outputs": [
    {
     "data": {
      "text/plain": [
       "PyObject <module 'numpy' from '/Users/crstnbr/opt/anaconda3/lib/python3.7/site-packages/numpy/__init__.py'>"
      ]
     },
     "execution_count": 9,
     "metadata": {},
     "output_type": "execute_result"
    }
   ],
   "source": [
    "np = pyimport(\"numpy\")"
   ]
  },
  {
   "cell_type": "code",
   "execution_count": 10,
   "metadata": {},
   "outputs": [
    {
     "data": {
      "text/plain": [
       "PyObject <function sum at 0x7fa2294db4d0>"
      ]
     },
     "execution_count": 10,
     "metadata": {},
     "output_type": "execute_result"
    }
   ],
   "source": [
    "numpy_sum = np.sum"
   ]
  },
  {
   "cell_type": "code",
   "execution_count": 11,
   "metadata": {},
   "outputs": [
    {
     "data": {
      "text/plain": [
       "BenchmarkTools.Trial: \n",
       "  memory estimate:  336 bytes\n",
       "  allocs estimate:  6\n",
       "  --------------\n",
       "  minimum time:     3.791 ms (0.00% GC)\n",
       "  median time:      3.994 ms (0.00% GC)\n",
       "  mean time:        4.099 ms (0.00% GC)\n",
       "  maximum time:     6.100 ms (0.00% GC)\n",
       "  --------------\n",
       "  samples:          1220\n",
       "  evals/sample:     1"
      ]
     },
     "execution_count": 11,
     "metadata": {},
     "output_type": "execute_result"
    }
   ],
   "source": [
    "b = @benchmark $numpy_sum($x)"
   ]
  },
  {
   "cell_type": "code",
   "execution_count": 12,
   "metadata": {},
   "outputs": [
    {
     "data": {
      "text/plain": [
       "3.791396"
      ]
     },
     "execution_count": 12,
     "metadata": {},
     "output_type": "execute_result"
    }
   ],
   "source": [
    "d[\"Python (numpy)\"] = minimum(b.times) / 1e6"
   ]
  },
  {
   "cell_type": "markdown",
   "metadata": {},
   "source": [
    "## hand-written"
   ]
  },
  {
   "cell_type": "code",
   "execution_count": 14,
   "metadata": {},
   "outputs": [],
   "source": [
    "py\"\"\"\n",
    "def mysum(a):\n",
    "    s = 0.0\n",
    "    for x in a:\n",
    "        s = s + x\n",
    "    return s\n",
    "\"\"\""
   ]
  },
  {
   "cell_type": "code",
   "execution_count": 15,
   "metadata": {},
   "outputs": [
    {
     "data": {
      "text/plain": [
       "PyObject <function mysum at 0x7fa22a035b90>"
      ]
     },
     "execution_count": 15,
     "metadata": {},
     "output_type": "execute_result"
    }
   ],
   "source": [
    "mysum_py = py\"mysum\""
   ]
  },
  {
   "cell_type": "code",
   "execution_count": 20,
   "metadata": {},
   "outputs": [],
   "source": [
    "# call a low-level PyCall function to get a Python list, because\n",
    "# by default PyCall will convert to a NumPy array instead (we benchmark NumPy below):\n",
    "xpy_list = PyCall.array2py(x);"
   ]
  },
  {
   "cell_type": "code",
   "execution_count": 21,
   "metadata": {},
   "outputs": [
    {
     "data": {
      "text/plain": [
       "BenchmarkTools.Trial: \n",
       "  memory estimate:  32 bytes\n",
       "  allocs estimate:  2\n",
       "  --------------\n",
       "  minimum time:     210.815 ms (0.00% GC)\n",
       "  median time:      214.834 ms (0.00% GC)\n",
       "  mean time:        218.635 ms (0.00% GC)\n",
       "  maximum time:     237.063 ms (0.00% GC)\n",
       "  --------------\n",
       "  samples:          23\n",
       "  evals/sample:     1"
      ]
     },
     "execution_count": 21,
     "metadata": {},
     "output_type": "execute_result"
    }
   ],
   "source": [
    "b = @benchmark $mysum_py($xpy_list)"
   ]
  },
  {
   "cell_type": "code",
   "execution_count": 22,
   "metadata": {},
   "outputs": [
    {
     "data": {
      "text/plain": [
       "210.815487"
      ]
     },
     "execution_count": 22,
     "metadata": {},
     "output_type": "execute_result"
    }
   ],
   "source": [
    "d[\"Python (hand-written)\"] = minimum(b.times) / 1e6"
   ]
  },
  {
   "cell_type": "markdown",
   "metadata": {},
   "source": [
    "## built-in"
   ]
  },
  {
   "cell_type": "code",
   "execution_count": 23,
   "metadata": {},
   "outputs": [
    {
     "data": {
      "text/plain": [
       "PyObject <built-in function sum>"
      ]
     },
     "execution_count": 23,
     "metadata": {},
     "output_type": "execute_result"
    }
   ],
   "source": [
    "# get the Python built-in \"sum\" function:\n",
    "pysum = pybuiltin(\"sum\")"
   ]
  },
  {
   "cell_type": "code",
   "execution_count": 24,
   "metadata": {},
   "outputs": [
    {
     "data": {
      "text/plain": [
       "BenchmarkTools.Trial: \n",
       "  memory estimate:  32 bytes\n",
       "  allocs estimate:  2\n",
       "  --------------\n",
       "  minimum time:     54.422 ms (0.00% GC)\n",
       "  median time:      62.803 ms (0.00% GC)\n",
       "  mean time:        62.836 ms (0.00% GC)\n",
       "  maximum time:     71.827 ms (0.00% GC)\n",
       "  --------------\n",
       "  samples:          80\n",
       "  evals/sample:     1"
      ]
     },
     "execution_count": 24,
     "metadata": {},
     "output_type": "execute_result"
    }
   ],
   "source": [
    "b = @benchmark $pysum($xpy_list)"
   ]
  },
  {
   "cell_type": "code",
   "execution_count": 25,
   "metadata": {},
   "outputs": [
    {
     "data": {
      "text/plain": [
       "54.421817"
      ]
     },
     "execution_count": 25,
     "metadata": {},
     "output_type": "execute_result"
    }
   ],
   "source": [
    "d[\"Python (built-in)\"] = minimum(b.times) / 1e6"
   ]
  },
  {
   "cell_type": "markdown",
   "metadata": {},
   "source": [
    "# C"
   ]
  },
  {
   "cell_type": "markdown",
   "metadata": {},
   "source": [
    "## hand-written"
   ]
  },
  {
   "cell_type": "code",
   "execution_count": 26,
   "metadata": {},
   "outputs": [],
   "source": [
    "c_code = \"\"\"\n",
    "#include <stddef.h>\n",
    "double c_sum(size_t n, double *X) {\n",
    "    double s = 0.0;\n",
    "    for (size_t i = 0; i < n; ++i) {\n",
    "        s += X[i];\n",
    "    }\n",
    "    return s;\n",
    "}\n",
    "\"\"\";"
   ]
  },
  {
   "cell_type": "code",
   "execution_count": 27,
   "metadata": {},
   "outputs": [],
   "source": [
    "# compile to a shared library by piping C_code to gcc:\n",
    "# (only works if you have gcc installed)\n",
    "const Clib = tempname()\n",
    "using Libdl"
   ]
  },
  {
   "cell_type": "code",
   "execution_count": 28,
   "metadata": {},
   "outputs": [],
   "source": [
    "open(`gcc -fPIC -O3 -msse3 -xc -shared -o $(Clib * \".\" * Libdl.dlext) -`, \"w\") do f\n",
    "    print(f, c_code)\n",
    "end"
   ]
  },
  {
   "cell_type": "code",
   "execution_count": 29,
   "metadata": {},
   "outputs": [
    {
     "data": {
      "text/plain": [
       "c_sum (generic function with 1 method)"
      ]
     },
     "execution_count": 29,
     "metadata": {},
     "output_type": "execute_result"
    }
   ],
   "source": [
    "c_sum(X::Array{Float64}) = ccall((\"c_sum\", Clib), Float64, (Csize_t, Ptr{Float64}), length(X), X)"
   ]
  },
  {
   "cell_type": "code",
   "execution_count": 30,
   "metadata": {},
   "outputs": [
    {
     "data": {
      "text/plain": [
       "true"
      ]
     },
     "execution_count": 30,
     "metadata": {},
     "output_type": "execute_result"
    }
   ],
   "source": [
    "c_sum(x) ≈ sum(x)"
   ]
  },
  {
   "cell_type": "code",
   "execution_count": 31,
   "metadata": {},
   "outputs": [
    {
     "data": {
      "text/plain": [
       "BenchmarkTools.Trial: \n",
       "  memory estimate:  0 bytes\n",
       "  allocs estimate:  0\n",
       "  --------------\n",
       "  minimum time:     10.578 ms (0.00% GC)\n",
       "  median time:      11.950 ms (0.00% GC)\n",
       "  mean time:        11.982 ms (0.00% GC)\n",
       "  maximum time:     14.829 ms (0.00% GC)\n",
       "  --------------\n",
       "  samples:          418\n",
       "  evals/sample:     1"
      ]
     },
     "execution_count": 31,
     "metadata": {},
     "output_type": "execute_result"
    }
   ],
   "source": [
    "b = @benchmark c_sum($x)"
   ]
  },
  {
   "cell_type": "code",
   "execution_count": 32,
   "metadata": {},
   "outputs": [
    {
     "data": {
      "text/plain": [
       "10.578369"
      ]
     },
     "execution_count": 32,
     "metadata": {},
     "output_type": "execute_result"
    }
   ],
   "source": [
    "d[\"C\"] = minimum(b.times) / 1e6"
   ]
  },
  {
   "cell_type": "markdown",
   "metadata": {},
   "source": [
    "## hand-written (with `-fast-math`)"
   ]
  },
  {
   "cell_type": "code",
   "execution_count": 33,
   "metadata": {},
   "outputs": [
    {
     "data": {
      "text/plain": [
       "c_sum_fastmath (generic function with 1 method)"
      ]
     },
     "execution_count": 33,
     "metadata": {},
     "output_type": "execute_result"
    }
   ],
   "source": [
    "const Clib_fastmath = tempname()   # make a temporary file\n",
    "\n",
    "# The same as above but with a -ffast-math flag added\n",
    "open(`gcc -fPIC -O3 -msse3 -xc -shared -ffast-math -o $(Clib_fastmath * \".\" * Libdl.dlext) -`, \"w\") do f\n",
    "    print(f, c_code) \n",
    "end\n",
    "\n",
    "# define a Julia function that calls the C function:\n",
    "c_sum_fastmath(X::Array{Float64}) = ccall((\"c_sum\", Clib_fastmath), Float64, (Csize_t, Ptr{Float64}), length(X), X)"
   ]
  },
  {
   "cell_type": "code",
   "execution_count": 34,
   "metadata": {},
   "outputs": [
    {
     "data": {
      "text/plain": [
       "BenchmarkTools.Trial: \n",
       "  memory estimate:  0 bytes\n",
       "  allocs estimate:  0\n",
       "  --------------\n",
       "  minimum time:     3.717 ms (0.00% GC)\n",
       "  median time:      4.507 ms (0.00% GC)\n",
       "  mean time:        4.551 ms (0.00% GC)\n",
       "  maximum time:     8.822 ms (0.00% GC)\n",
       "  --------------\n",
       "  samples:          1098\n",
       "  evals/sample:     1"
      ]
     },
     "execution_count": 34,
     "metadata": {},
     "output_type": "execute_result"
    }
   ],
   "source": [
    "b = @benchmark c_sum_fastmath($x)"
   ]
  },
  {
   "cell_type": "code",
   "execution_count": 35,
   "metadata": {},
   "outputs": [
    {
     "data": {
      "text/plain": [
       "3.717225"
      ]
     },
     "execution_count": 35,
     "metadata": {},
     "output_type": "execute_result"
    }
   ],
   "source": [
    "d[\"C (fastmath)\"] = minimum(b.times) / 1e6"
   ]
  },
  {
   "cell_type": "markdown",
   "metadata": {},
   "source": [
    "# Julia"
   ]
  },
  {
   "cell_type": "markdown",
   "metadata": {},
   "source": [
    "## built-in"
   ]
  },
  {
   "cell_type": "code",
   "execution_count": 51,
   "metadata": {},
   "outputs": [
    {
     "data": {
      "text/plain": [
       "BenchmarkTools.Trial: \n",
       "  memory estimate:  0 bytes\n",
       "  allocs estimate:  0\n",
       "  --------------\n",
       "  minimum time:     3.453 ms (0.00% GC)\n",
       "  median time:      4.646 ms (0.00% GC)\n",
       "  mean time:        4.647 ms (0.00% GC)\n",
       "  maximum time:     9.032 ms (0.00% GC)\n",
       "  --------------\n",
       "  samples:          1076\n",
       "  evals/sample:     1"
      ]
     },
     "execution_count": 51,
     "metadata": {},
     "output_type": "execute_result"
    }
   ],
   "source": [
    "b = @benchmark sum($x)"
   ]
  },
  {
   "cell_type": "code",
   "execution_count": 52,
   "metadata": {},
   "outputs": [
    {
     "data": {
      "text/plain": [
       "3.452827"
      ]
     },
     "execution_count": 52,
     "metadata": {},
     "output_type": "execute_result"
    }
   ],
   "source": [
    "d[\"Julia (built-in)\"] = minimum(b.times) / 1e6"
   ]
  },
  {
   "cell_type": "markdown",
   "metadata": {},
   "source": [
    "## built-in (with `Vector{Any}`)"
   ]
  },
  {
   "cell_type": "code",
   "execution_count": 53,
   "metadata": {},
   "outputs": [
    {
     "data": {
      "text/plain": [
       "BenchmarkTools.Trial: \n",
       "  memory estimate:  152.59 MiB\n",
       "  allocs estimate:  9999999\n",
       "  --------------\n",
       "  minimum time:     188.855 ms (0.00% GC)\n",
       "  median time:      228.223 ms (7.31% GC)\n",
       "  mean time:        227.978 ms (8.67% GC)\n",
       "  maximum time:     287.137 ms (16.20% GC)\n",
       "  --------------\n",
       "  samples:          22\n",
       "  evals/sample:     1"
      ]
     },
     "execution_count": 53,
     "metadata": {},
     "output_type": "execute_result"
    }
   ],
   "source": [
    "x_any = Vector{Any}(x)\n",
    "b = @benchmark sum($x_any)"
   ]
  },
  {
   "cell_type": "code",
   "execution_count": 54,
   "metadata": {},
   "outputs": [
    {
     "data": {
      "text/plain": [
       "188.8551"
      ]
     },
     "execution_count": 54,
     "metadata": {},
     "output_type": "execute_result"
    }
   ],
   "source": [
    "d[\"Julia (built-in, Any)\"] = minimum(b.times) / 1e6"
   ]
  },
  {
   "cell_type": "markdown",
   "metadata": {},
   "source": [
    "## hand-written"
   ]
  },
  {
   "cell_type": "code",
   "execution_count": 55,
   "metadata": {},
   "outputs": [
    {
     "data": {
      "text/plain": [
       "mysum (generic function with 1 method)"
      ]
     },
     "execution_count": 55,
     "metadata": {},
     "output_type": "execute_result"
    }
   ],
   "source": [
    "function mysum(A)\n",
    "    s = zero(eltype(A)) # the correct type of zero for A\n",
    "    for a in A\n",
    "        s += a\n",
    "    end\n",
    "    return s\n",
    "end"
   ]
  },
  {
   "cell_type": "code",
   "execution_count": 56,
   "metadata": {},
   "outputs": [
    {
     "data": {
      "text/plain": [
       "BenchmarkTools.Trial: \n",
       "  memory estimate:  0 bytes\n",
       "  allocs estimate:  0\n",
       "  --------------\n",
       "  minimum time:     11.009 ms (0.00% GC)\n",
       "  median time:      12.948 ms (0.00% GC)\n",
       "  mean time:        13.018 ms (0.00% GC)\n",
       "  maximum time:     18.651 ms (0.00% GC)\n",
       "  --------------\n",
       "  samples:          384\n",
       "  evals/sample:     1"
      ]
     },
     "execution_count": 56,
     "metadata": {},
     "output_type": "execute_result"
    }
   ],
   "source": [
    "b = @benchmark mysum($x)"
   ]
  },
  {
   "cell_type": "code",
   "execution_count": 57,
   "metadata": {},
   "outputs": [
    {
     "data": {
      "text/plain": [
       "11.008869"
      ]
     },
     "execution_count": 57,
     "metadata": {},
     "output_type": "execute_result"
    }
   ],
   "source": [
    "d[\"Julia (hand-written)\"] = minimum(b.times) / 1e6"
   ]
  },
  {
   "cell_type": "markdown",
   "metadata": {},
   "source": [
    "## hand-written (with `@simd`)"
   ]
  },
  {
   "cell_type": "code",
   "execution_count": 58,
   "metadata": {},
   "outputs": [
    {
     "data": {
      "text/plain": [
       "mysum_simd (generic function with 1 method)"
      ]
     },
     "execution_count": 58,
     "metadata": {},
     "output_type": "execute_result"
    }
   ],
   "source": [
    "function mysum_simd(A)\n",
    "    s = zero(eltype(A)) # the correct type of zero for A\n",
    "    @simd for a in A\n",
    "        s += a\n",
    "    end\n",
    "    return s\n",
    "end"
   ]
  },
  {
   "cell_type": "code",
   "execution_count": 59,
   "metadata": {},
   "outputs": [
    {
     "data": {
      "text/plain": [
       "BenchmarkTools.Trial: \n",
       "  memory estimate:  0 bytes\n",
       "  allocs estimate:  0\n",
       "  --------------\n",
       "  minimum time:     3.468 ms (0.00% GC)\n",
       "  median time:      4.810 ms (0.00% GC)\n",
       "  mean time:        4.851 ms (0.00% GC)\n",
       "  maximum time:     16.269 ms (0.00% GC)\n",
       "  --------------\n",
       "  samples:          1030\n",
       "  evals/sample:     1"
      ]
     },
     "execution_count": 59,
     "metadata": {},
     "output_type": "execute_result"
    }
   ],
   "source": [
    "b = @benchmark mysum_simd($x)"
   ]
  },
  {
   "cell_type": "code",
   "execution_count": 60,
   "metadata": {},
   "outputs": [
    {
     "data": {
      "text/plain": [
       "3.468321"
      ]
     },
     "execution_count": 60,
     "metadata": {},
     "output_type": "execute_result"
    }
   ],
   "source": [
    "d[\"Julia (hand-written, simd)\"] = minimum(b.times) / 1e6"
   ]
  },
  {
   "cell_type": "markdown",
   "metadata": {},
   "source": [
    "## Summary"
   ]
  },
  {
   "cell_type": "code",
   "execution_count": 61,
   "metadata": {},
   "outputs": [
    {
     "name": "stdout",
     "output_type": "stream",
     "text": [
      "Julia (built-in)....................3.45\n",
      "Julia (hand-written, simd)..........3.47\n",
      "C (fastmath)........................3.72\n",
      "Python (numpy)......................3.79\n",
      "C..................................10.58\n",
      "Julia (hand-written)...............11.01\n",
      "Python (built-in)..................54.42\n",
      "Julia (built-in, Any).............188.86\n",
      "Python (hand-written).............210.82\n"
     ]
    }
   ],
   "source": [
    "for (key, value) in sort(collect(d), by=x->x[2])\n",
    "    println(rpad(key, 30, \".\"), lpad(round(value, digits=2), 10, \".\"))\n",
    "end"
   ]
  },
  {
   "cell_type": "markdown",
   "metadata": {},
   "source": [
    "And of course, our hand-written Julia implementation is type-generic!"
   ]
  },
  {
   "cell_type": "markdown",
   "metadata": {},
   "source": [
    " "
   ]
  },
  {
   "cell_type": "markdown",
   "metadata": {},
   "source": [
    "# What about other functions?"
   ]
  },
  {
   "cell_type": "markdown",
   "metadata": {},
   "source": [
    "### Log"
   ]
  },
  {
   "cell_type": "code",
   "execution_count": 40,
   "metadata": {},
   "outputs": [
    {
     "name": "stdout",
     "output_type": "stream",
     "text": [
      "  5.277 ns (0 allocations: 0 bytes)\n",
      "  4.664 ns (0 allocations: 0 bytes)\n",
      "  4.356 ns (0 allocations: 0 bytes)\n"
     ]
    }
   ],
   "source": [
    "using BenchmarkTools\n",
    "\n",
    "# uses the system C library\n",
    "clog(x) = ccall(:log, Float64, (Float64,), x)\n",
    "# uses LLVM's log\n",
    "llvmlog(x) =  ccall(Symbol(\"llvm.log.f64\"), llvmcall, Float64, (Float64,), x)\n",
    "\n",
    "@btime log($(Ref(1.2))[])    \n",
    "@btime clog($(Ref(1.2))[])    \n",
    "@btime llvmlog($(Ref(1.2))[]);"
   ]
  },
  {
   "cell_type": "code",
   "execution_count": 41,
   "metadata": {},
   "outputs": [
    {
     "data": {
      "text/html": [
       "log(x::<b>Float64</b>) in Base.Math at <a href=\"https://github.com/JuliaLang/julia/tree/788b2c77c10c2160f4794a4d4b6b81a95a90940c/base/special/log.jl#L253\" target=\"_blank\">special/log.jl:253</a>"
      ],
      "text/plain": [
       "log(x::Float64) in Base.Math at special/log.jl:253"
      ]
     },
     "execution_count": 41,
     "metadata": {},
     "output_type": "execute_result"
    }
   ],
   "source": [
    "@which log(1.2)"
   ]
  },
  {
   "cell_type": "markdown",
   "metadata": {},
   "source": [
    "### Exp"
   ]
  },
  {
   "cell_type": "code",
   "execution_count": 42,
   "metadata": {},
   "outputs": [
    {
     "name": "stdout",
     "output_type": "stream",
     "text": [
      "  7.115 ns (0 allocations: 0 bytes)\n",
      "  4.747 ns (0 allocations: 0 bytes)\n",
      "  4.346 ns (0 allocations: 0 bytes)\n"
     ]
    }
   ],
   "source": [
    "using BenchmarkTools\n",
    "\n",
    "# uses the system C library\n",
    "cexp(x) = ccall(:exp, Float64, (Float64,), x)\n",
    "# uses LLVM's\n",
    "llvmexp(x) =  ccall(Symbol(\"llvm.exp.f64\"), llvmcall, Float64, (Float64,), x)\n",
    "\n",
    "@btime exp($(Ref(1.2))[])    \n",
    "@btime cexp($(Ref(1.2))[])    \n",
    "@btime llvmexp($(Ref(1.2))[]);"
   ]
  },
  {
   "cell_type": "markdown",
   "metadata": {},
   "source": [
    "(`6.037 ns` on Julia 1.6)"
   ]
  },
  {
   "cell_type": "code",
   "execution_count": 43,
   "metadata": {},
   "outputs": [
    {
     "data": {
      "text/html": [
       "exp(x::<b>T</b>)<i> where T<:Union{Float32, Float64}</i> in Base.Math at <a href=\"https://github.com/JuliaLang/julia/tree/788b2c77c10c2160f4794a4d4b6b81a95a90940c/base/special/exp.jl#L74\" target=\"_blank\">special/exp.jl:74</a>"
      ],
      "text/plain": [
       "exp(x::T) where T<:Union{Float32, Float64} in Base.Math at special/exp.jl:74"
      ]
     },
     "execution_count": 43,
     "metadata": {},
     "output_type": "execute_result"
    }
   ],
   "source": [
    "@which exp(1.2)"
   ]
  },
  {
   "cell_type": "markdown",
   "metadata": {},
   "source": [
    "### Matrix multiplication"
   ]
  },
  {
   "cell_type": "code",
   "execution_count": 44,
   "metadata": {},
   "outputs": [
    {
     "data": {
      "text/plain": [
       "A_mul_B! (generic function with 1 method)"
      ]
     },
     "execution_count": 44,
     "metadata": {},
     "output_type": "execute_result"
    }
   ],
   "source": [
    "using BenchmarkTools\n",
    "\n",
    "function A_mul_B!(𝐂, 𝐀, 𝐁)\n",
    "   @inbounds for m ∈ axes(𝐀,1), n ∈ axes(𝐁,2)\n",
    "       𝐂mn = zero(eltype(𝐂))\n",
    "       for k ∈ axes(𝐀,2)\n",
    "           𝐂mn += 𝐀[m,k] * 𝐁[k,n]\n",
    "       end\n",
    "       𝐂[m,n] = 𝐂mn\n",
    "   end\n",
    "end"
   ]
  },
  {
   "cell_type": "code",
   "execution_count": 45,
   "metadata": {},
   "outputs": [],
   "source": [
    "N = 10\n",
    "C = zeros(N,N);\n",
    "A = rand(N,N);\n",
    "B = rand(N,N);"
   ]
  },
  {
   "cell_type": "code",
   "execution_count": 46,
   "metadata": {},
   "outputs": [
    {
     "name": "stdout",
     "output_type": "stream",
     "text": [
      "  631.552 ns (0 allocations: 0 bytes)\n"
     ]
    }
   ],
   "source": [
    "@btime A_mul_B!($C,$A,$B);"
   ]
  },
  {
   "cell_type": "markdown",
   "metadata": {},
   "source": [
    "[LoopVectorization.jl](https://github.com/chriselrod/LoopVectorization.jl)"
   ]
  },
  {
   "cell_type": "code",
   "execution_count": 47,
   "metadata": {},
   "outputs": [
    {
     "data": {
      "text/plain": [
       "A_mul_B_avx! (generic function with 1 method)"
      ]
     },
     "execution_count": 47,
     "metadata": {},
     "output_type": "execute_result"
    }
   ],
   "source": [
    "using LoopVectorization\n",
    "\n",
    "function A_mul_B_avx!(𝐂, 𝐀, 𝐁)\n",
    "   @avx for m ∈ axes(𝐀,1), n ∈ axes(𝐁,2)\n",
    "       𝐂mn = zero(eltype(𝐂))\n",
    "       for k ∈ axes(𝐀,2)\n",
    "           𝐂mn += 𝐀[m,k] * 𝐁[k,n]\n",
    "       end\n",
    "       𝐂[m,n] = 𝐂mn\n",
    "   end\n",
    "end"
   ]
  },
  {
   "cell_type": "code",
   "execution_count": 48,
   "metadata": {},
   "outputs": [
    {
     "name": "stdout",
     "output_type": "stream",
     "text": [
      "  81.066 ns (0 allocations: 0 bytes)\n"
     ]
    }
   ],
   "source": [
    "@btime A_mul_B_avx!($C,$A,$B);"
   ]
  },
  {
   "cell_type": "code",
   "execution_count": 49,
   "metadata": {},
   "outputs": [
    {
     "name": "stdout",
     "output_type": "stream",
     "text": [
      "  258.555 ns (0 allocations: 0 bytes)\n"
     ]
    }
   ],
   "source": [
    "using LinearAlgebra\n",
    "\n",
    "@btime mul!($C, $A, $B); # calls underlying BLAS"
   ]
  },
  {
   "cell_type": "code",
   "execution_count": 12,
   "metadata": {},
   "outputs": [],
   "source": [
    "c_code = \"\"\"\n",
    "#include <stddef.h>\n",
    "#include <math.h>\n",
    "\n",
    "void gemm_mnk(double* restrict C, double* restrict A, double* restrict B, long M, long K, long N){\n",
    "  for (long i = 0; i < M*N; i++){\n",
    "    C[i] = 0.0;\n",
    "  }\n",
    "  for (long m = 0; m < M; m++){\n",
    "    for (long n = 0; n < N; n++){\n",
    "      for (long k = 0; k < K; k++){\n",
    "\tC[m + n*M] += A[m + k*M] * B[k + n*K];\n",
    "      }\n",
    "    }\n",
    "  }\n",
    "  return;\n",
    "}\n",
    "void gemm_mkn(double* restrict C, double* restrict A, double* restrict B, long M, long K, long N){\n",
    "  for (long i = 0; i < M*N; i++){\n",
    "    C[i] = 0.0;\n",
    "  }\n",
    "  for (long m = 0; m < M; m++){\n",
    "    for (long k = 0; k < K; k++){\n",
    "      for (long n = 0; n < N; n++){\n",
    "\tC[m + n*M] += A[m + k*M] * B[k + n*K];\n",
    "      }\n",
    "    }\n",
    "  }\n",
    "  return;\n",
    "}\n",
    "void gemm_nmk(double* restrict C, double* restrict A, double* restrict B, long M, long K, long N){\n",
    "  for (long i = 0; i < M*N; i++){\n",
    "    C[i] = 0.0;\n",
    "  }\n",
    "  for (long n = 0; n < N; n++){\n",
    "    for (long m = 0; m < M; m++){\n",
    "      for (long k = 0; k < K; k++){\n",
    "\tC[m + n*M] += A[m + k*M] * B[k + n*K];\n",
    "      }\n",
    "    }\n",
    "  }\n",
    "  return;\n",
    "}\n",
    "void gemm_nkm(double* restrict C, double* restrict A, double* restrict B, long M, long K, long N){\n",
    "  for (long i = 0; i < M*N; i++){\n",
    "    C[i] = 0.0;\n",
    "  }\n",
    "  for (long n = 0; n < N; n++){\n",
    "    for (long k = 0; k < K; k++){\n",
    "      for (long m = 0; m < M; m++){\n",
    "\tC[m + n*M] += A[m + k*M] * B[k + n*K];\n",
    "      }\n",
    "    }\n",
    "  }\n",
    "  return;\n",
    "}\n",
    "void gemm_kmn(double* restrict C, double* restrict A, double* restrict B, long M, long K, long N){\n",
    "  for (long i = 0; i < M*N; i++){\n",
    "    C[i] = 0.0;\n",
    "  }\n",
    "  for (long k = 0; k < K; k++){\n",
    "    for (long m = 0; m < M; m++){\n",
    "      for (long n = 0; n < N; n++){\n",
    "\tC[m + n*M] += A[m + k*M] * B[k + n*K];\n",
    "      }\n",
    "    }\n",
    "  }\n",
    "  return;\n",
    "}\n",
    "void gemm_knm(double* restrict C, double* restrict A, double* restrict B, long M, long K, long N){\n",
    "  for (long i = 0; i < M*N; i++){\n",
    "    C[i] = 0.0;\n",
    "  }\n",
    "  for (long k = 0; k < K; k++){\n",
    "    for (long n = 0; n < N; n++){\n",
    "      for (long m = 0; m < M; m++){\n",
    "\tC[m + n*M] += A[m + k*M] * B[k + n*K];\n",
    "      }\n",
    "    }\n",
    "  }\n",
    "  return;\n",
    "}\n",
    "\"\"\";"
   ]
  },
  {
   "cell_type": "code",
   "execution_count": 13,
   "metadata": {},
   "outputs": [
    {
     "data": {
      "text/plain": [
       "c_gemm_knm (generic function with 1 method)"
      ]
     },
     "execution_count": 13,
     "metadata": {},
     "output_type": "execute_result"
    }
   ],
   "source": [
    "# compile to a shared library by piping C_code to gcc:\n",
    "# (only works if you have gcc installed)\n",
    "const Clib = tempname()\n",
    "using Libdl\n",
    "\n",
    "open(`gcc -fPIC -O3 -msse3 -xc -shared -o $(Clib * \".\" * Libdl.dlext) -`, \"w\") do f\n",
    "    print(f, c_code)\n",
    "end\n",
    "\n",
    "c_gemm_mnk(C::Array{Float64},A::Array{Float64},B::Array{Float64}) = ccall((\"gemm_mnk\", Clib), Cvoid, (Ptr{Float64}, Ptr{Float64}, Ptr{Float64}, Clong, Clong, Clong), C, A, B, size(A,1), size(A,2), size(B, 2))\n",
    "\n",
    "c_gemm_mkn(C::Array{Float64},A::Array{Float64},B::Array{Float64}) = ccall((\"gemm_mkn\", Clib), Cvoid, (Ptr{Float64}, Ptr{Float64}, Ptr{Float64}, Clong, Clong, Clong), C, A, B, size(A,1), size(A,2), size(B, 2))\n",
    "\n",
    "c_gemm_nmk(C::Array{Float64},A::Array{Float64},B::Array{Float64}) = ccall((\"gemm_nmk\", Clib), Cvoid, (Ptr{Float64}, Ptr{Float64}, Ptr{Float64}, Clong, Clong, Clong), C, A, B, size(A,1), size(A,2), size(B, 2))\n",
    "\n",
    "c_gemm_nkm(C::Array{Float64},A::Array{Float64},B::Array{Float64}) = ccall((\"gemm_nkm\", Clib), Cvoid, (Ptr{Float64}, Ptr{Float64}, Ptr{Float64}, Clong, Clong, Clong), C, A, B, size(A,1), size(A,2), size(B, 2))\n",
    "\n",
    "c_gemm_kmn(C::Array{Float64},A::Array{Float64},B::Array{Float64}) = ccall((\"gemm_kmn\", Clib), Cvoid, (Ptr{Float64}, Ptr{Float64}, Ptr{Float64}, Clong, Clong, Clong), C, A, B, size(A,1), size(A,2), size(B, 2))\n",
    "\n",
    "c_gemm_knm(C::Array{Float64},A::Array{Float64},B::Array{Float64}) = ccall((\"gemm_knm\", Clib), Cvoid, (Ptr{Float64}, Ptr{Float64}, Ptr{Float64}, Clong, Clong, Clong), C, A, B, size(A,1), size(A,2), size(B, 2))"
   ]
  },
  {
   "cell_type": "code",
   "execution_count": 14,
   "metadata": {},
   "outputs": [],
   "source": [
    "C2 = zeros(N,N);\n",
    "c_gemm_mnk(C2, A, B)\n",
    "@assert C ≈ C2\n",
    "c_gemm_mkn(C2, A, B)\n",
    "@assert C ≈ C2\n",
    "c_gemm_nmk(C2, A, B)\n",
    "@assert C ≈ C2\n",
    "c_gemm_nkm(C2, A, B)\n",
    "@assert C ≈ C2\n",
    "c_gemm_kmn(C2, A, B)\n",
    "@assert C ≈ C2\n",
    "c_gemm_knm(C2, A, B)\n",
    "@assert C ≈ C2"
   ]
  },
  {
   "cell_type": "code",
   "execution_count": 15,
   "metadata": {},
   "outputs": [
    {
     "name": "stdout",
     "output_type": "stream",
     "text": [
      "  473.518 ns (0 allocations: 0 bytes)\n",
      "  742.070 ns (0 allocations: 0 bytes)\n",
      "  413.734 ns (0 allocations: 0 bytes)\n",
      "  403.945 ns (0 allocations: 0 bytes)\n",
      "  716.914 ns (0 allocations: 0 bytes)\n",
      "  432.347 ns (0 allocations: 0 bytes)\n"
     ]
    }
   ],
   "source": [
    "@btime c_gemm_mnk($C2, $A, $B)\n",
    "@btime c_gemm_mkn($C2, $A, $B)\n",
    "@btime c_gemm_nmk($C2, $A, $B)\n",
    "@btime c_gemm_nkm($C2, $A, $B)\n",
    "@btime c_gemm_kmn($C2, $A, $B)\n",
    "@btime c_gemm_knm($C2, $A, $B)"
   ]
  },
  {
   "cell_type": "markdown",
   "metadata": {},
   "source": [
    "**Note for larger `N`:** BLAS is multithreaded for larger `N`. In this case our `A_mul_B_avx!` is slower than `mul!`."
   ]
  },
  {
   "cell_type": "code",
   "execution_count": 16,
   "metadata": {},
   "outputs": [],
   "source": [
    "N = 100\n",
    "C = zeros(N,N);\n",
    "A = rand(N,N);\n",
    "B = rand(N,N);"
   ]
  },
  {
   "cell_type": "code",
   "execution_count": 17,
   "metadata": {},
   "outputs": [
    {
     "name": "stdout",
     "output_type": "stream",
     "text": [
      "  43.625 μs (0 allocations: 0 bytes)\n"
     ]
    }
   ],
   "source": [
    "@btime A_mul_B_avx!($C, $A, $B);"
   ]
  },
  {
   "cell_type": "code",
   "execution_count": 18,
   "metadata": {},
   "outputs": [
    {
     "name": "stdout",
     "output_type": "stream",
     "text": [
      "  19.485 μs (0 allocations: 0 bytes)\n"
     ]
    }
   ],
   "source": [
    "@btime mul!($C, $A, $B);"
   ]
  },
  {
   "cell_type": "markdown",
   "metadata": {},
   "source": [
    "However, [Octavian.jl](https://github.com/JuliaLinearAlgebra/Octavian.jl) is a (experimental) package that adds multithreading on top of LoopVectorization.jl. Again, we can blast OpenBLAS out of the water with pure Julia code. (Restart the kernel before executing the following.)"
   ]
  },
  {
   "cell_type": "code",
   "execution_count": 9,
   "metadata": {},
   "outputs": [
    {
     "data": {
      "text/plain": [
       "6"
      ]
     },
     "execution_count": 9,
     "metadata": {},
     "output_type": "execute_result"
    }
   ],
   "source": [
    "Threads.nthreads()"
   ]
  },
  {
   "cell_type": "code",
   "execution_count": 1,
   "metadata": {},
   "outputs": [],
   "source": [
    "using Pkg\n",
    "pkg\"activate --temp\"\n",
    "pkg\"add Octavian\"\n",
    "pkg\"add BenchmarkTools\""
   ]
  },
  {
   "cell_type": "code",
   "execution_count": 2,
   "metadata": {},
   "outputs": [],
   "source": [
    "using Octavian, LinearAlgebra, BenchmarkTools"
   ]
  },
  {
   "cell_type": "code",
   "execution_count": 5,
   "metadata": {},
   "outputs": [],
   "source": [
    "N = 100; C = zeros(N,N); A = rand(N,N); B = rand(N,N);"
   ]
  },
  {
   "cell_type": "code",
   "execution_count": 6,
   "metadata": {},
   "outputs": [
    {
     "name": "stdout",
     "output_type": "stream",
     "text": [
      "  8.810 μs (0 allocations: 0 bytes)\n"
     ]
    }
   ],
   "source": [
    "@btime Octavian.matmul!($C, $A, $B);"
   ]
  },
  {
   "cell_type": "code",
   "execution_count": 7,
   "metadata": {},
   "outputs": [
    {
     "name": "stdout",
     "output_type": "stream",
     "text": [
      "  18.590 μs (0 allocations: 0 bytes)\n"
     ]
    }
   ],
   "source": [
    "@btime mul!($C, $A, $B);"
   ]
  },
  {
   "cell_type": "markdown",
   "metadata": {},
   "source": [
    " "
   ]
  },
  {
   "cell_type": "markdown",
   "metadata": {},
   "source": [
    "**Resources/more info:**\n",
    "\n",
    "https://github.com/mitmath/18S096/blob/master/lectures/lecture1/Performance-variation.ipynb\n",
    "\n",
    "https://github.com/mitmath/18S096/blob/master/lectures/lecture1/Boxes-and-registers.ipynb\n",
    "\n",
    "\n",
    "**More comprehensive benchmarks:** https://chriselrod.github.io/LoopVectorization.jl/stable/examples/matrix_multiplication/#Matrix-Multiplication"
   ]
  }
 ],
 "metadata": {
  "@webio": {
   "lastCommId": null,
   "lastKernelId": null
  },
  "kernelspec": {
   "display_name": "Julia 1.5.3",
   "language": "julia",
   "name": "julia-1.5"
  },
  "language_info": {
   "file_extension": ".jl",
   "mimetype": "application/julia",
   "name": "julia",
   "version": "1.5.3"
  }
 },
 "nbformat": 4,
 "nbformat_minor": 4
}
